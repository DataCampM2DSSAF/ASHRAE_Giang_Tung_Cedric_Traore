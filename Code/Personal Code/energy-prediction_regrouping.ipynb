{
 "cells": [
  {
   "cell_type": "markdown",
   "metadata": {
    "papermill": {
     "duration": 0.045419,
     "end_time": "2021-03-09T23:38:51.804609",
     "exception": false,
     "start_time": "2021-03-09T23:38:51.759190",
     "status": "completed"
    },
    "tags": []
   },
   "source": [
    "Improvement from the first submission:\n",
    "- Preprocessing:\n",
    "    - Missing data\n",
    "        Air_temperature: fill with values from previous days\n",
    "        Fill others variables\n",
    "    - Timestamps alignment\n",
    "    - Target variable : \n",
    "        - Remove outliers\n",
    "        - Log1p transformation\n",
    "- Feature engineering:\n",
    "    - Study the correlation between variables\n",
    "    - Regrouping features\n",
    "- Predict on subsets of the test set (due to the limitation of memory)"
   ]
  },
  {
   "cell_type": "markdown",
   "metadata": {
    "papermill": {
     "duration": 0.043033,
     "end_time": "2021-03-09T23:38:51.891261",
     "exception": false,
     "start_time": "2021-03-09T23:38:51.848228",
     "status": "completed"
    },
    "tags": []
   },
   "source": [
    "<a href='#1'>1. Data's Overview</a>\n",
    "\n",
    "<a href='#2'>2. Preprocessing</a>\n",
    "\n",
    "<a href='#3'>3. Feature engineering</a>\n",
    "\n",
    "<a href='#4'>4. Simple model</a>"
   ]
  },
  {
   "cell_type": "code",
   "execution_count": 1,
   "metadata": {
    "_cell_guid": "b1076dfc-b9ad-4769-8c92-a6c4dae69d19",
    "_uuid": "8f2839f25d086af736a60e9eeb907d3b93b6e0e5",
    "execution": {
     "iopub.execute_input": "2021-03-09T23:38:51.981001Z",
     "iopub.status.busy": "2021-03-09T23:38:51.979887Z",
     "iopub.status.idle": "2021-03-09T23:38:52.880078Z",
     "shell.execute_reply": "2021-03-09T23:38:52.880608Z"
    },
    "papermill": {
     "duration": 0.947819,
     "end_time": "2021-03-09T23:38:52.881003",
     "exception": false,
     "start_time": "2021-03-09T23:38:51.933184",
     "status": "completed"
    },
    "tags": []
   },
   "outputs": [
    {
     "name": "stdout",
     "output_type": "stream",
     "text": [
      "/kaggle/input/ashrae-energy-prediction/sample_submission.csv\n",
      "/kaggle/input/ashrae-energy-prediction/building_metadata.csv\n",
      "/kaggle/input/ashrae-energy-prediction/weather_train.csv\n",
      "/kaggle/input/ashrae-energy-prediction/weather_test.csv\n",
      "/kaggle/input/ashrae-energy-prediction/train.csv\n",
      "/kaggle/input/ashrae-energy-prediction/test.csv\n"
     ]
    }
   ],
   "source": [
    "import numpy as np # linear algebra\n",
    "import pandas as pd # data processing, CSV file I/O (e.g. pd.read_csv)\n",
    "import matplotlib.pyplot as plt # basic plotting\n",
    "import seaborn as sns # for prettier plots\n",
    "import datetime # manipulating date formats\n",
    "import gc\n",
    "\n",
    "import os\n",
    "for dirname, _, filenames in os.walk('/kaggle/input'):\n",
    "    for filename in filenames:\n",
    "        print(os.path.join(dirname, filename))\n",
    "        \n"
   ]
  },
  {
   "cell_type": "markdown",
   "metadata": {
    "papermill": {
     "duration": 0.042085,
     "end_time": "2021-03-09T23:38:52.965929",
     "exception": false,
     "start_time": "2021-03-09T23:38:52.923844",
     "status": "completed"
    },
    "tags": []
   },
   "source": [
    "# <a id='1'>1. Data's Overview</a>"
   ]
  },
  {
   "cell_type": "markdown",
   "metadata": {
    "papermill": {
     "duration": 0.04126,
     "end_time": "2021-03-09T23:38:53.049186",
     "exception": false,
     "start_time": "2021-03-09T23:38:53.007926",
     "status": "completed"
    },
    "tags": []
   },
   "source": [
    "## Loading data"
   ]
  },
  {
   "cell_type": "code",
   "execution_count": 2,
   "metadata": {
    "execution": {
     "iopub.execute_input": "2021-03-09T23:38:53.141416Z",
     "iopub.status.busy": "2021-03-09T23:38:53.140708Z",
     "iopub.status.idle": "2021-03-09T23:40:03.137111Z",
     "shell.execute_reply": "2021-03-09T23:40:03.136171Z"
    },
    "papermill": {
     "duration": 70.045452,
     "end_time": "2021-03-09T23:40:03.137309",
     "exception": false,
     "start_time": "2021-03-09T23:38:53.091857",
     "status": "completed"
    },
    "tags": []
   },
   "outputs": [],
   "source": [
    "building_metadata = pd.read_csv('/kaggle/input/ashrae-energy-prediction/building_metadata.csv')\n",
    "train = pd.read_csv('/kaggle/input/ashrae-energy-prediction/train.csv', parse_dates=['timestamp'])\n",
    "test = pd.read_csv('/kaggle/input/ashrae-energy-prediction/test.csv', parse_dates=['timestamp'])\n",
    "weather_train = pd.read_csv('/kaggle/input/ashrae-energy-prediction/weather_train.csv', parse_dates=['timestamp'])\n",
    "weather_test = pd.read_csv('/kaggle/input/ashrae-energy-prediction/weather_test.csv', parse_dates=['timestamp'])"
   ]
  },
  {
   "cell_type": "code",
   "execution_count": 3,
   "metadata": {
    "execution": {
     "iopub.execute_input": "2021-03-09T23:40:03.241205Z",
     "iopub.status.busy": "2021-03-09T23:40:03.240427Z",
     "iopub.status.idle": "2021-03-09T23:40:03.242870Z",
     "shell.execute_reply": "2021-03-09T23:40:03.243367Z"
    },
    "papermill": {
     "duration": 0.062849,
     "end_time": "2021-03-09T23:40:03.243616",
     "exception": false,
     "start_time": "2021-03-09T23:40:03.180767",
     "status": "completed"
    },
    "tags": []
   },
   "outputs": [],
   "source": [
    "#Function to reduction memory usage (Source code from Kaggle)\n",
    "def reduce_mem_usage(df, verbose=True):\n",
    "    numerics = ['int16', 'int32', 'int64', 'float16', 'float32', 'float64']\n",
    "    start_mem = df.memory_usage().sum() / 1024**2\n",
    "    for col in df.columns:\n",
    "        col_type = df[col].dtypes\n",
    "        if col_type in numerics:\n",
    "            c_min = df[col].min()\n",
    "            c_max = df[col].max()\n",
    "            if str(col_type)[:3] == 'int':\n",
    "                if c_min > np.iinfo(np.int8).min and c_max < np.iinfo(np.int8).max:\n",
    "                    df[col] = df[col].astype(np.int8)\n",
    "                elif c_min > np.iinfo(np.int16).min and c_max < np.iinfo(np.int16).max:\n",
    "                    df[col] = df[col].astype(np.int16)\n",
    "                elif c_min > np.iinfo(np.int32).min and c_max < np.iinfo(np.int32).max:\n",
    "                    df[col] = df[col].astype(np.int32)\n",
    "                elif c_min > np.iinfo(np.int64).min and c_max < np.iinfo(np.int64).max:\n",
    "                    df[col] = df[col].astype(np.int64)\n",
    "            else:\n",
    "                if c_min > np.finfo(np.float16).min and c_max < np.finfo(np.float16).max:\n",
    "                    df[col] = df[col].astype(np.float16)\n",
    "                elif c_min > np.finfo(np.float32).min and c_max < np.finfo(np.float32).max:\n",
    "                    df[col] = df[col].astype(np.float32)\n",
    "                else:\n",
    "                    df[col] = df[col].astype(np.float64)\n",
    "\n",
    "    end_mem = df.memory_usage().sum() / 1024**2\n",
    "    print('Memory usage after optimization is: {:.2f} MB'.format(end_mem))\n",
    "    print('Decreased by {:.1f}%'.format(100 * (start_mem - end_mem) / start_mem))\n",
    "\n",
    "    return df"
   ]
  },
  {
   "cell_type": "markdown",
   "metadata": {
    "papermill": {
     "duration": 0.042438,
     "end_time": "2021-03-09T23:40:03.329204",
     "exception": false,
     "start_time": "2021-03-09T23:40:03.286766",
     "status": "completed"
    },
    "tags": []
   },
   "source": [
    "## Data's overview"
   ]
  },
  {
   "cell_type": "code",
   "execution_count": 4,
   "metadata": {
    "execution": {
     "iopub.execute_input": "2021-03-09T23:40:03.423236Z",
     "iopub.status.busy": "2021-03-09T23:40:03.422381Z",
     "iopub.status.idle": "2021-03-09T23:40:03.426376Z",
     "shell.execute_reply": "2021-03-09T23:40:03.426910Z"
    },
    "papermill": {
     "duration": 0.05459,
     "end_time": "2021-03-09T23:40:03.427174",
     "exception": false,
     "start_time": "2021-03-09T23:40:03.372584",
     "status": "completed"
    },
    "tags": []
   },
   "outputs": [
    {
     "data": {
      "text/plain": [
       "\"print('Size of train data', train.shape)\\nprint('Size of test data', test.shape)\\nprint('Size of weather_train data', weather_train.shape)\\nprint('Size of weather_test data', weather_test.shape)\\nprint('Size of building_metadata data', building_metadata.shape)\""
      ]
     },
     "execution_count": 4,
     "metadata": {},
     "output_type": "execute_result"
    }
   ],
   "source": [
    "\"\"\"print('Size of train data', train.shape)\n",
    "print('Size of test data', test.shape)\n",
    "print('Size of weather_train data', weather_train.shape)\n",
    "print('Size of weather_test data', weather_test.shape)\n",
    "print('Size of building_metadata data', building_metadata.shape)\"\"\""
   ]
  },
  {
   "cell_type": "code",
   "execution_count": 5,
   "metadata": {
    "execution": {
     "iopub.execute_input": "2021-03-09T23:40:03.519224Z",
     "iopub.status.busy": "2021-03-09T23:40:03.518474Z",
     "iopub.status.idle": "2021-03-09T23:40:03.522282Z",
     "shell.execute_reply": "2021-03-09T23:40:03.521610Z"
    },
    "papermill": {
     "duration": 0.051305,
     "end_time": "2021-03-09T23:40:03.522457",
     "exception": false,
     "start_time": "2021-03-09T23:40:03.471152",
     "status": "completed"
    },
    "tags": []
   },
   "outputs": [],
   "source": [
    "#train.head()"
   ]
  },
  {
   "cell_type": "code",
   "execution_count": 6,
   "metadata": {
    "execution": {
     "iopub.execute_input": "2021-03-09T23:40:03.615926Z",
     "iopub.status.busy": "2021-03-09T23:40:03.615001Z",
     "iopub.status.idle": "2021-03-09T23:40:03.618707Z",
     "shell.execute_reply": "2021-03-09T23:40:03.618028Z"
    },
    "papermill": {
     "duration": 0.0512,
     "end_time": "2021-03-09T23:40:03.618868",
     "exception": false,
     "start_time": "2021-03-09T23:40:03.567668",
     "status": "completed"
    },
    "tags": []
   },
   "outputs": [],
   "source": [
    "#weather_train.head()"
   ]
  },
  {
   "cell_type": "code",
   "execution_count": 7,
   "metadata": {
    "execution": {
     "iopub.execute_input": "2021-03-09T23:40:03.711807Z",
     "iopub.status.busy": "2021-03-09T23:40:03.710765Z",
     "iopub.status.idle": "2021-03-09T23:40:03.714462Z",
     "shell.execute_reply": "2021-03-09T23:40:03.713796Z"
    },
    "papermill": {
     "duration": 0.052494,
     "end_time": "2021-03-09T23:40:03.714647",
     "exception": false,
     "start_time": "2021-03-09T23:40:03.662153",
     "status": "completed"
    },
    "tags": []
   },
   "outputs": [],
   "source": [
    "#building_metadata.head()"
   ]
  },
  {
   "cell_type": "markdown",
   "metadata": {
    "papermill": {
     "duration": 0.043051,
     "end_time": "2021-03-09T23:40:03.801797",
     "exception": false,
     "start_time": "2021-03-09T23:40:03.758746",
     "status": "completed"
    },
    "tags": []
   },
   "source": [
    "Check missing data"
   ]
  },
  {
   "cell_type": "code",
   "execution_count": 8,
   "metadata": {
    "execution": {
     "iopub.execute_input": "2021-03-09T23:40:03.898232Z",
     "iopub.status.busy": "2021-03-09T23:40:03.897139Z",
     "iopub.status.idle": "2021-03-09T23:40:03.901076Z",
     "shell.execute_reply": "2021-03-09T23:40:03.900481Z"
    },
    "papermill": {
     "duration": 0.05536,
     "end_time": "2021-03-09T23:40:03.901262",
     "exception": false,
     "start_time": "2021-03-09T23:40:03.845902",
     "status": "completed"
    },
    "tags": []
   },
   "outputs": [],
   "source": [
    "def missing(data):\n",
    "    total = data.isnull().sum().sort_values(ascending = False)\n",
    "    percentage = (data.isnull().sum()/data.isnull().count()*100).sort_values(ascending = False)\n",
    "    missing_data  = pd.concat([total, percentage], axis=1, keys=['Total', 'Percentage'])\n",
    "    return missing_data.head(data.shape[1])"
   ]
  },
  {
   "cell_type": "code",
   "execution_count": 9,
   "metadata": {
    "execution": {
     "iopub.execute_input": "2021-03-09T23:40:03.994949Z",
     "iopub.status.busy": "2021-03-09T23:40:03.993904Z",
     "iopub.status.idle": "2021-03-09T23:40:03.997212Z",
     "shell.execute_reply": "2021-03-09T23:40:03.997803Z"
    },
    "papermill": {
     "duration": 0.052684,
     "end_time": "2021-03-09T23:40:03.998032",
     "exception": false,
     "start_time": "2021-03-09T23:40:03.945348",
     "status": "completed"
    },
    "tags": []
   },
   "outputs": [],
   "source": [
    "#missing(weather_train)"
   ]
  },
  {
   "cell_type": "code",
   "execution_count": 10,
   "metadata": {
    "execution": {
     "iopub.execute_input": "2021-03-09T23:40:04.092805Z",
     "iopub.status.busy": "2021-03-09T23:40:04.091833Z",
     "iopub.status.idle": "2021-03-09T23:40:04.095067Z",
     "shell.execute_reply": "2021-03-09T23:40:04.095552Z"
    },
    "papermill": {
     "duration": 0.052539,
     "end_time": "2021-03-09T23:40:04.095761",
     "exception": false,
     "start_time": "2021-03-09T23:40:04.043222",
     "status": "completed"
    },
    "tags": []
   },
   "outputs": [],
   "source": [
    "#missing(weather_test)"
   ]
  },
  {
   "cell_type": "code",
   "execution_count": 11,
   "metadata": {
    "execution": {
     "iopub.execute_input": "2021-03-09T23:40:04.188943Z",
     "iopub.status.busy": "2021-03-09T23:40:04.187930Z",
     "iopub.status.idle": "2021-03-09T23:40:04.192296Z",
     "shell.execute_reply": "2021-03-09T23:40:04.191699Z"
    },
    "papermill": {
     "duration": 0.053047,
     "end_time": "2021-03-09T23:40:04.192461",
     "exception": false,
     "start_time": "2021-03-09T23:40:04.139414",
     "status": "completed"
    },
    "tags": []
   },
   "outputs": [],
   "source": [
    "#missing(building_metadata)"
   ]
  },
  {
   "cell_type": "markdown",
   "metadata": {
    "papermill": {
     "duration": 0.043295,
     "end_time": "2021-03-09T23:40:04.280189",
     "exception": false,
     "start_time": "2021-03-09T23:40:04.236894",
     "status": "completed"
    },
    "tags": []
   },
   "source": [
    "# <a id='2'>2. Preprocessing</a>"
   ]
  },
  {
   "cell_type": "markdown",
   "metadata": {
    "papermill": {
     "duration": 0.043591,
     "end_time": "2021-03-09T23:40:04.367721",
     "exception": false,
     "start_time": "2021-03-09T23:40:04.324130",
     "status": "completed"
    },
    "tags": []
   },
   "source": [
    "## a. Missing data"
   ]
  },
  {
   "cell_type": "markdown",
   "metadata": {
    "papermill": {
     "duration": 0.044385,
     "end_time": "2021-03-09T23:40:04.455804",
     "exception": false,
     "start_time": "2021-03-09T23:40:04.411419",
     "status": "completed"
    },
    "tags": []
   },
   "source": [
    "### Air_temperature\n",
    "\n",
    "There are only 55 missing values in the weather_train data set.\n",
    "\n",
    "We fill the missing data with the value from the closest previous day without na, at the same time of the day, of the same site (there's no NA from the same hour in two consecutive days of the same site)"
   ]
  },
  {
   "cell_type": "code",
   "execution_count": 12,
   "metadata": {
    "execution": {
     "iopub.execute_input": "2021-03-09T23:40:04.554889Z",
     "iopub.status.busy": "2021-03-09T23:40:04.553861Z",
     "iopub.status.idle": "2021-03-09T23:40:04.557675Z",
     "shell.execute_reply": "2021-03-09T23:40:04.556999Z"
    },
    "papermill": {
     "duration": 0.058298,
     "end_time": "2021-03-09T23:40:04.557837",
     "exception": false,
     "start_time": "2021-03-09T23:40:04.499539",
     "status": "completed"
    },
    "tags": []
   },
   "outputs": [],
   "source": [
    "import math\n",
    "def fill_air_temp(data):\n",
    "    \n",
    "    '''Function for filling Na data in air_temperature variable'''\n",
    "    \n",
    "    na_index = data[data['air_temperature'].isnull()].index\n",
    "    temp_key = ['site_id', 'timestamp', 'air_temperature']\n",
    "    \n",
    "    for i in na_index:\n",
    "        site_na = data.loc[i, 'site_id']   \n",
    "        for j in range(5):\n",
    "            time_na = data.loc[i,'timestamp'] - datetime.timedelta(days = j+1)  \n",
    "            ind = data[(data.site_id == site_na) & (data.timestamp == time_na)].index  \n",
    "            \n",
    "            if math.isnan(data.loc[ind, 'air_temperature']) == False :\n",
    "                data.loc[i, 'air_temperature'] = data.loc[ind, 'air_temperature'].values\n",
    "                break\n",
    "    \n",
    "    return data"
   ]
  },
  {
   "cell_type": "code",
   "execution_count": 13,
   "metadata": {
    "execution": {
     "iopub.execute_input": "2021-03-09T23:40:04.652712Z",
     "iopub.status.busy": "2021-03-09T23:40:04.651708Z",
     "iopub.status.idle": "2021-03-09T23:40:05.460097Z",
     "shell.execute_reply": "2021-03-09T23:40:05.459480Z"
    },
    "papermill": {
     "duration": 0.858791,
     "end_time": "2021-03-09T23:40:05.460277",
     "exception": false,
     "start_time": "2021-03-09T23:40:04.601486",
     "status": "completed"
    },
    "tags": []
   },
   "outputs": [],
   "source": [
    "weather_train = fill_air_temp(weather_train)\n",
    "weather_test = fill_air_temp(weather_test)"
   ]
  },
  {
   "cell_type": "markdown",
   "metadata": {
    "papermill": {
     "duration": 0.043827,
     "end_time": "2021-03-09T23:40:05.548877",
     "exception": false,
     "start_time": "2021-03-09T23:40:05.505050",
     "status": "completed"
    },
    "tags": []
   },
   "source": [
    "### floor_count and year_built"
   ]
  },
  {
   "cell_type": "code",
   "execution_count": 14,
   "metadata": {
    "execution": {
     "iopub.execute_input": "2021-03-09T23:40:05.647302Z",
     "iopub.status.busy": "2021-03-09T23:40:05.646094Z",
     "iopub.status.idle": "2021-03-09T23:40:05.651071Z",
     "shell.execute_reply": "2021-03-09T23:40:05.650381Z"
    },
    "papermill": {
     "duration": 0.05797,
     "end_time": "2021-03-09T23:40:05.651253",
     "exception": false,
     "start_time": "2021-03-09T23:40:05.593283",
     "status": "completed"
    },
    "tags": []
   },
   "outputs": [],
   "source": [
    "#According to the above table, 53.41% of year_built and 75.50% \n",
    "#of floor_count are not available\n",
    "\n",
    "#We fill the floor_count's NA by mode = 1 (repsent 7.52% of floor_count values) \n",
    "#and the year_built by the mean of it value\n",
    "building_metadata.fillna({'floor_count':1,'year_built': building_metadata['year_built'].mean()}, inplace = True)\n",
    "building_metadata['primary_use'] = building_metadata['primary_use'].astype('category')"
   ]
  },
  {
   "cell_type": "markdown",
   "metadata": {
    "papermill": {
     "duration": 0.044804,
     "end_time": "2021-03-09T23:40:05.740770",
     "exception": false,
     "start_time": "2021-03-09T23:40:05.695966",
     "status": "completed"
    },
    "tags": []
   },
   "source": [
    "### Other variables"
   ]
  },
  {
   "cell_type": "code",
   "execution_count": 15,
   "metadata": {
    "execution": {
     "iopub.execute_input": "2021-03-09T23:40:05.838092Z",
     "iopub.status.busy": "2021-03-09T23:40:05.837354Z",
     "iopub.status.idle": "2021-03-09T23:40:05.967289Z",
     "shell.execute_reply": "2021-03-09T23:40:05.965848Z"
    },
    "papermill": {
     "duration": 0.182019,
     "end_time": "2021-03-09T23:40:05.967463",
     "exception": false,
     "start_time": "2021-03-09T23:40:05.785444",
     "status": "completed"
    },
    "tags": []
   },
   "outputs": [],
   "source": [
    "#Even the weather data don't change more in the futur and the past, so we make a \n",
    "#forward and backward filling\n",
    "# First: transformation of the timestamp into a datetime object \n",
    "# Second: sorting by site id then timestamp\n",
    "\n",
    "weather_train = weather_train.sort_values(by=['site_id', 'timestamp']) \n",
    "weather_train.fillna(method = 'bfill', inplace=True, limit = 12) #backfill up to 12 hours\n",
    "weather_train.fillna(method = 'ffill', inplace = True, limit = 12) #forward fill the missing data up to 12 hours\n",
    "\n",
    "\n",
    "## Weather test\n",
    "weather_test = weather_test.sort_values(by=['site_id', 'timestamp']) \n",
    "weather_test.fillna(method = 'bfill', inplace=True, limit = 12)\n",
    "weather_test.fillna(method = 'ffill', inplace=True, limit = 12)\n",
    "\n"
   ]
  },
  {
   "cell_type": "code",
   "execution_count": 16,
   "metadata": {
    "execution": {
     "iopub.execute_input": "2021-03-09T23:40:06.062403Z",
     "iopub.status.busy": "2021-03-09T23:40:06.061721Z",
     "iopub.status.idle": "2021-03-09T23:40:06.064484Z",
     "shell.execute_reply": "2021-03-09T23:40:06.063805Z"
    },
    "papermill": {
     "duration": 0.052213,
     "end_time": "2021-03-09T23:40:06.064661",
     "exception": false,
     "start_time": "2021-03-09T23:40:06.012448",
     "status": "completed"
    },
    "tags": []
   },
   "outputs": [],
   "source": [
    "#sns.heatmap(weather_train.isnull(), yticklabels = False, cbar = False, cmap = 'viridis')\n",
    "#sns.heatmap(weather_test.isnull(), yticklabels = False, cbar = False, cmap = 'viridis')"
   ]
  },
  {
   "cell_type": "code",
   "execution_count": 17,
   "metadata": {
    "execution": {
     "iopub.execute_input": "2021-03-09T23:40:06.162094Z",
     "iopub.status.busy": "2021-03-09T23:40:06.161395Z",
     "iopub.status.idle": "2021-03-09T23:40:06.314137Z",
     "shell.execute_reply": "2021-03-09T23:40:06.313424Z"
    },
    "papermill": {
     "duration": 0.205566,
     "end_time": "2021-03-09T23:40:06.314284",
     "exception": false,
     "start_time": "2021-03-09T23:40:06.108718",
     "status": "completed"
    },
    "tags": []
   },
   "outputs": [
    {
     "data": {
      "text/plain": [
       "site_id               0\n",
       "timestamp             0\n",
       "air_temperature       0\n",
       "cloud_coverage        0\n",
       "dew_temperature       0\n",
       "precip_depth_1_hr     0\n",
       "sea_level_pressure    0\n",
       "wind_direction        0\n",
       "wind_speed            0\n",
       "dtype: int64"
      ]
     },
     "execution_count": 17,
     "metadata": {},
     "output_type": "execute_result"
    }
   ],
   "source": [
    "#Train data\n",
    "missing_cols = [col for col in weather_train.columns if weather_train[col].isna().any()] \n",
    "fill_lib = weather_train.groupby('site_id')[missing_cols].transform('mean')\n",
    "#stores the mean of each feature for each site id\n",
    "weather_train.fillna(fill_lib, inplace=True) #for each feature with missing \n",
    "#values, fill the missing entry with the mean for that site\n",
    "\n",
    "#Test data\n",
    "missing_cols = [col for col in weather_test.columns if weather_test[col].isna().any()] \n",
    "fill_lib = weather_test.groupby('site_id')[missing_cols].transform('mean')\n",
    "#stores the mean of each feature for each site id\n",
    "weather_test.fillna(fill_lib, inplace=True)\n",
    "del missing_cols, fill_lib\n",
    "\n",
    "weather_train.isna().sum()\n",
    "#weather_test.isna().sum()"
   ]
  },
  {
   "cell_type": "markdown",
   "metadata": {
    "papermill": {
     "duration": 0.043709,
     "end_time": "2021-03-09T23:40:06.402383",
     "exception": false,
     "start_time": "2021-03-09T23:40:06.358674",
     "status": "completed"
    },
    "tags": []
   },
   "source": [
    "## b. Align the timestamp"
   ]
  },
  {
   "cell_type": "markdown",
   "metadata": {
    "papermill": {
     "duration": 0.043907,
     "end_time": "2021-03-09T23:40:06.492294",
     "exception": false,
     "start_time": "2021-03-09T23:40:06.448387",
     "status": "completed"
    },
    "tags": []
   },
   "source": [
    "The timestamps of the weather data and the train/test data are different: those in the weather data is not in the site's local time. So there's need an alignment before merging these dataset by timestamps."
   ]
  },
  {
   "cell_type": "markdown",
   "metadata": {
    "papermill": {
     "duration": 0.044267,
     "end_time": "2021-03-09T23:40:06.581986",
     "exception": false,
     "start_time": "2021-03-09T23:40:06.537719",
     "status": "completed"
    },
    "tags": []
   },
   "source": [
    "To see this problem, we plot the air temperature (from weather data) and energy consumption (from train data) by site and hour.\n",
    "We assume that highest air temperature should appear at around 14:00."
   ]
  },
  {
   "cell_type": "code",
   "execution_count": 18,
   "metadata": {
    "execution": {
     "iopub.execute_input": "2021-03-09T23:40:06.680925Z",
     "iopub.status.busy": "2021-03-09T23:40:06.680117Z",
     "iopub.status.idle": "2021-03-09T23:40:06.683127Z",
     "shell.execute_reply": "2021-03-09T23:40:06.683675Z"
    },
    "papermill": {
     "duration": 0.05763,
     "end_time": "2021-03-09T23:40:06.683899",
     "exception": false,
     "start_time": "2021-03-09T23:40:06.626269",
     "status": "completed"
    },
    "tags": []
   },
   "outputs": [],
   "source": [
    "def plot_by_site_by_hour(data, column) :\n",
    "    '''Plot a variable by site and hour'''\n",
    "    \n",
    "    plot_key = ['site_id', 'timestamp']\n",
    "    col_to_plot = data[plot_key + [column]].copy()\n",
    "    col_to_plot['hour'] = col_to_plot['timestamp'].dt.hour\n",
    "    \n",
    "    c = 1\n",
    "    plt.figure(figsize=(25, 15))\n",
    "    for site_id, data_by_site in col_to_plot.groupby('site_id'):\n",
    "        by_site_by_hour = data_by_site.groupby('hour').mean()\n",
    "        ax = plt.subplot(4, 4, c)\n",
    "        plt.plot(by_site_by_hour.index,by_site_by_hour[column],'xb-')\n",
    "        ax.set_title('site: '+str(site_id))\n",
    "        c += 1\n",
    "    return plt.show()"
   ]
  },
  {
   "cell_type": "code",
   "execution_count": 19,
   "metadata": {
    "execution": {
     "iopub.execute_input": "2021-03-09T23:40:06.784957Z",
     "iopub.status.busy": "2021-03-09T23:40:06.782927Z",
     "iopub.status.idle": "2021-03-09T23:40:06.798586Z",
     "shell.execute_reply": "2021-03-09T23:40:06.797876Z"
    },
    "papermill": {
     "duration": 0.069463,
     "end_time": "2021-03-09T23:40:06.798750",
     "exception": false,
     "start_time": "2021-03-09T23:40:06.729287",
     "status": "completed"
    },
    "tags": []
   },
   "outputs": [],
   "source": [
    "weather = pd.concat([weather_train,weather_test],ignore_index=True)"
   ]
  },
  {
   "cell_type": "code",
   "execution_count": 20,
   "metadata": {
    "execution": {
     "iopub.execute_input": "2021-03-09T23:40:06.896718Z",
     "iopub.status.busy": "2021-03-09T23:40:06.895220Z",
     "iopub.status.idle": "2021-03-09T23:40:06.899044Z",
     "shell.execute_reply": "2021-03-09T23:40:06.898451Z"
    },
    "papermill": {
     "duration": 0.054865,
     "end_time": "2021-03-09T23:40:06.899197",
     "exception": false,
     "start_time": "2021-03-09T23:40:06.844332",
     "status": "completed"
    },
    "tags": []
   },
   "outputs": [],
   "source": [
    "#plot_by_site_by_hour(weather,'air_temperature')"
   ]
  },
  {
   "cell_type": "markdown",
   "metadata": {
    "papermill": {
     "duration": 0.045289,
     "end_time": "2021-03-09T23:40:06.989831",
     "exception": false,
     "start_time": "2021-03-09T23:40:06.944542",
     "status": "completed"
    },
    "tags": []
   },
   "source": [
    "We see that the peak temperature for most of these site are not around 14:00, some even at night, which doesn't make sense."
   ]
  },
  {
   "cell_type": "code",
   "execution_count": 21,
   "metadata": {
    "execution": {
     "iopub.execute_input": "2021-03-09T23:40:07.495956Z",
     "iopub.status.busy": "2021-03-09T23:40:07.494235Z",
     "iopub.status.idle": "2021-03-09T23:40:09.177104Z",
     "shell.execute_reply": "2021-03-09T23:40:09.176404Z"
    },
    "papermill": {
     "duration": 2.141026,
     "end_time": "2021-03-09T23:40:09.177259",
     "exception": false,
     "start_time": "2021-03-09T23:40:07.036233",
     "status": "completed"
    },
    "tags": []
   },
   "outputs": [],
   "source": [
    "#Create dataframe having site_id and meter from train and metadata datasets\n",
    "building_site_dict = dict(zip(building_metadata['building_id'], building_metadata['site_id']))\n",
    "site_meter = train[['building_id', 'meter', 'timestamp', 'meter_reading']].copy()\n",
    "site_meter['site_id'] = site_meter.building_id.map(building_site_dict)\n",
    "del site_meter['building_id']\n",
    "\n",
    "#Dataframe with site_id and electrical consumption\n",
    "site_elec = site_meter[site_meter.meter == 0]"
   ]
  },
  {
   "cell_type": "code",
   "execution_count": 22,
   "metadata": {
    "execution": {
     "iopub.execute_input": "2021-03-09T23:40:09.409148Z",
     "iopub.status.busy": "2021-03-09T23:40:09.408455Z",
     "iopub.status.idle": "2021-03-09T23:40:09.414768Z",
     "shell.execute_reply": "2021-03-09T23:40:09.414066Z"
    },
    "papermill": {
     "duration": 0.190865,
     "end_time": "2021-03-09T23:40:09.414930",
     "exception": false,
     "start_time": "2021-03-09T23:40:09.224065",
     "status": "completed"
    },
    "tags": []
   },
   "outputs": [
    {
     "data": {
      "text/plain": [
       "117"
      ]
     },
     "execution_count": 22,
     "metadata": {},
     "output_type": "execute_result"
    }
   ],
   "source": [
    "#plot_by_site_by_hour(site_elec, 'meter_reading')\n",
    "del building_site_dict, site_meter, site_elec\n",
    "gc.collect()"
   ]
  },
  {
   "cell_type": "markdown",
   "metadata": {
    "papermill": {
     "duration": 0.045007,
     "end_time": "2021-03-09T23:40:09.506858",
     "exception": false,
     "start_time": "2021-03-09T23:40:09.461851",
     "status": "completed"
    },
    "tags": []
   },
   "source": [
    "The energy consumption of these sites make sense, which mean that the timestamps are more aligned."
   ]
  },
  {
   "cell_type": "code",
   "execution_count": 23,
   "metadata": {
    "execution": {
     "iopub.execute_input": "2021-03-09T23:40:09.610313Z",
     "iopub.status.busy": "2021-03-09T23:40:09.609680Z",
     "iopub.status.idle": "2021-03-09T23:40:10.085836Z",
     "shell.execute_reply": "2021-03-09T23:40:10.085215Z"
    },
    "papermill": {
     "duration": 0.533668,
     "end_time": "2021-03-09T23:40:10.085983",
     "exception": false,
     "start_time": "2021-03-09T23:40:09.552315",
     "status": "completed"
    },
    "tags": []
   },
   "outputs": [],
   "source": [
    "# calculate ranks of hourly temperatures within date and site_id\n",
    "key = ['site_id', 'timestamp', 'air_temperature']\n",
    "temp = weather.loc[:,key]\n",
    "temp['temp_rank'] = temp.groupby(['site_id', temp.timestamp.dt.date])['air_temperature'].rank('average')\n",
    "\n",
    "# site_id x mean hour rank of temperature within day\n",
    "mean_rank = temp.groupby(['site_id', temp.timestamp.dt.hour])['temp_rank'].mean().unstack(level=1)"
   ]
  },
  {
   "cell_type": "code",
   "execution_count": 24,
   "metadata": {
    "execution": {
     "iopub.execute_input": "2021-03-09T23:40:10.189791Z",
     "iopub.status.busy": "2021-03-09T23:40:10.189021Z",
     "iopub.status.idle": "2021-03-09T23:40:10.192053Z",
     "shell.execute_reply": "2021-03-09T23:40:10.192623Z"
    },
    "papermill": {
     "duration": 0.059396,
     "end_time": "2021-03-09T23:40:10.192825",
     "exception": false,
     "start_time": "2021-03-09T23:40:10.133429",
     "status": "completed"
    },
    "tags": []
   },
   "outputs": [],
   "source": [
    "#the timestamp alignment gap for each site\n",
    "gap = pd.Series(mean_rank.values.argmax(axis=1) - 14)\n",
    "gap.index.name = 'site_id'\n",
    "\n",
    "def timestamp_align(data):\n",
    "    '''Function to align the timestamp'''\n",
    "    data['offset'] = data.site_id.map(gap)\n",
    "    data['timestamp_aligned'] = (data.timestamp - pd.to_timedelta(data.offset, unit='H'))\n",
    "    data['timestamp'] = data['timestamp_aligned']\n",
    "    del data['timestamp_aligned']\n",
    "    return data"
   ]
  },
  {
   "cell_type": "code",
   "execution_count": 25,
   "metadata": {
    "execution": {
     "iopub.execute_input": "2021-03-09T23:40:10.290972Z",
     "iopub.status.busy": "2021-03-09T23:40:10.290303Z",
     "iopub.status.idle": "2021-03-09T23:40:10.441546Z",
     "shell.execute_reply": "2021-03-09T23:40:10.440903Z"
    },
    "papermill": {
     "duration": 0.202815,
     "end_time": "2021-03-09T23:40:10.441696",
     "exception": false,
     "start_time": "2021-03-09T23:40:10.238881",
     "status": "completed"
    },
    "tags": []
   },
   "outputs": [
    {
     "data": {
      "text/plain": [
       "57"
      ]
     },
     "execution_count": 25,
     "metadata": {},
     "output_type": "execute_result"
    }
   ],
   "source": [
    "weather_train = timestamp_align(weather_train)\n",
    "weather_test = timestamp_align(weather_test)\n",
    "del weather, temp, gap\n",
    "gc.collect()"
   ]
  },
  {
   "cell_type": "markdown",
   "metadata": {
    "papermill": {
     "duration": 0.04607,
     "end_time": "2021-03-09T23:40:10.535168",
     "exception": false,
     "start_time": "2021-03-09T23:40:10.489098",
     "status": "completed"
    },
    "tags": []
   },
   "source": [
    "## c. Merge data"
   ]
  },
  {
   "cell_type": "code",
   "execution_count": 26,
   "metadata": {
    "execution": {
     "iopub.execute_input": "2021-03-09T23:40:10.638649Z",
     "iopub.status.busy": "2021-03-09T23:40:10.637996Z",
     "iopub.status.idle": "2021-03-09T23:40:47.406320Z",
     "shell.execute_reply": "2021-03-09T23:40:47.405756Z"
    },
    "papermill": {
     "duration": 36.82417,
     "end_time": "2021-03-09T23:40:47.406461",
     "exception": false,
     "start_time": "2021-03-09T23:40:10.582291",
     "status": "completed"
    },
    "tags": []
   },
   "outputs": [],
   "source": [
    "train_merge = train.merge(building_metadata, on='building_id', how='left', validate='many_to_one')\n",
    "train_merge = train_merge.merge(weather_train, on=['site_id', 'timestamp'], how='left', validate='many_to_one')\n",
    "del train, weather_train\n",
    "\n",
    "test_merge = test.merge(building_metadata, on='building_id', how='left', validate='many_to_one')\n",
    "test_merge = test_merge.merge(weather_test, on=['site_id', 'timestamp'], how='left', validate='many_to_one')\n",
    "del test, weather_test, building_metadata"
   ]
  },
  {
   "cell_type": "markdown",
   "metadata": {
    "papermill": {
     "duration": 0.046804,
     "end_time": "2021-03-09T23:40:47.499467",
     "exception": false,
     "start_time": "2021-03-09T23:40:47.452663",
     "status": "completed"
    },
    "tags": []
   },
   "source": [
    "This additionnal missing values appear here because some merging identity (timesamp) of train and test dataset aren't in  weather data. "
   ]
  },
  {
   "cell_type": "code",
   "execution_count": 27,
   "metadata": {
    "execution": {
     "iopub.execute_input": "2021-03-09T23:40:47.600196Z",
     "iopub.status.busy": "2021-03-09T23:40:47.599042Z",
     "iopub.status.idle": "2021-03-09T23:41:50.713929Z",
     "shell.execute_reply": "2021-03-09T23:41:50.713153Z"
    },
    "papermill": {
     "duration": 63.168474,
     "end_time": "2021-03-09T23:41:50.714118",
     "exception": false,
     "start_time": "2021-03-09T23:40:47.545644",
     "status": "completed"
    },
    "tags": []
   },
   "outputs": [],
   "source": [
    "#train_data\n",
    "train_merge = train_merge.sort_values(by=['building_id', 'timestamp'])\n",
    "train_merge.fillna(method = 'ffill', inplace=True)\n",
    "\n",
    "#test data\n",
    "test_merge = test_merge.sort_values(by=['building_id', 'timestamp'])\n",
    "test_merge.fillna(method = 'ffill', inplace=True)"
   ]
  },
  {
   "cell_type": "code",
   "execution_count": 28,
   "metadata": {
    "execution": {
     "iopub.execute_input": "2021-03-09T23:41:50.819378Z",
     "iopub.status.busy": "2021-03-09T23:41:50.818701Z",
     "iopub.status.idle": "2021-03-09T23:42:17.584876Z",
     "shell.execute_reply": "2021-03-09T23:42:17.585337Z"
    },
    "papermill": {
     "duration": 26.823543,
     "end_time": "2021-03-09T23:42:17.585569",
     "exception": false,
     "start_time": "2021-03-09T23:41:50.762026",
     "status": "completed"
    },
    "tags": []
   },
   "outputs": [
    {
     "name": "stdout",
     "output_type": "stream",
     "text": [
      "Memory usage after optimization is: 944.70 MB\n",
      "Decreased by 64.2%\n",
      "Memory usage after optimization is: 1948.53 MB\n",
      "Decreased by 64.2%\n"
     ]
    }
   ],
   "source": [
    "train_merge = reduce_mem_usage(train_merge)\n",
    "test_merge = reduce_mem_usage(test_merge)"
   ]
  },
  {
   "cell_type": "markdown",
   "metadata": {
    "papermill": {
     "duration": 0.047156,
     "end_time": "2021-03-09T23:42:17.680202",
     "exception": false,
     "start_time": "2021-03-09T23:42:17.633046",
     "status": "completed"
    },
    "tags": []
   },
   "source": [
    "## d. Create new variables"
   ]
  },
  {
   "cell_type": "markdown",
   "metadata": {
    "papermill": {
     "duration": 0.04885,
     "end_time": "2021-03-09T23:42:17.778683",
     "exception": false,
     "start_time": "2021-03-09T23:42:17.729833",
     "status": "completed"
    },
    "tags": []
   },
   "source": [
    "With the problem of the form of time series, we can create some useful variables. For example: year, month, date, hour, lagged variables. We will start with the simple ones: year, month, date, hour."
   ]
  },
  {
   "cell_type": "code",
   "execution_count": 29,
   "metadata": {
    "execution": {
     "iopub.execute_input": "2021-03-09T23:42:17.889474Z",
     "iopub.status.busy": "2021-03-09T23:42:17.888812Z",
     "iopub.status.idle": "2021-03-09T23:42:44.644682Z",
     "shell.execute_reply": "2021-03-09T23:42:44.645387Z"
    },
    "papermill": {
     "duration": 26.817327,
     "end_time": "2021-03-09T23:42:44.645626",
     "exception": false,
     "start_time": "2021-03-09T23:42:17.828299",
     "status": "completed"
    },
    "tags": []
   },
   "outputs": [
    {
     "name": "stderr",
     "output_type": "stream",
     "text": [
      "/opt/conda/lib/python3.7/site-packages/ipykernel_launcher.py:4: FutureWarning: Series.dt.weekofyear and Series.dt.week have been deprecated.  Please use Series.dt.isocalendar().week instead.\n",
      "  after removing the cwd from sys.path.\n",
      "/opt/conda/lib/python3.7/site-packages/ipykernel_launcher.py:10: FutureWarning: Series.dt.weekofyear and Series.dt.week have been deprecated.  Please use Series.dt.isocalendar().week instead.\n",
      "  # Remove the CWD from sys.path while we load stuff.\n"
     ]
    }
   ],
   "source": [
    "train_merge['month'] = train_merge['timestamp'].dt.month.astype(np.int8)\n",
    "#train_merge['year'] = train_merge['timestamp'].dt.year.astype(np.int16)\n",
    "train_merge['day'] = train_merge['timestamp'].dt.dayofweek.astype(np.int8)\n",
    "train_merge['week'] = train_merge['timestamp'].dt.weekofyear.astype(np.int8)\n",
    "train_merge['hour'] = train_merge['timestamp'].dt.hour.astype(np.int8)\n",
    "\n",
    "test_merge['month'] = test_merge['timestamp'].dt.month.astype(np.int8)\n",
    "#test_merge['year'] = test_merge['timestamp'].dt.year.astype(np.int16)\n",
    "test_merge['day'] = test_merge['timestamp'].dt.dayofweek.astype(np.int8)\n",
    "test_merge['week'] = test_merge['timestamp'].dt.weekofyear.astype(np.int8)\n",
    "test_merge['hour'] = test_merge['timestamp'].dt.hour.astype(np.int8)"
   ]
  },
  {
   "cell_type": "code",
   "execution_count": 30,
   "metadata": {
    "execution": {
     "iopub.execute_input": "2021-03-09T23:42:44.749417Z",
     "iopub.status.busy": "2021-03-09T23:42:44.748362Z",
     "iopub.status.idle": "2021-03-09T23:42:44.873084Z",
     "shell.execute_reply": "2021-03-09T23:42:44.873719Z"
    },
    "papermill": {
     "duration": 0.17875,
     "end_time": "2021-03-09T23:42:44.873936",
     "exception": false,
     "start_time": "2021-03-09T23:42:44.695186",
     "status": "completed"
    },
    "tags": []
   },
   "outputs": [
    {
     "data": {
      "text/plain": [
       "20"
      ]
     },
     "execution_count": 30,
     "metadata": {},
     "output_type": "execute_result"
    }
   ],
   "source": [
    "gc.collect()"
   ]
  },
  {
   "cell_type": "markdown",
   "metadata": {
    "papermill": {
     "duration": 0.049761,
     "end_time": "2021-03-09T23:42:44.972923",
     "exception": false,
     "start_time": "2021-03-09T23:42:44.923162",
     "status": "completed"
    },
    "tags": []
   },
   "source": [
    "## e. Target variable and transformation"
   ]
  },
  {
   "cell_type": "markdown",
   "metadata": {
    "papermill": {
     "duration": 0.049292,
     "end_time": "2021-03-09T23:42:45.071750",
     "exception": false,
     "start_time": "2021-03-09T23:42:45.022458",
     "status": "completed"
    },
    "tags": []
   },
   "source": [
    " Our original target variable is meter_reading.\n",
    " - Type 0 (electricity) of meter are mesure in kBTU. We need to convert them to kWh, and convert the prediction of this type again to kBTU before submission.\n",
    " - Transform the original target variable to obtain a new target variable *log1p(meter_reading)*"
   ]
  },
  {
   "cell_type": "code",
   "execution_count": 31,
   "metadata": {
    "execution": {
     "iopub.execute_input": "2021-03-09T23:42:45.178287Z",
     "iopub.status.busy": "2021-03-09T23:42:45.177259Z",
     "iopub.status.idle": "2021-03-09T23:42:45.744798Z",
     "shell.execute_reply": "2021-03-09T23:42:45.743983Z"
    },
    "papermill": {
     "duration": 0.623222,
     "end_time": "2021-03-09T23:42:45.744976",
     "exception": false,
     "start_time": "2021-03-09T23:42:45.121754",
     "status": "completed"
    },
    "tags": []
   },
   "outputs": [],
   "source": [
    "train_merge.loc[train_merge.meter == 0 , 'meter_reading'] = train_merge.loc[train_merge.meter == 0 , 'meter_reading'] * 0.2931"
   ]
  },
  {
   "cell_type": "code",
   "execution_count": 32,
   "metadata": {
    "execution": {
     "iopub.execute_input": "2021-03-09T23:42:45.849693Z",
     "iopub.status.busy": "2021-03-09T23:42:45.848802Z",
     "iopub.status.idle": "2021-03-09T23:42:45.852265Z",
     "shell.execute_reply": "2021-03-09T23:42:45.851627Z"
    },
    "papermill": {
     "duration": 0.057665,
     "end_time": "2021-03-09T23:42:45.852412",
     "exception": false,
     "start_time": "2021-03-09T23:42:45.794747",
     "status": "completed"
    },
    "tags": []
   },
   "outputs": [],
   "source": [
    "#train_merge.meter_reading.describe()"
   ]
  },
  {
   "cell_type": "code",
   "execution_count": 33,
   "metadata": {
    "execution": {
     "iopub.execute_input": "2021-03-09T23:42:45.954885Z",
     "iopub.status.busy": "2021-03-09T23:42:45.954161Z",
     "iopub.status.idle": "2021-03-09T23:42:45.958308Z",
     "shell.execute_reply": "2021-03-09T23:42:45.957702Z"
    },
    "papermill": {
     "duration": 0.057491,
     "end_time": "2021-03-09T23:42:45.958451",
     "exception": false,
     "start_time": "2021-03-09T23:42:45.900960",
     "status": "completed"
    },
    "tags": []
   },
   "outputs": [],
   "source": [
    "#plt.boxplot(train_merge.meter_reading)\n",
    "#plt.show()"
   ]
  },
  {
   "cell_type": "code",
   "execution_count": 34,
   "metadata": {
    "execution": {
     "iopub.execute_input": "2021-03-09T23:42:46.062315Z",
     "iopub.status.busy": "2021-03-09T23:42:46.061630Z",
     "iopub.status.idle": "2021-03-09T23:42:46.065617Z",
     "shell.execute_reply": "2021-03-09T23:42:46.065087Z"
    },
    "papermill": {
     "duration": 0.05804,
     "end_time": "2021-03-09T23:42:46.065766",
     "exception": false,
     "start_time": "2021-03-09T23:42:46.007726",
     "status": "completed"
    },
    "tags": []
   },
   "outputs": [],
   "source": [
    "#plt.hist(train_merge.meter_reading, bins = 100)\n",
    "#plt.show()"
   ]
  },
  {
   "cell_type": "code",
   "execution_count": 35,
   "metadata": {
    "execution": {
     "iopub.execute_input": "2021-03-09T23:42:46.168367Z",
     "iopub.status.busy": "2021-03-09T23:42:46.167711Z",
     "iopub.status.idle": "2021-03-09T23:42:46.171729Z",
     "shell.execute_reply": "2021-03-09T23:42:46.171074Z"
    },
    "papermill": {
     "duration": 0.057494,
     "end_time": "2021-03-09T23:42:46.171880",
     "exception": false,
     "start_time": "2021-03-09T23:42:46.114386",
     "status": "completed"
    },
    "tags": []
   },
   "outputs": [],
   "source": [
    "#plt.hist(np.log1p(train_merge.meter_reading), bins = 100)\n",
    "#plt.show()"
   ]
  },
  {
   "cell_type": "markdown",
   "metadata": {
    "papermill": {
     "duration": 0.048593,
     "end_time": "2021-03-09T23:42:46.270020",
     "exception": false,
     "start_time": "2021-03-09T23:42:46.221427",
     "status": "completed"
    },
    "tags": []
   },
   "source": [
    "### Identify Outliers"
   ]
  },
  {
   "cell_type": "code",
   "execution_count": 36,
   "metadata": {
    "execution": {
     "iopub.execute_input": "2021-03-09T23:42:46.373456Z",
     "iopub.status.busy": "2021-03-09T23:42:46.372564Z",
     "iopub.status.idle": "2021-03-09T23:42:46.376183Z",
     "shell.execute_reply": "2021-03-09T23:42:46.375651Z"
    },
    "papermill": {
     "duration": 0.057593,
     "end_time": "2021-03-09T23:42:46.376342",
     "exception": false,
     "start_time": "2021-03-09T23:42:46.318749",
     "status": "completed"
    },
    "tags": []
   },
   "outputs": [],
   "source": [
    "#train_merge['m/s'] = train_merge['meter_reading']/train_merge['square_feet']"
   ]
  },
  {
   "cell_type": "code",
   "execution_count": 37,
   "metadata": {
    "execution": {
     "iopub.execute_input": "2021-03-09T23:42:46.482251Z",
     "iopub.status.busy": "2021-03-09T23:42:46.481564Z",
     "iopub.status.idle": "2021-03-09T23:42:46.485746Z",
     "shell.execute_reply": "2021-03-09T23:42:46.485006Z"
    },
    "papermill": {
     "duration": 0.059267,
     "end_time": "2021-03-09T23:42:46.485912",
     "exception": false,
     "start_time": "2021-03-09T23:42:46.426645",
     "status": "completed"
    },
    "tags": []
   },
   "outputs": [],
   "source": [
    "#elec_ms = train_merge[(train_merge.meter==0) & (train_merge.meter_reading > 0)].loc[:,'m/s']"
   ]
  },
  {
   "cell_type": "code",
   "execution_count": 38,
   "metadata": {
    "execution": {
     "iopub.execute_input": "2021-03-09T23:42:46.591176Z",
     "iopub.status.busy": "2021-03-09T23:42:46.590555Z",
     "iopub.status.idle": "2021-03-09T23:42:46.594342Z",
     "shell.execute_reply": "2021-03-09T23:42:46.593641Z"
    },
    "papermill": {
     "duration": 0.057987,
     "end_time": "2021-03-09T23:42:46.594535",
     "exception": false,
     "start_time": "2021-03-09T23:42:46.536548",
     "status": "completed"
    },
    "tags": []
   },
   "outputs": [],
   "source": [
    "#elec_ms.describe()"
   ]
  },
  {
   "cell_type": "markdown",
   "metadata": {
    "papermill": {
     "duration": 0.05002,
     "end_time": "2021-03-09T23:42:46.696302",
     "exception": false,
     "start_time": "2021-03-09T23:42:46.646282",
     "status": "completed"
    },
    "tags": []
   },
   "source": [
    "### Create new target variable"
   ]
  },
  {
   "cell_type": "code",
   "execution_count": 39,
   "metadata": {
    "execution": {
     "iopub.execute_input": "2021-03-09T23:42:46.802767Z",
     "iopub.status.busy": "2021-03-09T23:42:46.802027Z",
     "iopub.status.idle": "2021-03-09T23:42:47.152075Z",
     "shell.execute_reply": "2021-03-09T23:42:47.151421Z"
    },
    "papermill": {
     "duration": 0.40588,
     "end_time": "2021-03-09T23:42:47.152240",
     "exception": false,
     "start_time": "2021-03-09T23:42:46.746360",
     "status": "completed"
    },
    "tags": []
   },
   "outputs": [],
   "source": [
    "train_merge['target'] = np.log1p(train_merge['meter_reading'])"
   ]
  },
  {
   "cell_type": "code",
   "execution_count": 40,
   "metadata": {
    "execution": {
     "iopub.execute_input": "2021-03-09T23:42:47.260632Z",
     "iopub.status.busy": "2021-03-09T23:42:47.259619Z",
     "iopub.status.idle": "2021-03-09T23:42:52.755084Z",
     "shell.execute_reply": "2021-03-09T23:42:52.756069Z"
    },
    "papermill": {
     "duration": 5.553967,
     "end_time": "2021-03-09T23:42:52.756283",
     "exception": false,
     "start_time": "2021-03-09T23:42:47.202316",
     "status": "completed"
    },
    "tags": []
   },
   "outputs": [],
   "source": [
    "train_0 = train_merge[train_merge.target > 0]\n",
    "Q1 = train_0.target.quantile(0.25)\n",
    "Q3 = train_0.target.quantile(0.75)\n",
    "IQR = Q3 - Q1\n",
    "del train_0\n",
    "gc.collect()\n",
    "train_merge = train_merge[train_merge.target <= Q3 + 1.5 * IQR]"
   ]
  },
  {
   "cell_type": "markdown",
   "metadata": {
    "papermill": {
     "duration": 0.049719,
     "end_time": "2021-03-09T23:42:52.857015",
     "exception": false,
     "start_time": "2021-03-09T23:42:52.807296",
     "status": "completed"
    },
    "tags": []
   },
   "source": [
    "# <a id='3'>3. Feature Engineering</a>"
   ]
  },
  {
   "cell_type": "markdown",
   "metadata": {
    "papermill": {
     "duration": 0.049772,
     "end_time": "2021-03-09T23:42:52.956770",
     "exception": false,
     "start_time": "2021-03-09T23:42:52.906998",
     "status": "completed"
    },
    "tags": []
   },
   "source": [
    "Correlation between target variable and other variable"
   ]
  },
  {
   "cell_type": "code",
   "execution_count": 41,
   "metadata": {
    "execution": {
     "iopub.execute_input": "2021-03-09T23:42:53.065610Z",
     "iopub.status.busy": "2021-03-09T23:42:53.064580Z",
     "iopub.status.idle": "2021-03-09T23:42:53.067775Z",
     "shell.execute_reply": "2021-03-09T23:42:53.067109Z"
    },
    "papermill": {
     "duration": 0.058491,
     "end_time": "2021-03-09T23:42:53.067930",
     "exception": false,
     "start_time": "2021-03-09T23:42:53.009439",
     "status": "completed"
    },
    "tags": []
   },
   "outputs": [],
   "source": [
    "#corr = train_merge.corr()"
   ]
  },
  {
   "cell_type": "markdown",
   "metadata": {
    "papermill": {
     "duration": 0.050639,
     "end_time": "2021-03-09T23:42:53.169654",
     "exception": false,
     "start_time": "2021-03-09T23:42:53.119015",
     "status": "completed"
    },
    "tags": []
   },
   "source": [
    "Heat map"
   ]
  },
  {
   "cell_type": "code",
   "execution_count": 42,
   "metadata": {
    "execution": {
     "iopub.execute_input": "2021-03-09T23:42:53.274384Z",
     "iopub.status.busy": "2021-03-09T23:42:53.273768Z",
     "iopub.status.idle": "2021-03-09T23:42:53.276964Z",
     "shell.execute_reply": "2021-03-09T23:42:53.277650Z"
    },
    "papermill": {
     "duration": 0.05768,
     "end_time": "2021-03-09T23:42:53.277861",
     "exception": false,
     "start_time": "2021-03-09T23:42:53.220181",
     "status": "completed"
    },
    "tags": []
   },
   "outputs": [],
   "source": [
    "#plt.subplots(figsize=(20, 20))\n",
    "#sns.heatmap(corr, annot = True, mask = np.triu(corr))"
   ]
  },
  {
   "cell_type": "markdown",
   "metadata": {
    "papermill": {
     "duration": 0.050811,
     "end_time": "2021-03-09T23:42:53.380713",
     "exception": false,
     "start_time": "2021-03-09T23:42:53.329902",
     "status": "completed"
    },
    "tags": []
   },
   "source": []
  },
  {
   "cell_type": "code",
   "execution_count": 43,
   "metadata": {
    "execution": {
     "iopub.execute_input": "2021-03-09T23:42:53.485903Z",
     "iopub.status.busy": "2021-03-09T23:42:53.485120Z",
     "iopub.status.idle": "2021-03-09T23:43:10.365912Z",
     "shell.execute_reply": "2021-03-09T23:43:10.365102Z"
    },
    "papermill": {
     "duration": 16.934753,
     "end_time": "2021-03-09T23:43:10.366157",
     "exception": false,
     "start_time": "2021-03-09T23:42:53.431404",
     "status": "completed"
    },
    "tags": []
   },
   "outputs": [],
   "source": [
    "train_merge.loc[:,'primary_use'] = train_merge['primary_use'].replace({'Entertainment/public assembly':'public',\n",
    "     'Public services':'service','Lodging/residential':'resident','Healthcare':'resident',\n",
    "     'Parking':'parking','Warehouse/storage': 'parking','Manufacturing/industrial': 'manufact',\n",
    "     'Retail':'service', 'Services':'service', 'Technology/science':'Office',\n",
    "     'Food sales and service':'service','Utility':'service','Religious worship':'public'})\n",
    "\n",
    "test_merge.loc[:,'primary_use'] = test_merge['primary_use'].replace({'Entertainment/public assembly':'public',\n",
    "     'Public services':'service','Lodging/residential':'resident','Healthcare':'resident',\n",
    "     'Parking':'parking','Warehouse/storage': 'parking','Manufacturing/industrial': 'manufact',\n",
    "     'Retail':'service', 'Services':'service', 'Technology/science':'Office',\n",
    "     'Food sales and service':'service','Utility':'service','Religious worship':'public'})"
   ]
  },
  {
   "cell_type": "markdown",
   "metadata": {
    "papermill": {
     "duration": 0.050559,
     "end_time": "2021-03-09T23:43:10.468096",
     "exception": false,
     "start_time": "2021-03-09T23:43:10.417537",
     "status": "completed"
    },
    "tags": []
   },
   "source": [
    "# <a id='4'>4. Simple model</a>"
   ]
  },
  {
   "cell_type": "code",
   "execution_count": 44,
   "metadata": {
    "execution": {
     "iopub.execute_input": "2021-03-09T23:43:10.578719Z",
     "iopub.status.busy": "2021-03-09T23:43:10.578031Z",
     "iopub.status.idle": "2021-03-09T23:43:21.415596Z",
     "shell.execute_reply": "2021-03-09T23:43:21.414958Z"
    },
    "papermill": {
     "duration": 10.896812,
     "end_time": "2021-03-09T23:43:21.415763",
     "exception": false,
     "start_time": "2021-03-09T23:43:10.518951",
     "status": "completed"
    },
    "tags": []
   },
   "outputs": [],
   "source": [
    "from sklearn.tree import DecisionTreeRegressor\n",
    "\n",
    "y_train = train_merge['target']\n",
    "x_train = train_merge.dropna(axis = 1)\n",
    "\n",
    "x = pd.get_dummies(x_train[['primary_use']],drop_first=True)\n",
    "x_train = pd.concat([x_train, x], axis = 1)\n",
    "x_train = x_train.drop(['primary_use','meter_reading','target', 'timestamp'], axis = 1)"
   ]
  },
  {
   "cell_type": "code",
   "execution_count": 45,
   "metadata": {
    "execution": {
     "iopub.execute_input": "2021-03-09T23:43:21.527392Z",
     "iopub.status.busy": "2021-03-09T23:43:21.526008Z",
     "iopub.status.idle": "2021-03-09T23:43:46.329808Z",
     "shell.execute_reply": "2021-03-09T23:43:46.328850Z"
    },
    "papermill": {
     "duration": 24.862907,
     "end_time": "2021-03-09T23:43:46.329981",
     "exception": false,
     "start_time": "2021-03-09T23:43:21.467074",
     "status": "completed"
    },
    "tags": []
   },
   "outputs": [],
   "source": [
    "x_test = test_merge.dropna(axis = 1)\n",
    "x = pd.get_dummies(x_test[['primary_use']],drop_first=True)\n",
    "x_test = pd.concat([x_test, x], axis = 1)\n",
    "x_test = x_test.drop(['primary_use','timestamp'], axis = 1)\n",
    "x_test = x_test.drop('row_id', axis = 1)"
   ]
  },
  {
   "cell_type": "code",
   "execution_count": 46,
   "metadata": {
    "execution": {
     "iopub.execute_input": "2021-03-09T23:43:46.435338Z",
     "iopub.status.busy": "2021-03-09T23:43:46.434705Z",
     "iopub.status.idle": "2021-03-09T23:43:46.630104Z",
     "shell.execute_reply": "2021-03-09T23:43:46.629424Z"
    },
    "papermill": {
     "duration": 0.249279,
     "end_time": "2021-03-09T23:43:46.630246",
     "exception": false,
     "start_time": "2021-03-09T23:43:46.380967",
     "status": "completed"
    },
    "tags": []
   },
   "outputs": [
    {
     "data": {
      "text/plain": [
       "54"
      ]
     },
     "execution_count": 46,
     "metadata": {},
     "output_type": "execute_result"
    }
   ],
   "source": [
    "del train_merge,x\n",
    "gc.collect()\n"
   ]
  },
  {
   "cell_type": "code",
   "execution_count": 47,
   "metadata": {
    "execution": {
     "iopub.execute_input": "2021-03-09T23:43:46.740527Z",
     "iopub.status.busy": "2021-03-09T23:43:46.739870Z",
     "iopub.status.idle": "2021-03-09T23:49:16.623663Z",
     "shell.execute_reply": "2021-03-09T23:49:16.622256Z"
    },
    "papermill": {
     "duration": 329.943155,
     "end_time": "2021-03-09T23:49:16.624086",
     "exception": false,
     "start_time": "2021-03-09T23:43:46.680931",
     "status": "completed"
    },
    "tags": []
   },
   "outputs": [],
   "source": [
    "tree_model = DecisionTreeRegressor(min_samples_split = 200, min_samples_leaf = 100)\n",
    "tree_model = tree_model.fit(x_train, y_train)"
   ]
  },
  {
   "cell_type": "markdown",
   "metadata": {
    "papermill": {
     "duration": 0.054695,
     "end_time": "2021-03-09T23:49:16.735215",
     "exception": false,
     "start_time": "2021-03-09T23:49:16.680520",
     "status": "completed"
    },
    "tags": []
   },
   "source": [
    "# Light Gradient Boost Machine"
   ]
  },
  {
   "cell_type": "code",
   "execution_count": 48,
   "metadata": {
    "execution": {
     "iopub.execute_input": "2021-03-09T23:49:16.847898Z",
     "iopub.status.busy": "2021-03-09T23:49:16.846925Z",
     "iopub.status.idle": "2021-03-09T23:49:16.850419Z",
     "shell.execute_reply": "2021-03-09T23:49:16.849882Z"
    },
    "papermill": {
     "duration": 0.063031,
     "end_time": "2021-03-09T23:49:16.850603",
     "exception": false,
     "start_time": "2021-03-09T23:49:16.787572",
     "status": "completed"
    },
    "tags": []
   },
   "outputs": [],
   "source": [
    "#import lightgbm as lgb\n",
    "#from sklearn.model_selection import train_test_split\n",
    "#import random\n",
    "#random.seed(0)"
   ]
  },
  {
   "cell_type": "code",
   "execution_count": 49,
   "metadata": {
    "execution": {
     "iopub.execute_input": "2021-03-09T23:49:16.962391Z",
     "iopub.status.busy": "2021-03-09T23:49:16.961461Z",
     "iopub.status.idle": "2021-03-09T23:49:16.965117Z",
     "shell.execute_reply": "2021-03-09T23:49:16.965660Z"
    },
    "papermill": {
     "duration": 0.063085,
     "end_time": "2021-03-09T23:49:16.965864",
     "exception": false,
     "start_time": "2021-03-09T23:49:16.902779",
     "status": "completed"
    },
    "tags": []
   },
   "outputs": [
    {
     "data": {
      "text/plain": [
       "'#X_train, X_val, y_train, y_val = train_test_split(x_train,y_train,test_size=0.2)\\nX_train1 = x_train[:int(x_train.shape[0] / 2)]\\nX_train2 = x_train[int(x_train.shape[0] / 2):]\\ndel x_train\\n\\ny_train1 = y_train[:int(y_train.shape[0]/2)]\\ny_train2 = y_train[int(y_train.shape[0] / 2):]\\ndel y_train\\n\\n#categorical_features = [\\'building_id\\', \\'site_id\\', \\'meter\\',\\'month\\',\\'day\\',\\'week\\',\\'hour\\']\\n\\nX_train1 = lgb.Dataset(X_train1, label=y_train1,free_raw_data=False)\\nX_train2 = lgb.Dataset(X_train2, label=y_train2,free_raw_data=False)\\ndel y_train1,y_train2\\n\\n\\nparams = {\\n    \"objective\": \"regression\",\\n    \"boosting\": \"gbdt\",\\n    \"num_leaves\": 200,\\n    \"learning_rate\": 0.01,\\n    \"feature_fraction\": 0.80,\\n    \"reg_lambda\": 2,\\n    \"metric\": \"rmse\"\\n    #\"force_col_wise\": True\\n}\\n\\n#Building model with first half and validating on second half:\\nmodel1 = lgb.train(params, train_set=X_train1, num_boost_round=1000, valid_sets=[X_train1,X_train2],verbose_eval=200, early_stopping_rounds=200)\\n\\n#Building model with second half and validating on first half:\\nmodel2 = lgb.train(params, train_set=X_train2, num_boost_round=1000, valid_sets=[X_train2,X_train1], verbose_eval=200,early_stopping_rounds=200)\\ndel X_train1,X_train2'"
      ]
     },
     "execution_count": 49,
     "metadata": {},
     "output_type": "execute_result"
    }
   ],
   "source": [
    "\"\"\"#X_train, X_val, y_train, y_val = train_test_split(x_train,y_train,test_size=0.2)\n",
    "X_train1 = x_train[:int(x_train.shape[0] / 2)]\n",
    "X_train2 = x_train[int(x_train.shape[0] / 2):]\n",
    "del x_train\n",
    "\n",
    "y_train1 = y_train[:int(y_train.shape[0]/2)]\n",
    "y_train2 = y_train[int(y_train.shape[0] / 2):]\n",
    "del y_train\n",
    "\n",
    "#categorical_features = ['building_id', 'site_id', 'meter','month','day','week','hour']\n",
    "\n",
    "X_train1 = lgb.Dataset(X_train1, label=y_train1,free_raw_data=False)\n",
    "X_train2 = lgb.Dataset(X_train2, label=y_train2,free_raw_data=False)\n",
    "del y_train1,y_train2\n",
    "\n",
    "\n",
    "params = {\n",
    "    \"objective\": \"regression\",\n",
    "    \"boosting\": \"gbdt\",\n",
    "    \"num_leaves\": 200,\n",
    "    \"learning_rate\": 0.01,\n",
    "    \"feature_fraction\": 0.80,\n",
    "    \"reg_lambda\": 2,\n",
    "    \"metric\": \"rmse\"\n",
    "    #\"force_col_wise\": True\n",
    "}\n",
    "\n",
    "#Building model with first half and validating on second half:\n",
    "model1 = lgb.train(params, train_set=X_train1, num_boost_round=1000, valid_sets=[X_train1,X_train2],verbose_eval=200, early_stopping_rounds=200)\n",
    "\n",
    "#Building model with second half and validating on first half:\n",
    "model2 = lgb.train(params, train_set=X_train2, num_boost_round=1000, valid_sets=[X_train2,X_train1], verbose_eval=200,early_stopping_rounds=200)\n",
    "del X_train1,X_train2\"\"\""
   ]
  },
  {
   "cell_type": "code",
   "execution_count": 50,
   "metadata": {
    "execution": {
     "iopub.execute_input": "2021-03-09T23:49:17.075425Z",
     "iopub.status.busy": "2021-03-09T23:49:17.074754Z",
     "iopub.status.idle": "2021-03-09T23:49:31.479205Z",
     "shell.execute_reply": "2021-03-09T23:49:31.479711Z"
    },
    "papermill": {
     "duration": 14.461206,
     "end_time": "2021-03-09T23:49:31.479903",
     "exception": false,
     "start_time": "2021-03-09T23:49:17.018697",
     "status": "completed"
    },
    "tags": []
   },
   "outputs": [
    {
     "data": {
      "text/plain": [
       "0"
      ]
     },
     "execution_count": 50,
     "metadata": {},
     "output_type": "execute_result"
    }
   ],
   "source": [
    "ratio = int(len(x_test)/10)\n",
    "y_pred = np.empty(len(x_test))\n",
    "for i in range(10):\n",
    "    #y_pred[i*ratio:(i+1)*ratio] = np.expm1(model1.predict(x_test.iloc[i*ratio:(i+1)*ratio],num_iteration=model1.best_iteration))/2\n",
    "    #y_pred[i*ratio:(i+1)*ratio] += np.expm1(model2.predict(x_test.iloc[i*ratio:(i+1)*ratio],num_iteration=model2.best_iteration))/2\n",
    "    y_pred[i*ratio:(i+1)*ratio] = np.expm1(tree_model.predict(x_test.iloc[i*ratio:(i+1)*ratio]))\n",
    "del tree_model\n",
    "gc.collect()    "
   ]
  },
  {
   "cell_type": "code",
   "execution_count": 51,
   "metadata": {
    "execution": {
     "iopub.execute_input": "2021-03-09T23:49:31.592190Z",
     "iopub.status.busy": "2021-03-09T23:49:31.591556Z",
     "iopub.status.idle": "2021-03-09T23:52:09.556031Z",
     "shell.execute_reply": "2021-03-09T23:52:09.556620Z"
    },
    "papermill": {
     "duration": 158.024633,
     "end_time": "2021-03-09T23:52:09.556825",
     "exception": false,
     "start_time": "2021-03-09T23:49:31.532192",
     "status": "completed"
    },
    "tags": []
   },
   "outputs": [],
   "source": [
    "y_pred[x_test.meter==0] /= 0.2931\n",
    "my_submission = pd.DataFrame({'row_id': test_merge.row_id, 'meter_reading': y_pred})\n",
    "my_submission.to_csv('submission.csv', index=False)"
   ]
  },
  {
   "cell_type": "code",
   "execution_count": null,
   "metadata": {
    "papermill": {
     "duration": 0.052197,
     "end_time": "2021-03-09T23:52:09.661543",
     "exception": false,
     "start_time": "2021-03-09T23:52:09.609346",
     "status": "completed"
    },
    "tags": []
   },
   "outputs": [],
   "source": []
  }
 ],
 "metadata": {
  "kernelspec": {
   "display_name": "Python 3",
   "language": "python",
   "name": "python3"
  },
  "language_info": {
   "codemirror_mode": {
    "name": "ipython",
    "version": 3
   },
   "file_extension": ".py",
   "mimetype": "text/x-python",
   "name": "python",
   "nbconvert_exporter": "python",
   "pygments_lexer": "ipython3",
   "version": "3.7.9"
  },
  "papermill": {
   "default_parameters": {},
   "duration": 805.671995,
   "end_time": "2021-03-09T23:52:11.130737",
   "environment_variables": {},
   "exception": null,
   "input_path": "__notebook__.ipynb",
   "output_path": "__notebook__.ipynb",
   "parameters": {},
   "start_time": "2021-03-09T23:38:45.458742",
   "version": "2.2.2"
  }
 },
 "nbformat": 4,
 "nbformat_minor": 4
}
