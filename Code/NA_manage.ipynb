{
 "cells": [
  {
   "cell_type": "code",
   "execution_count": 1,
   "metadata": {
    "_cell_guid": "b1076dfc-b9ad-4769-8c92-a6c4dae69d19",
    "_uuid": "8f2839f25d086af736a60e9eeb907d3b93b6e0e5",
    "execution": {
     "iopub.execute_input": "2021-02-24T16:34:34.504587Z",
     "iopub.status.busy": "2021-02-24T16:34:34.503833Z",
     "iopub.status.idle": "2021-02-24T16:34:36.033937Z",
     "shell.execute_reply": "2021-02-24T16:34:36.032721Z"
    },
    "papermill": {
     "duration": 1.559794,
     "end_time": "2021-02-24T16:34:36.034483",
     "exception": false,
     "start_time": "2021-02-24T16:34:34.474689",
     "status": "completed"
    },
    "tags": []
   },
   "outputs": [
    {
     "name": "stdout",
     "output_type": "stream",
     "text": [
      "/kaggle/input/ashrae-energy-prediction/sample_submission.csv\n",
      "/kaggle/input/ashrae-energy-prediction/building_metadata.csv\n",
      "/kaggle/input/ashrae-energy-prediction/weather_train.csv\n",
      "/kaggle/input/ashrae-energy-prediction/weather_test.csv\n",
      "/kaggle/input/ashrae-energy-prediction/train.csv\n",
      "/kaggle/input/ashrae-energy-prediction/test.csv\n"
     ]
    }
   ],
   "source": [
    "import numpy as np # linear algebra\n",
    "import pandas as pd # data processing, CSV file I/O (e.g. pd.read_csv)\n",
    "import matplotlib.pyplot as plt # basic plotting\n",
    "import seaborn as sns # for prettier plots\n",
    "import datetime # manipulating date formats\n",
    "import missingno as msno # sowing missing value\n",
    "import gc #\n",
    "\n",
    "import os\n",
    "for dirname, _, filenames in os.walk('/kaggle/input'):\n",
    "    for filename in filenames:\n",
    "        print(os.path.join(dirname, filename))"
   ]
  },
  {
   "cell_type": "markdown",
   "metadata": {
    "papermill": {
     "duration": 0.024718,
     "end_time": "2021-02-24T16:34:36.085631",
     "exception": false,
     "start_time": "2021-02-24T16:34:36.060913",
     "status": "completed"
    },
    "tags": []
   },
   "source": [
    "# 1. Data's Overview\n",
    "\n",
    "## Loading data"
   ]
  },
  {
   "cell_type": "code",
   "execution_count": 2,
   "metadata": {
    "execution": {
     "iopub.execute_input": "2021-02-24T16:34:36.144301Z",
     "iopub.status.busy": "2021-02-24T16:34:36.143344Z",
     "iopub.status.idle": "2021-02-24T16:36:15.311841Z",
     "shell.execute_reply": "2021-02-24T16:36:15.311041Z"
    },
    "papermill": {
     "duration": 99.198395,
     "end_time": "2021-02-24T16:36:15.312027",
     "exception": false,
     "start_time": "2021-02-24T16:34:36.113632",
     "status": "completed"
    },
    "tags": []
   },
   "outputs": [],
   "source": [
    "building_metadata = pd.read_csv('/kaggle/input/ashrae-energy-prediction/building_metadata.csv')\n",
    "train = pd.read_csv('/kaggle/input/ashrae-energy-prediction/train.csv', parse_dates=['timestamp'])\n",
    "test = pd.read_csv('/kaggle/input/ashrae-energy-prediction/test.csv', parse_dates=['timestamp'])\n",
    "weather_train = pd.read_csv('/kaggle/input/ashrae-energy-prediction/weather_train.csv', parse_dates=['timestamp'])\n",
    "weather_test = pd.read_csv('/kaggle/input/ashrae-energy-prediction/weather_test.csv', parse_dates=['timestamp'])"
   ]
  },
  {
   "cell_type": "code",
   "execution_count": 3,
   "metadata": {
    "execution": {
     "iopub.execute_input": "2021-02-24T16:36:15.377022Z",
     "iopub.status.busy": "2021-02-24T16:36:15.374278Z",
     "iopub.status.idle": "2021-02-24T16:36:17.278909Z",
     "shell.execute_reply": "2021-02-24T16:36:17.279452Z"
    },
    "papermill": {
     "duration": 1.949723,
     "end_time": "2021-02-24T16:36:17.279666",
     "exception": false,
     "start_time": "2021-02-24T16:36:15.329943",
     "status": "completed"
    },
    "tags": []
   },
   "outputs": [],
   "source": [
    "#Transformation of the timestamp to date format\n",
    "train['timestamp'] = pd.to_datetime(train['timestamp'])\n",
    "test['timestamp'] = pd.to_datetime(test['timestamp'])\n",
    "weather_train['timestamp'] = pd.to_datetime(weather_train['timestamp'])\n",
    "weather_test['timestamp'] = pd.to_datetime(weather_test['timestamp'])"
   ]
  },
  {
   "cell_type": "code",
   "execution_count": 4,
   "metadata": {
    "execution": {
     "iopub.execute_input": "2021-02-24T16:36:17.321027Z",
     "iopub.status.busy": "2021-02-24T16:36:17.320098Z",
     "iopub.status.idle": "2021-02-24T16:36:17.344541Z",
     "shell.execute_reply": "2021-02-24T16:36:17.343411Z"
    },
    "papermill": {
     "duration": 0.046885,
     "end_time": "2021-02-24T16:36:17.344729",
     "exception": false,
     "start_time": "2021-02-24T16:36:17.297844",
     "status": "completed"
    },
    "tags": []
   },
   "outputs": [],
   "source": [
    "#Function to reduction memory usage (Source code from Kaggle)\n",
    "def reduce_mem_usage(df, verbose=True):\n",
    "    numerics = ['int16', 'int32', 'int64', 'float16', 'float32', 'float64']\n",
    "    start_mem = df.memory_usage().sum() / 1024**2\n",
    "    for col in df.columns:\n",
    "        col_type = df[col].dtypes\n",
    "        if col_type in numerics:\n",
    "            c_min = df[col].min()\n",
    "            c_max = df[col].max()\n",
    "            if str(col_type)[:3] == 'int':\n",
    "                if c_min > np.iinfo(np.int8).min and c_max < np.iinfo(np.int8).max:\n",
    "                    df[col] = df[col].astype(np.int8)\n",
    "                elif c_min > np.iinfo(np.int16).min and c_max < np.iinfo(np.int16).max:\n",
    "                    df[col] = df[col].astype(np.int16)\n",
    "                elif c_min > np.iinfo(np.int32).min and c_max < np.iinfo(np.int32).max:\n",
    "                    df[col] = df[col].astype(np.int32)\n",
    "                elif c_min > np.iinfo(np.int64).min and c_max < np.iinfo(np.int64).max:\n",
    "                    df[col] = df[col].astype(np.int64)\n",
    "            else:\n",
    "                if c_min > np.finfo(np.float16).min and c_max < np.finfo(np.float16).max:\n",
    "                    df[col] = df[col].astype(np.float16)\n",
    "                elif c_min > np.finfo(np.float32).min and c_max < np.finfo(np.float32).max:\n",
    "                    df[col] = df[col].astype(np.float32)\n",
    "                else:\n",
    "                    df[col] = df[col].astype(np.float64)\n",
    "\n",
    "    end_mem = df.memory_usage().sum() / 1024**2\n",
    "    print('Memory usage after optimization is: {:.2f} MB'.format(end_mem))\n",
    "    print('Decreased by {:.1f}%'.format(100 * (start_mem - end_mem) / start_mem))\n",
    "\n",
    "    return df"
   ]
  },
  {
   "cell_type": "markdown",
   "metadata": {
    "papermill": {
     "duration": 0.016252,
     "end_time": "2021-02-24T16:36:17.379224",
     "exception": false,
     "start_time": "2021-02-24T16:36:17.362972",
     "status": "completed"
    },
    "tags": []
   },
   "source": [
    "## Data's overview"
   ]
  },
  {
   "cell_type": "code",
   "execution_count": 5,
   "metadata": {
    "execution": {
     "iopub.execute_input": "2021-02-24T16:36:17.424882Z",
     "iopub.status.busy": "2021-02-24T16:36:17.423407Z",
     "iopub.status.idle": "2021-02-24T16:36:17.433908Z",
     "shell.execute_reply": "2021-02-24T16:36:17.432883Z"
    },
    "papermill": {
     "duration": 0.036657,
     "end_time": "2021-02-24T16:36:17.434097",
     "exception": false,
     "start_time": "2021-02-24T16:36:17.397440",
     "status": "completed"
    },
    "tags": []
   },
   "outputs": [
    {
     "name": "stdout",
     "output_type": "stream",
     "text": [
      "Size of train data (20216100, 4)\n",
      "Size of test data (41697600, 4)\n",
      "Size of weather_train data (139773, 9)\n",
      "Size of weather_test data (277243, 9)\n",
      "Size of building_metadata data (1449, 6)\n"
     ]
    }
   ],
   "source": [
    "print('Size of train data', train.shape)\n",
    "print('Size of test data', test.shape)\n",
    "print('Size of weather_train data', weather_train.shape)\n",
    "print('Size of weather_test data', weather_test.shape)\n",
    "print('Size of building_metadata data', building_metadata.shape)"
   ]
  },
  {
   "cell_type": "markdown",
   "metadata": {
    "papermill": {
     "duration": 0.019082,
     "end_time": "2021-02-24T16:36:17.474104",
     "exception": false,
     "start_time": "2021-02-24T16:36:17.455022",
     "status": "completed"
    },
    "tags": []
   },
   "source": [
    "Check missing data"
   ]
  },
  {
   "cell_type": "code",
   "execution_count": 6,
   "metadata": {
    "execution": {
     "iopub.execute_input": "2021-02-24T16:36:17.523873Z",
     "iopub.status.busy": "2021-02-24T16:36:17.523154Z",
     "iopub.status.idle": "2021-02-24T16:36:17.530687Z",
     "shell.execute_reply": "2021-02-24T16:36:17.530024Z"
    },
    "papermill": {
     "duration": 0.03742,
     "end_time": "2021-02-24T16:36:17.530889",
     "exception": false,
     "start_time": "2021-02-24T16:36:17.493469",
     "status": "completed"
    },
    "tags": []
   },
   "outputs": [],
   "source": [
    "#This function get for a given dataset, the number, the percentage, of the missing of each column \n",
    "\n",
    "def get_missing_info(df):\n",
    "    num_entries = df.shape[0]*df.shape[1]\n",
    "    null_entries = df.isnull().sum().sum()\n",
    "    percent_empty = null_entries/num_entries*100\n",
    "    num_missing = df.isna().sum()\n",
    "    percent_missing = num_missing/len(df)*100\n",
    "    col_modes = df.mode().loc[0]\n",
    "    percent_mode = [df[x].isin([df[x].mode()[0]]).sum()/len(df)*100 for x in df]\n",
    "    missing_value_df = pd.DataFrame({'num_missing': num_missing,\n",
    "                                     'percent_missing': percent_missing, \n",
    "                                     'mode': col_modes,\n",
    "                                     'percent_mode':percent_mode\n",
    "                                    })\n",
    "    print('total empty percent:', percent_empty, '%')\n",
    "    return(missing_value_df)"
   ]
  },
  {
   "cell_type": "code",
   "execution_count": 7,
   "metadata": {
    "execution": {
     "iopub.execute_input": "2021-02-24T16:36:17.574191Z",
     "iopub.status.busy": "2021-02-24T16:36:17.573325Z",
     "iopub.status.idle": "2021-02-24T16:36:26.115319Z",
     "shell.execute_reply": "2021-02-24T16:36:26.113666Z"
    },
    "papermill": {
     "duration": 8.565593,
     "end_time": "2021-02-24T16:36:26.115547",
     "exception": false,
     "start_time": "2021-02-24T16:36:17.549954",
     "status": "completed"
    },
    "tags": []
   },
   "outputs": [
    {
     "name": "stdout",
     "output_type": "stream",
     "text": [
      "total empty percent: 0.0 %\n"
     ]
    },
    {
     "data": {
      "text/html": [
       "<div>\n",
       "<style scoped>\n",
       "    .dataframe tbody tr th:only-of-type {\n",
       "        vertical-align: middle;\n",
       "    }\n",
       "\n",
       "    .dataframe tbody tr th {\n",
       "        vertical-align: top;\n",
       "    }\n",
       "\n",
       "    .dataframe thead th {\n",
       "        text-align: right;\n",
       "    }\n",
       "</style>\n",
       "<table border=\"1\" class=\"dataframe\">\n",
       "  <thead>\n",
       "    <tr style=\"text-align: right;\">\n",
       "      <th></th>\n",
       "      <th>num_missing</th>\n",
       "      <th>percent_missing</th>\n",
       "      <th>mode</th>\n",
       "      <th>percent_mode</th>\n",
       "    </tr>\n",
       "  </thead>\n",
       "  <tbody>\n",
       "    <tr>\n",
       "      <th>building_id</th>\n",
       "      <td>0</td>\n",
       "      <td>0.0</td>\n",
       "      <td>1249</td>\n",
       "      <td>0.173802</td>\n",
       "    </tr>\n",
       "    <tr>\n",
       "      <th>meter</th>\n",
       "      <td>0</td>\n",
       "      <td>0.0</td>\n",
       "      <td>0.0</td>\n",
       "      <td>59.659925</td>\n",
       "    </tr>\n",
       "    <tr>\n",
       "      <th>timestamp</th>\n",
       "      <td>0</td>\n",
       "      <td>0.0</td>\n",
       "      <td>2016-12-27 22:00:00</td>\n",
       "      <td>0.011723</td>\n",
       "    </tr>\n",
       "    <tr>\n",
       "      <th>meter_reading</th>\n",
       "      <td>0</td>\n",
       "      <td>0.0</td>\n",
       "      <td>0.0</td>\n",
       "      <td>9.269721</td>\n",
       "    </tr>\n",
       "  </tbody>\n",
       "</table>\n",
       "</div>"
      ],
      "text/plain": [
       "               num_missing  percent_missing                 mode  percent_mode\n",
       "building_id              0              0.0                 1249      0.173802\n",
       "meter                    0              0.0                  0.0     59.659925\n",
       "timestamp                0              0.0  2016-12-27 22:00:00      0.011723\n",
       "meter_reading            0              0.0                  0.0      9.269721"
      ]
     },
     "execution_count": 7,
     "metadata": {},
     "output_type": "execute_result"
    }
   ],
   "source": [
    "get_missing_info(train)\n",
    "#get_missing_info(test)"
   ]
  },
  {
   "cell_type": "code",
   "execution_count": 8,
   "metadata": {
    "execution": {
     "iopub.execute_input": "2021-02-24T16:36:26.194684Z",
     "iopub.status.busy": "2021-02-24T16:36:26.192075Z",
     "iopub.status.idle": "2021-02-24T16:36:26.226327Z",
     "shell.execute_reply": "2021-02-24T16:36:26.225338Z"
    },
    "papermill": {
     "duration": 0.078213,
     "end_time": "2021-02-24T16:36:26.226524",
     "exception": false,
     "start_time": "2021-02-24T16:36:26.148311",
     "status": "completed"
    },
    "tags": []
   },
   "outputs": [
    {
     "name": "stdout",
     "output_type": "stream",
     "text": [
      "total empty percent: 21.486082355647575 %\n"
     ]
    },
    {
     "data": {
      "text/html": [
       "<div>\n",
       "<style scoped>\n",
       "    .dataframe tbody tr th:only-of-type {\n",
       "        vertical-align: middle;\n",
       "    }\n",
       "\n",
       "    .dataframe tbody tr th {\n",
       "        vertical-align: top;\n",
       "    }\n",
       "\n",
       "    .dataframe thead th {\n",
       "        text-align: right;\n",
       "    }\n",
       "</style>\n",
       "<table border=\"1\" class=\"dataframe\">\n",
       "  <thead>\n",
       "    <tr style=\"text-align: right;\">\n",
       "      <th></th>\n",
       "      <th>num_missing</th>\n",
       "      <th>percent_missing</th>\n",
       "      <th>mode</th>\n",
       "      <th>percent_mode</th>\n",
       "    </tr>\n",
       "  </thead>\n",
       "  <tbody>\n",
       "    <tr>\n",
       "      <th>site_id</th>\n",
       "      <td>0</td>\n",
       "      <td>0.000000</td>\n",
       "      <td>3.0</td>\n",
       "      <td>18.909593</td>\n",
       "    </tr>\n",
       "    <tr>\n",
       "      <th>building_id</th>\n",
       "      <td>0</td>\n",
       "      <td>0.000000</td>\n",
       "      <td>0</td>\n",
       "      <td>0.069013</td>\n",
       "    </tr>\n",
       "    <tr>\n",
       "      <th>primary_use</th>\n",
       "      <td>0</td>\n",
       "      <td>0.000000</td>\n",
       "      <td>Education</td>\n",
       "      <td>37.888199</td>\n",
       "    </tr>\n",
       "    <tr>\n",
       "      <th>square_feet</th>\n",
       "      <td>0</td>\n",
       "      <td>0.000000</td>\n",
       "      <td>387638.0</td>\n",
       "      <td>0.483092</td>\n",
       "    </tr>\n",
       "    <tr>\n",
       "      <th>year_built</th>\n",
       "      <td>774</td>\n",
       "      <td>53.416149</td>\n",
       "      <td>1976.0</td>\n",
       "      <td>3.795721</td>\n",
       "    </tr>\n",
       "    <tr>\n",
       "      <th>floor_count</th>\n",
       "      <td>1094</td>\n",
       "      <td>75.500345</td>\n",
       "      <td>1.0</td>\n",
       "      <td>7.522429</td>\n",
       "    </tr>\n",
       "  </tbody>\n",
       "</table>\n",
       "</div>"
      ],
      "text/plain": [
       "             num_missing  percent_missing       mode  percent_mode\n",
       "site_id                0         0.000000        3.0     18.909593\n",
       "building_id            0         0.000000          0      0.069013\n",
       "primary_use            0         0.000000  Education     37.888199\n",
       "square_feet            0         0.000000   387638.0      0.483092\n",
       "year_built           774        53.416149     1976.0      3.795721\n",
       "floor_count         1094        75.500345        1.0      7.522429"
      ]
     },
     "execution_count": 8,
     "metadata": {},
     "output_type": "execute_result"
    }
   ],
   "source": [
    "get_missing_info(building_metadata)"
   ]
  },
  {
   "cell_type": "code",
   "execution_count": 9,
   "metadata": {
    "execution": {
     "iopub.execute_input": "2021-02-24T16:36:26.305925Z",
     "iopub.status.busy": "2021-02-24T16:36:26.304700Z",
     "iopub.status.idle": "2021-02-24T16:36:26.313574Z",
     "shell.execute_reply": "2021-02-24T16:36:26.314362Z"
    },
    "papermill": {
     "duration": 0.053625,
     "end_time": "2021-02-24T16:36:26.314597",
     "exception": false,
     "start_time": "2021-02-24T16:36:26.260972",
     "status": "completed"
    },
    "tags": []
   },
   "outputs": [],
   "source": [
    "#According to the above table, 53.41% of year_built and 75.50% \n",
    "#of floor_count are not available\n",
    "\n",
    "#We fill the floor_count's NA by mode = 1 (repsent 7.52% of floor_count values) \n",
    "#and the year_built by the mean of it value\n",
    "building_metadata.fillna({'floor_count':1,'year_built': building_metadata['year_built'].mean()}, inplace = True)\n",
    "building_metadata['primary_use'] = building_metadata['primary_use'].astype('category')"
   ]
  },
  {
   "cell_type": "code",
   "execution_count": 10,
   "metadata": {
    "execution": {
     "iopub.execute_input": "2021-02-24T16:36:26.385339Z",
     "iopub.status.busy": "2021-02-24T16:36:26.384184Z",
     "iopub.status.idle": "2021-02-24T16:36:26.398912Z",
     "shell.execute_reply": "2021-02-24T16:36:26.398112Z"
    },
    "papermill": {
     "duration": 0.05164,
     "end_time": "2021-02-24T16:36:26.399093",
     "exception": false,
     "start_time": "2021-02-24T16:36:26.347453",
     "status": "completed"
    },
    "tags": []
   },
   "outputs": [
    {
     "data": {
      "text/plain": [
       "site_id        0\n",
       "building_id    0\n",
       "primary_use    0\n",
       "square_feet    0\n",
       "year_built     0\n",
       "floor_count    0\n",
       "dtype: int64"
      ]
     },
     "execution_count": 10,
     "metadata": {},
     "output_type": "execute_result"
    }
   ],
   "source": [
    "building_metadata.isnull().sum()"
   ]
  },
  {
   "cell_type": "code",
   "execution_count": 11,
   "metadata": {
    "execution": {
     "iopub.execute_input": "2021-02-24T16:36:26.477720Z",
     "iopub.status.busy": "2021-02-24T16:36:26.476206Z",
     "iopub.status.idle": "2021-02-24T16:36:26.605235Z",
     "shell.execute_reply": "2021-02-24T16:36:26.605911Z"
    },
    "papermill": {
     "duration": 0.171119,
     "end_time": "2021-02-24T16:36:26.606149",
     "exception": false,
     "start_time": "2021-02-24T16:36:26.435030",
     "status": "completed"
    },
    "tags": []
   },
   "outputs": [
    {
     "name": "stdout",
     "output_type": "stream",
     "text": [
      "total empty percent: 10.876365408356566 %\n"
     ]
    },
    {
     "data": {
      "text/html": [
       "<div>\n",
       "<style scoped>\n",
       "    .dataframe tbody tr th:only-of-type {\n",
       "        vertical-align: middle;\n",
       "    }\n",
       "\n",
       "    .dataframe tbody tr th {\n",
       "        vertical-align: top;\n",
       "    }\n",
       "\n",
       "    .dataframe thead th {\n",
       "        text-align: right;\n",
       "    }\n",
       "</style>\n",
       "<table border=\"1\" class=\"dataframe\">\n",
       "  <thead>\n",
       "    <tr style=\"text-align: right;\">\n",
       "      <th></th>\n",
       "      <th>num_missing</th>\n",
       "      <th>percent_missing</th>\n",
       "      <th>mode</th>\n",
       "      <th>percent_mode</th>\n",
       "    </tr>\n",
       "  </thead>\n",
       "  <tbody>\n",
       "    <tr>\n",
       "      <th>site_id</th>\n",
       "      <td>0</td>\n",
       "      <td>0.000000</td>\n",
       "      <td>0.0</td>\n",
       "      <td>6.284476</td>\n",
       "    </tr>\n",
       "    <tr>\n",
       "      <th>timestamp</th>\n",
       "      <td>0</td>\n",
       "      <td>0.000000</td>\n",
       "      <td>2016-01-01 01:00:00</td>\n",
       "      <td>0.011447</td>\n",
       "    </tr>\n",
       "    <tr>\n",
       "      <th>air_temperature</th>\n",
       "      <td>55</td>\n",
       "      <td>0.039350</td>\n",
       "      <td>15.0</td>\n",
       "      <td>1.947443</td>\n",
       "    </tr>\n",
       "    <tr>\n",
       "      <th>cloud_coverage</th>\n",
       "      <td>69173</td>\n",
       "      <td>49.489529</td>\n",
       "      <td>0.0</td>\n",
       "      <td>24.232863</td>\n",
       "    </tr>\n",
       "    <tr>\n",
       "      <th>dew_temperature</th>\n",
       "      <td>113</td>\n",
       "      <td>0.080845</td>\n",
       "      <td>10.0</td>\n",
       "      <td>1.973915</td>\n",
       "    </tr>\n",
       "    <tr>\n",
       "      <th>precip_depth_1_hr</th>\n",
       "      <td>50289</td>\n",
       "      <td>35.979052</td>\n",
       "      <td>0.0</td>\n",
       "      <td>55.740379</td>\n",
       "    </tr>\n",
       "    <tr>\n",
       "      <th>sea_level_pressure</th>\n",
       "      <td>10618</td>\n",
       "      <td>7.596603</td>\n",
       "      <td>1015.2</td>\n",
       "      <td>0.608844</td>\n",
       "    </tr>\n",
       "    <tr>\n",
       "      <th>wind_direction</th>\n",
       "      <td>6268</td>\n",
       "      <td>4.484414</td>\n",
       "      <td>0.0</td>\n",
       "      <td>9.410974</td>\n",
       "    </tr>\n",
       "    <tr>\n",
       "      <th>wind_speed</th>\n",
       "      <td>304</td>\n",
       "      <td>0.217496</td>\n",
       "      <td>2.1</td>\n",
       "      <td>10.288825</td>\n",
       "    </tr>\n",
       "  </tbody>\n",
       "</table>\n",
       "</div>"
      ],
      "text/plain": [
       "                    num_missing  percent_missing                 mode  \\\n",
       "site_id                       0         0.000000                  0.0   \n",
       "timestamp                     0         0.000000  2016-01-01 01:00:00   \n",
       "air_temperature              55         0.039350                 15.0   \n",
       "cloud_coverage            69173        49.489529                  0.0   \n",
       "dew_temperature             113         0.080845                 10.0   \n",
       "precip_depth_1_hr         50289        35.979052                  0.0   \n",
       "sea_level_pressure        10618         7.596603               1015.2   \n",
       "wind_direction             6268         4.484414                  0.0   \n",
       "wind_speed                  304         0.217496                  2.1   \n",
       "\n",
       "                    percent_mode  \n",
       "site_id                 6.284476  \n",
       "timestamp               0.011447  \n",
       "air_temperature         1.947443  \n",
       "cloud_coverage         24.232863  \n",
       "dew_temperature         1.973915  \n",
       "precip_depth_1_hr      55.740379  \n",
       "sea_level_pressure      0.608844  \n",
       "wind_direction          9.410974  \n",
       "wind_speed             10.288825  "
      ]
     },
     "execution_count": 11,
     "metadata": {},
     "output_type": "execute_result"
    }
   ],
   "source": [
    "get_missing_info(weather_train)\n",
    "#get_missing_info(weather_test)"
   ]
  },
  {
   "cell_type": "code",
   "execution_count": 12,
   "metadata": {
    "execution": {
     "iopub.execute_input": "2021-02-24T16:36:26.698551Z",
     "iopub.status.busy": "2021-02-24T16:36:26.697331Z",
     "iopub.status.idle": "2021-02-24T16:36:26.856410Z",
     "shell.execute_reply": "2021-02-24T16:36:26.853850Z"
    },
    "papermill": {
     "duration": 0.212304,
     "end_time": "2021-02-24T16:36:26.856644",
     "exception": false,
     "start_time": "2021-02-24T16:36:26.644340",
     "status": "completed"
    },
    "tags": []
   },
   "outputs": [],
   "source": [
    "#Even the weather data don't change more in the futur and the past, so we make a \n",
    "#forward and backward filling\n",
    "# First: transformation of the timestamp into a datetime object \n",
    "# Second: sorting by site id then timestamp\n",
    "\n",
    "weather_train = weather_train.sort_values(by=['site_id', 'timestamp']) \n",
    "weather_train.fillna(method = 'ffill', inplace=True, limit = 24)#forward fill the missing data up to 12 hours\n",
    "weather_train.fillna(method = 'bfill', inplace=True, limit = 24)#backfill up to 12 hours\n",
    "\n",
    "## Weather test\n",
    "weather_test = weather_test.sort_values(by=['site_id', 'timestamp']) \n",
    "weather_test.fillna(method = 'ffill', inplace=True, limit = 24)\n",
    "weather_test.fillna(method = 'bfill', inplace=True, limit = 24)\n"
   ]
  },
  {
   "cell_type": "code",
   "execution_count": 13,
   "metadata": {
    "execution": {
     "iopub.execute_input": "2021-02-24T16:36:26.942612Z",
     "iopub.status.busy": "2021-02-24T16:36:26.940628Z",
     "iopub.status.idle": "2021-02-24T16:36:28.841404Z",
     "shell.execute_reply": "2021-02-24T16:36:28.840519Z"
    },
    "papermill": {
     "duration": 1.947488,
     "end_time": "2021-02-24T16:36:28.841603",
     "exception": false,
     "start_time": "2021-02-24T16:36:26.894115",
     "status": "completed"
    },
    "tags": []
   },
   "outputs": [
    {
     "data": {
      "text/plain": [
       "<AxesSubplot:>"
      ]
     },
     "execution_count": 13,
     "metadata": {},
     "output_type": "execute_result"
    },
    {
     "data": {
      "image/png": "[encoded data removed]",
      "text/plain": [
       "<Figure size 432x288 with 1 Axes>"
      ]
     },
     "metadata": {
      "needs_background": "light"
     },
     "output_type": "display_data"
    }
   ],
   "source": [
    "sns.heatmap(weather_train.isnull(), yticklabels = False, cbar = False, cmap = 'viridis')\n",
    "#sns.heatmap(weather_test.isnull(), yticklabels = False, cbar = False, cmap = 'viridis')"
   ]
  },
  {
   "cell_type": "code",
   "execution_count": 14,
   "metadata": {
    "execution": {
     "iopub.execute_input": "2021-02-24T16:36:28.927555Z",
     "iopub.status.busy": "2021-02-24T16:36:28.925747Z",
     "iopub.status.idle": "2021-02-24T16:36:29.038709Z",
     "shell.execute_reply": "2021-02-24T16:36:29.037435Z"
    },
    "papermill": {
     "duration": 0.160641,
     "end_time": "2021-02-24T16:36:29.038969",
     "exception": false,
     "start_time": "2021-02-24T16:36:28.878328",
     "status": "completed"
    },
    "tags": []
   },
   "outputs": [
    {
     "data": {
      "text/plain": [
       "site_id               0\n",
       "timestamp             0\n",
       "air_temperature       0\n",
       "cloud_coverage        0\n",
       "dew_temperature       0\n",
       "precip_depth_1_hr     0\n",
       "sea_level_pressure    0\n",
       "wind_direction        0\n",
       "wind_speed            0\n",
       "dtype: int64"
      ]
     },
     "execution_count": 14,
     "metadata": {},
     "output_type": "execute_result"
    }
   ],
   "source": [
    "#Train data\n",
    "missing_cols = [col for col in weather_train.columns if weather_train[col].isna().any()] \n",
    "fill_lib = weather_train.groupby('site_id')[missing_cols].transform('mean')\n",
    "#stores the mean of each feature for each site id\n",
    "weather_train.fillna(fill_lib, inplace=True) #for each feature with missing \n",
    "#values, fill the missing entry with the mean for that site\n",
    "\n",
    "#Test data\n",
    "missing_cols = [col for col in weather_test.columns if weather_test[col].isna().any()] \n",
    "fill_lib = weather_test.groupby('site_id')[missing_cols].transform('mean')\n",
    "#stores the mean of each feature for each site id\n",
    "weather_test.fillna(fill_lib, inplace=True)\n",
    "\n",
    "weather_train.isna().sum()\n",
    "#weather_test.isna().sum()"
   ]
  },
  {
   "cell_type": "markdown",
   "metadata": {
    "papermill": {
     "duration": 0.035131,
     "end_time": "2021-02-24T16:36:29.108969",
     "exception": false,
     "start_time": "2021-02-24T16:36:29.073838",
     "status": "completed"
    },
    "tags": []
   },
   "source": [
    "## Merge data"
   ]
  },
  {
   "cell_type": "code",
   "execution_count": 15,
   "metadata": {
    "execution": {
     "iopub.execute_input": "2021-02-24T16:36:29.197121Z",
     "iopub.status.busy": "2021-02-24T16:36:29.195883Z",
     "iopub.status.idle": "2021-02-24T16:36:55.445427Z",
     "shell.execute_reply": "2021-02-24T16:36:55.446146Z"
    },
    "papermill": {
     "duration": 26.298253,
     "end_time": "2021-02-24T16:36:55.446391",
     "exception": false,
     "start_time": "2021-02-24T16:36:29.148138",
     "status": "completed"
    },
    "tags": []
   },
   "outputs": [],
   "source": [
    "\n",
    "train_merge = train.merge(building_metadata, on='building_id', how='left', validate='many_to_one')\n",
    "test_merge = test.merge(building_metadata, on='building_id', how='left', validate='many_to_one')\n",
    "\n",
    "train_merge = train_merge.merge(weather_train, on=['site_id', 'timestamp'], how='left', validate='many_to_one')\n",
    "test_merge = test_merge.merge(weather_test, on=['site_id', 'timestamp'], how='left', validate='many_to_one')\n",
    "\n"
   ]
  },
  {
   "cell_type": "code",
   "execution_count": 16,
   "metadata": {
    "execution": {
     "iopub.execute_input": "2021-02-24T16:36:55.524988Z",
     "iopub.status.busy": "2021-02-24T16:36:55.523777Z",
     "iopub.status.idle": "2021-02-24T16:36:55.624282Z",
     "shell.execute_reply": "2021-02-24T16:36:55.623585Z"
    },
    "papermill": {
     "duration": 0.142104,
     "end_time": "2021-02-24T16:36:55.624436",
     "exception": false,
     "start_time": "2021-02-24T16:36:55.482332",
     "status": "completed"
    },
    "tags": []
   },
   "outputs": [
    {
     "data": {
      "text/plain": [
       "45"
      ]
     },
     "execution_count": 16,
     "metadata": {},
     "output_type": "execute_result"
    }
   ],
   "source": [
    "del building_metadata, weather_train, weather_test, train, test\n",
    "gc.collect()"
   ]
  },
  {
   "cell_type": "markdown",
   "metadata": {
    "papermill": {
     "duration": 0.025456,
     "end_time": "2021-02-24T16:36:55.674242",
     "exception": false,
     "start_time": "2021-02-24T16:36:55.648786",
     "status": "completed"
    },
    "tags": []
   },
   "source": [
    "###  Additionnal Nan before merging"
   ]
  },
  {
   "cell_type": "code",
   "execution_count": 17,
   "metadata": {
    "execution": {
     "iopub.execute_input": "2021-02-24T16:36:55.730210Z",
     "iopub.status.busy": "2021-02-24T16:36:55.728380Z",
     "iopub.status.idle": "2021-02-24T16:37:14.705371Z",
     "shell.execute_reply": "2021-02-24T16:37:14.704268Z"
    },
    "papermill": {
     "duration": 19.00666,
     "end_time": "2021-02-24T16:37:14.705562",
     "exception": false,
     "start_time": "2021-02-24T16:36:55.698902",
     "status": "completed"
    },
    "tags": []
   },
   "outputs": [
    {
     "name": "stdout",
     "output_type": "stream",
     "text": [
      "total empty percent: 0.19584174247258374 %\n"
     ]
    },
    {
     "data": {
      "text/html": [
       "<div>\n",
       "<style scoped>\n",
       "    .dataframe tbody tr th:only-of-type {\n",
       "        vertical-align: middle;\n",
       "    }\n",
       "\n",
       "    .dataframe tbody tr th {\n",
       "        vertical-align: top;\n",
       "    }\n",
       "\n",
       "    .dataframe thead th {\n",
       "        text-align: right;\n",
       "    }\n",
       "</style>\n",
       "<table border=\"1\" class=\"dataframe\">\n",
       "  <thead>\n",
       "    <tr style=\"text-align: right;\">\n",
       "      <th></th>\n",
       "      <th>num_missing</th>\n",
       "      <th>percent_missing</th>\n",
       "      <th>mode</th>\n",
       "      <th>percent_mode</th>\n",
       "    </tr>\n",
       "  </thead>\n",
       "  <tbody>\n",
       "    <tr>\n",
       "      <th>building_id</th>\n",
       "      <td>0</td>\n",
       "      <td>0.000000</td>\n",
       "      <td>1249</td>\n",
       "      <td>0.173802</td>\n",
       "    </tr>\n",
       "    <tr>\n",
       "      <th>meter</th>\n",
       "      <td>0</td>\n",
       "      <td>0.000000</td>\n",
       "      <td>0.000000</td>\n",
       "      <td>59.659925</td>\n",
       "    </tr>\n",
       "    <tr>\n",
       "      <th>timestamp</th>\n",
       "      <td>0</td>\n",
       "      <td>0.000000</td>\n",
       "      <td>2016-12-27 22:00:00</td>\n",
       "      <td>0.011723</td>\n",
       "    </tr>\n",
       "    <tr>\n",
       "      <th>meter_reading</th>\n",
       "      <td>0</td>\n",
       "      <td>0.000000</td>\n",
       "      <td>0.000000</td>\n",
       "      <td>9.269721</td>\n",
       "    </tr>\n",
       "    <tr>\n",
       "      <th>site_id</th>\n",
       "      <td>0</td>\n",
       "      <td>0.000000</td>\n",
       "      <td>13.000000</td>\n",
       "      <td>13.413878</td>\n",
       "    </tr>\n",
       "    <tr>\n",
       "      <th>primary_use</th>\n",
       "      <td>0</td>\n",
       "      <td>0.000000</td>\n",
       "      <td>Education</td>\n",
       "      <td>40.391094</td>\n",
       "    </tr>\n",
       "    <tr>\n",
       "      <th>square_feet</th>\n",
       "      <td>0</td>\n",
       "      <td>0.000000</td>\n",
       "      <td>387638.000000</td>\n",
       "      <td>0.304154</td>\n",
       "    </tr>\n",
       "    <tr>\n",
       "      <th>year_built</th>\n",
       "      <td>0</td>\n",
       "      <td>0.000000</td>\n",
       "      <td>1967.957037</td>\n",
       "      <td>59.990033</td>\n",
       "    </tr>\n",
       "    <tr>\n",
       "      <th>floor_count</th>\n",
       "      <td>0</td>\n",
       "      <td>0.000000</td>\n",
       "      <td>1.000000</td>\n",
       "      <td>87.274351</td>\n",
       "    </tr>\n",
       "    <tr>\n",
       "      <th>air_temperature</th>\n",
       "      <td>90495</td>\n",
       "      <td>0.447638</td>\n",
       "      <td>24.400000</td>\n",
       "      <td>1.958662</td>\n",
       "    </tr>\n",
       "    <tr>\n",
       "      <th>cloud_coverage</th>\n",
       "      <td>90495</td>\n",
       "      <td>0.447638</td>\n",
       "      <td>0.000000</td>\n",
       "      <td>38.647514</td>\n",
       "    </tr>\n",
       "    <tr>\n",
       "      <th>dew_temperature</th>\n",
       "      <td>90495</td>\n",
       "      <td>0.447638</td>\n",
       "      <td>10.000000</td>\n",
       "      <td>1.979403</td>\n",
       "    </tr>\n",
       "    <tr>\n",
       "      <th>precip_depth_1_hr</th>\n",
       "      <td>90495</td>\n",
       "      <td>0.447638</td>\n",
       "      <td>0.000000</td>\n",
       "      <td>78.626639</td>\n",
       "    </tr>\n",
       "    <tr>\n",
       "      <th>sea_level_pressure</th>\n",
       "      <td>90495</td>\n",
       "      <td>0.447638</td>\n",
       "      <td>1016.700000</td>\n",
       "      <td>3.833197</td>\n",
       "    </tr>\n",
       "    <tr>\n",
       "      <th>wind_direction</th>\n",
       "      <td>90495</td>\n",
       "      <td>0.447638</td>\n",
       "      <td>0.000000</td>\n",
       "      <td>13.195923</td>\n",
       "    </tr>\n",
       "    <tr>\n",
       "      <th>wind_speed</th>\n",
       "      <td>90495</td>\n",
       "      <td>0.447638</td>\n",
       "      <td>0.000000</td>\n",
       "      <td>11.828958</td>\n",
       "    </tr>\n",
       "  </tbody>\n",
       "</table>\n",
       "</div>"
      ],
      "text/plain": [
       "                    num_missing  percent_missing                 mode  \\\n",
       "building_id                   0         0.000000                 1249   \n",
       "meter                         0         0.000000             0.000000   \n",
       "timestamp                     0         0.000000  2016-12-27 22:00:00   \n",
       "meter_reading                 0         0.000000             0.000000   \n",
       "site_id                       0         0.000000            13.000000   \n",
       "primary_use                   0         0.000000            Education   \n",
       "square_feet                   0         0.000000        387638.000000   \n",
       "year_built                    0         0.000000          1967.957037   \n",
       "floor_count                   0         0.000000             1.000000   \n",
       "air_temperature           90495         0.447638            24.400000   \n",
       "cloud_coverage            90495         0.447638             0.000000   \n",
       "dew_temperature           90495         0.447638            10.000000   \n",
       "precip_depth_1_hr         90495         0.447638             0.000000   \n",
       "sea_level_pressure        90495         0.447638          1016.700000   \n",
       "wind_direction            90495         0.447638             0.000000   \n",
       "wind_speed                90495         0.447638             0.000000   \n",
       "\n",
       "                    percent_mode  \n",
       "building_id             0.173802  \n",
       "meter                  59.659925  \n",
       "timestamp               0.011723  \n",
       "meter_reading           9.269721  \n",
       "site_id                13.413878  \n",
       "primary_use            40.391094  \n",
       "square_feet             0.304154  \n",
       "year_built             59.990033  \n",
       "floor_count            87.274351  \n",
       "air_temperature         1.958662  \n",
       "cloud_coverage         38.647514  \n",
       "dew_temperature         1.979403  \n",
       "precip_depth_1_hr      78.626639  \n",
       "sea_level_pressure      3.833197  \n",
       "wind_direction         13.195923  \n",
       "wind_speed             11.828958  "
      ]
     },
     "execution_count": 17,
     "metadata": {},
     "output_type": "execute_result"
    }
   ],
   "source": [
    "get_missing_info(train_merge)\n",
    "#get_missing_info(test_merge)"
   ]
  },
  {
   "cell_type": "markdown",
   "metadata": {
    "papermill": {
     "duration": 0.037872,
     "end_time": "2021-02-24T16:37:14.784932",
     "exception": false,
     "start_time": "2021-02-24T16:37:14.747060",
     "status": "completed"
    },
    "tags": []
   },
   "source": [
    "This additionnal missing values appear here because some merging identity (timesamp) of train and test dataset aren't in  weater data. "
   ]
  },
  {
   "cell_type": "code",
   "execution_count": 18,
   "metadata": {
    "execution": {
     "iopub.execute_input": "2021-02-24T16:37:14.868688Z",
     "iopub.status.busy": "2021-02-24T16:37:14.867840Z",
     "iopub.status.idle": "2021-02-24T16:38:12.776063Z",
     "shell.execute_reply": "2021-02-24T16:38:12.775368Z"
    },
    "papermill": {
     "duration": 57.952462,
     "end_time": "2021-02-24T16:38:12.776205",
     "exception": false,
     "start_time": "2021-02-24T16:37:14.823743",
     "status": "completed"
    },
    "tags": []
   },
   "outputs": [],
   "source": [
    "#train_data\n",
    "train_merge = train_merge.sort_values(by=['building_id', 'timestamp'])\n",
    "train_merge.fillna(method = 'ffill', inplace=True)\n",
    "\n",
    "\n",
    "#test data\n",
    "test_merge = test_merge.sort_values(by=['building_id', 'timestamp'])\n",
    "test_merge.fillna(method = 'ffill', inplace=True)"
   ]
  },
  {
   "cell_type": "code",
   "execution_count": 19,
   "metadata": {
    "execution": {
     "iopub.execute_input": "2021-02-24T16:38:12.836432Z",
     "iopub.status.busy": "2021-02-24T16:38:12.835000Z",
     "iopub.status.idle": "2021-02-24T16:38:13.819482Z",
     "shell.execute_reply": "2021-02-24T16:38:13.818836Z"
    },
    "papermill": {
     "duration": 1.015876,
     "end_time": "2021-02-24T16:38:13.819636",
     "exception": false,
     "start_time": "2021-02-24T16:38:12.803760",
     "status": "completed"
    },
    "tags": []
   },
   "outputs": [
    {
     "data": {
      "text/plain": [
       "row_id                0\n",
       "building_id           0\n",
       "meter                 0\n",
       "timestamp             0\n",
       "site_id               0\n",
       "primary_use           0\n",
       "square_feet           0\n",
       "year_built            0\n",
       "floor_count           0\n",
       "air_temperature       0\n",
       "cloud_coverage        0\n",
       "dew_temperature       0\n",
       "precip_depth_1_hr     0\n",
       "sea_level_pressure    0\n",
       "wind_direction        0\n",
       "wind_speed            0\n",
       "dtype: int64"
      ]
     },
     "execution_count": 19,
     "metadata": {},
     "output_type": "execute_result"
    }
   ],
   "source": [
    "#train_merge.isna().sum()\n",
    "test_merge.isna().sum()"
   ]
  },
  {
   "cell_type": "code",
   "execution_count": 20,
   "metadata": {
    "execution": {
     "iopub.execute_input": "2021-02-24T16:38:13.881687Z",
     "iopub.status.busy": "2021-02-24T16:38:13.881060Z",
     "iopub.status.idle": "2021-02-24T16:38:29.845424Z",
     "shell.execute_reply": "2021-02-24T16:38:29.846657Z"
    },
    "papermill": {
     "duration": 16.001961,
     "end_time": "2021-02-24T16:38:29.846933",
     "exception": false,
     "start_time": "2021-02-24T16:38:13.844972",
     "status": "completed"
    },
    "tags": []
   },
   "outputs": [
    {
     "name": "stdout",
     "output_type": "stream",
     "text": [
      "Memory usage after optimization is: 906.14 MB\n",
      "Decreased by 63.6%\n",
      "Memory usage after optimization is: 1869.00 MB\n",
      "Decreased by 63.6%\n"
     ]
    }
   ],
   "source": [
    "train_merge = reduce_mem_usage(train_merge)\n",
    "test_merge = reduce_mem_usage(test_merge)\n"
   ]
  }
 ],
 "metadata": {
  "kernelspec": {
   "display_name": "Python 3",
   "language": "python",
   "name": "python3"
  },
  "language_info": {
   "codemirror_mode": {
    "name": "ipython",
    "version": 3
   },
   "file_extension": ".py",
   "mimetype": "text/x-python",
   "name": "python",
   "nbconvert_exporter": "python",
   "pygments_lexer": "ipython3",
   "version": "3.7.9"
  },
  "papermill": {
   "default_parameters": {},
   "duration": 246.996362,
   "end_time": "2021-02-24T16:38:30.887839",
   "environment_variables": {},
   "exception": null,
   "input_path": "__notebook__.ipynb",
   "output_path": "__notebook__.ipynb",
   "parameters": {},
   "start_time": "2021-02-24T16:34:23.891477",
   "version": "2.2.2"
  }
 },
 "nbformat": 4,
 "nbformat_minor": 4
}
