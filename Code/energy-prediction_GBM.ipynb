{
 "cells": [
  {
   "cell_type": "markdown",
   "metadata": {
    "papermill": {
     "duration": 0.046645,
     "end_time": "2021-03-10T23:33:41.510856",
     "exception": false,
     "start_time": "2021-03-10T23:33:41.464211",
     "status": "completed"
    },
    "tags": []
   },
   "source": [
    "Improvement from the first submission:\n",
    "- Preprocessing:\n",
    "    - Missing data\n",
    "        Air_temperature: fill with values from previous days\n",
    "        Fill others variables\n",
    "    - Timestamps alignment\n",
    "    - Target variable : \n",
    "        - Remove outliers\n",
    "        - Log1p transformation\n",
    "- Feature engineering:\n",
    "    - Study the correlation between variables\n",
    "    - Regrouping features\n",
    "- Predict on subsets of the test set (due to the limitation of memory)"
   ]
  },
  {
   "cell_type": "markdown",
   "metadata": {
    "papermill": {
     "duration": 0.043443,
     "end_time": "2021-03-10T23:33:41.598284",
     "exception": false,
     "start_time": "2021-03-10T23:33:41.554841",
     "status": "completed"
    },
    "tags": []
   },
   "source": [
    "<a href='#1'>1. Data's Overview</a>\n",
    "\n",
    "<a href='#2'>2. Preprocessing</a>\n",
    "\n",
    "<a href='#3'>3. Feature engineering</a>\n",
    "\n",
    "<a href='#4'>4. Simple model</a>"
   ]
  },
  {
   "cell_type": "code",
   "execution_count": 1,
   "metadata": {
    "_cell_guid": "b1076dfc-b9ad-4769-8c92-a6c4dae69d19",
    "_uuid": "8f2839f25d086af736a60e9eeb907d3b93b6e0e5",
    "execution": {
     "iopub.execute_input": "2021-03-10T23:33:41.692983Z",
     "iopub.status.busy": "2021-03-10T23:33:41.692177Z",
     "iopub.status.idle": "2021-03-10T23:33:42.613238Z",
     "shell.execute_reply": "2021-03-10T23:33:42.613794Z"
    },
    "papermill": {
     "duration": 0.972375,
     "end_time": "2021-03-10T23:33:42.614129",
     "exception": false,
     "start_time": "2021-03-10T23:33:41.641754",
     "status": "completed"
    },
    "tags": []
   },
   "outputs": [
    {
     "name": "stdout",
     "output_type": "stream",
     "text": [
      "/kaggle/input/ashrae-energy-prediction/sample_submission.csv\n",
      "/kaggle/input/ashrae-energy-prediction/building_metadata.csv\n",
      "/kaggle/input/ashrae-energy-prediction/weather_train.csv\n",
      "/kaggle/input/ashrae-energy-prediction/weather_test.csv\n",
      "/kaggle/input/ashrae-energy-prediction/train.csv\n",
      "/kaggle/input/ashrae-energy-prediction/test.csv\n"
     ]
    }
   ],
   "source": [
    "import numpy as np # linear algebra\n",
    "import pandas as pd # data processing, CSV file I/O (e.g. pd.read_csv)\n",
    "import matplotlib.pyplot as plt # basic plotting\n",
    "import seaborn as sns # for prettier plots\n",
    "import datetime # manipulating date formats\n",
    "import gc\n",
    "\n",
    "import os\n",
    "for dirname, _, filenames in os.walk('/kaggle/input'):\n",
    "    for filename in filenames:\n",
    "        print(os.path.join(dirname, filename))\n",
    "        \n"
   ]
  },
  {
   "cell_type": "markdown",
   "metadata": {
    "papermill": {
     "duration": 0.04996,
     "end_time": "2021-03-10T23:33:42.709296",
     "exception": false,
     "start_time": "2021-03-10T23:33:42.659336",
     "status": "completed"
    },
    "tags": []
   },
   "source": [
    "# <a id='1'>1. Data's Overview</a>"
   ]
  },
  {
   "cell_type": "markdown",
   "metadata": {
    "papermill": {
     "duration": 0.043705,
     "end_time": "2021-03-10T23:33:42.797081",
     "exception": false,
     "start_time": "2021-03-10T23:33:42.753376",
     "status": "completed"
    },
    "tags": []
   },
   "source": [
    "## Loading data"
   ]
  },
  {
   "cell_type": "code",
   "execution_count": 2,
   "metadata": {
    "execution": {
     "iopub.execute_input": "2021-03-10T23:33:42.891739Z",
     "iopub.status.busy": "2021-03-10T23:33:42.890900Z",
     "iopub.status.idle": "2021-03-10T23:34:45.683603Z",
     "shell.execute_reply": "2021-03-10T23:34:45.682979Z"
    },
    "papermill": {
     "duration": 62.842718,
     "end_time": "2021-03-10T23:34:45.683793",
     "exception": false,
     "start_time": "2021-03-10T23:33:42.841075",
     "status": "completed"
    },
    "tags": []
   },
   "outputs": [],
   "source": [
    "building_metadata = pd.read_csv('/kaggle/input/ashrae-energy-prediction/building_metadata.csv')\n",
    "train = pd.read_csv('/kaggle/input/ashrae-energy-prediction/train.csv', parse_dates=['timestamp'])\n",
    "test = pd.read_csv('/kaggle/input/ashrae-energy-prediction/test.csv', parse_dates=['timestamp'])\n",
    "weather_train = pd.read_csv('/kaggle/input/ashrae-energy-prediction/weather_train.csv', parse_dates=['timestamp'])\n",
    "weather_test = pd.read_csv('/kaggle/input/ashrae-energy-prediction/weather_test.csv', parse_dates=['timestamp'])"
   ]
  },
  {
   "cell_type": "code",
   "execution_count": 3,
   "metadata": {
    "execution": {
     "iopub.execute_input": "2021-03-10T23:34:45.789208Z",
     "iopub.status.busy": "2021-03-10T23:34:45.787984Z",
     "iopub.status.idle": "2021-03-10T23:34:45.790972Z",
     "shell.execute_reply": "2021-03-10T23:34:45.791446Z"
    },
    "papermill": {
     "duration": 0.06298,
     "end_time": "2021-03-10T23:34:45.791635",
     "exception": false,
     "start_time": "2021-03-10T23:34:45.728655",
     "status": "completed"
    },
    "tags": []
   },
   "outputs": [],
   "source": [
    "#Function to reduction memory usage (Source code from Kaggle)\n",
    "def reduce_mem_usage(df, verbose=True):\n",
    "    numerics = ['int16', 'int32', 'int64', 'float16', 'float32', 'float64']\n",
    "    start_mem = df.memory_usage().sum() / 1024**2\n",
    "    for col in df.columns:\n",
    "        col_type = df[col].dtypes\n",
    "        if col_type in numerics:\n",
    "            c_min = df[col].min()\n",
    "            c_max = df[col].max()\n",
    "            if str(col_type)[:3] == 'int':\n",
    "                if c_min > np.iinfo(np.int8).min and c_max < np.iinfo(np.int8).max:\n",
    "                    df[col] = df[col].astype(np.int8)\n",
    "                elif c_min > np.iinfo(np.int16).min and c_max < np.iinfo(np.int16).max:\n",
    "                    df[col] = df[col].astype(np.int16)\n",
    "                elif c_min > np.iinfo(np.int32).min and c_max < np.iinfo(np.int32).max:\n",
    "                    df[col] = df[col].astype(np.int32)\n",
    "                elif c_min > np.iinfo(np.int64).min and c_max < np.iinfo(np.int64).max:\n",
    "                    df[col] = df[col].astype(np.int64)\n",
    "            else:\n",
    "                if c_min > np.finfo(np.float16).min and c_max < np.finfo(np.float16).max:\n",
    "                    df[col] = df[col].astype(np.float16)\n",
    "                elif c_min > np.finfo(np.float32).min and c_max < np.finfo(np.float32).max:\n",
    "                    df[col] = df[col].astype(np.float32)\n",
    "                else:\n",
    "                    df[col] = df[col].astype(np.float64)\n",
    "\n",
    "    end_mem = df.memory_usage().sum() / 1024**2\n",
    "    print('Memory usage after optimization is: {:.2f} MB'.format(end_mem))\n",
    "    print('Decreased by {:.1f}%'.format(100 * (start_mem - end_mem) / start_mem))\n",
    "\n",
    "    return df"
   ]
  },
  {
   "cell_type": "markdown",
   "metadata": {
    "papermill": {
     "duration": 0.044773,
     "end_time": "2021-03-10T23:34:45.880948",
     "exception": false,
     "start_time": "2021-03-10T23:34:45.836175",
     "status": "completed"
    },
    "tags": []
   },
   "source": [
    "## Data's overview"
   ]
  },
  {
   "cell_type": "code",
   "execution_count": 4,
   "metadata": {
    "execution": {
     "iopub.execute_input": "2021-03-10T23:34:45.978696Z",
     "iopub.status.busy": "2021-03-10T23:34:45.977772Z",
     "iopub.status.idle": "2021-03-10T23:34:45.983303Z",
     "shell.execute_reply": "2021-03-10T23:34:45.982632Z"
    },
    "papermill": {
     "duration": 0.057364,
     "end_time": "2021-03-10T23:34:45.983466",
     "exception": false,
     "start_time": "2021-03-10T23:34:45.926102",
     "status": "completed"
    },
    "tags": []
   },
   "outputs": [
    {
     "data": {
      "text/plain": [
       "\"print('Size of train data', train.shape)\\nprint('Size of test data', test.shape)\\nprint('Size of weather_train data', weather_train.shape)\\nprint('Size of weather_test data', weather_test.shape)\\nprint('Size of building_metadata data', building_metadata.shape)\""
      ]
     },
     "execution_count": 4,
     "metadata": {},
     "output_type": "execute_result"
    }
   ],
   "source": [
    "\"\"\"print('Size of train data', train.shape)\n",
    "print('Size of test data', test.shape)\n",
    "print('Size of weather_train data', weather_train.shape)\n",
    "print('Size of weather_test data', weather_test.shape)\n",
    "print('Size of building_metadata data', building_metadata.shape)\"\"\""
   ]
  },
  {
   "cell_type": "code",
   "execution_count": 5,
   "metadata": {
    "execution": {
     "iopub.execute_input": "2021-03-10T23:34:46.079012Z",
     "iopub.status.busy": "2021-03-10T23:34:46.078097Z",
     "iopub.status.idle": "2021-03-10T23:34:46.081396Z",
     "shell.execute_reply": "2021-03-10T23:34:46.080783Z"
    },
    "papermill": {
     "duration": 0.053385,
     "end_time": "2021-03-10T23:34:46.081538",
     "exception": false,
     "start_time": "2021-03-10T23:34:46.028153",
     "status": "completed"
    },
    "tags": []
   },
   "outputs": [],
   "source": [
    "#train.head()"
   ]
  },
  {
   "cell_type": "code",
   "execution_count": 6,
   "metadata": {
    "execution": {
     "iopub.execute_input": "2021-03-10T23:34:46.176647Z",
     "iopub.status.busy": "2021-03-10T23:34:46.175656Z",
     "iopub.status.idle": "2021-03-10T23:34:46.179128Z",
     "shell.execute_reply": "2021-03-10T23:34:46.178486Z"
    },
    "papermill": {
     "duration": 0.052903,
     "end_time": "2021-03-10T23:34:46.179278",
     "exception": false,
     "start_time": "2021-03-10T23:34:46.126375",
     "status": "completed"
    },
    "tags": []
   },
   "outputs": [],
   "source": [
    "#weather_train.head()"
   ]
  },
  {
   "cell_type": "code",
   "execution_count": 7,
   "metadata": {
    "execution": {
     "iopub.execute_input": "2021-03-10T23:34:46.276888Z",
     "iopub.status.busy": "2021-03-10T23:34:46.276225Z",
     "iopub.status.idle": "2021-03-10T23:34:46.279704Z",
     "shell.execute_reply": "2021-03-10T23:34:46.279049Z"
    },
    "papermill": {
     "duration": 0.054248,
     "end_time": "2021-03-10T23:34:46.279847",
     "exception": false,
     "start_time": "2021-03-10T23:34:46.225599",
     "status": "completed"
    },
    "tags": []
   },
   "outputs": [],
   "source": [
    "#building_metadata.head()"
   ]
  },
  {
   "cell_type": "markdown",
   "metadata": {
    "papermill": {
     "duration": 0.045052,
     "end_time": "2021-03-10T23:34:46.370370",
     "exception": false,
     "start_time": "2021-03-10T23:34:46.325318",
     "status": "completed"
    },
    "tags": []
   },
   "source": [
    "Check missing data"
   ]
  },
  {
   "cell_type": "code",
   "execution_count": 8,
   "metadata": {
    "execution": {
     "iopub.execute_input": "2021-03-10T23:34:46.468028Z",
     "iopub.status.busy": "2021-03-10T23:34:46.467336Z",
     "iopub.status.idle": "2021-03-10T23:34:46.471266Z",
     "shell.execute_reply": "2021-03-10T23:34:46.470536Z"
    },
    "papermill": {
     "duration": 0.055777,
     "end_time": "2021-03-10T23:34:46.471445",
     "exception": false,
     "start_time": "2021-03-10T23:34:46.415668",
     "status": "completed"
    },
    "tags": []
   },
   "outputs": [],
   "source": [
    "def missing(data):\n",
    "    total = data.isnull().sum().sort_values(ascending = False)\n",
    "    percentage = (data.isnull().sum()/data.isnull().count()*100).sort_values(ascending = False)\n",
    "    missing_data  = pd.concat([total, percentage], axis=1, keys=['Total', 'Percentage'])\n",
    "    return missing_data.head(data.shape[1])"
   ]
  },
  {
   "cell_type": "code",
   "execution_count": 9,
   "metadata": {
    "execution": {
     "iopub.execute_input": "2021-03-10T23:34:46.567601Z",
     "iopub.status.busy": "2021-03-10T23:34:46.566648Z",
     "iopub.status.idle": "2021-03-10T23:34:46.570702Z",
     "shell.execute_reply": "2021-03-10T23:34:46.570012Z"
    },
    "papermill": {
     "duration": 0.054153,
     "end_time": "2021-03-10T23:34:46.570864",
     "exception": false,
     "start_time": "2021-03-10T23:34:46.516711",
     "status": "completed"
    },
    "tags": []
   },
   "outputs": [],
   "source": [
    "#missing(weather_train)"
   ]
  },
  {
   "cell_type": "code",
   "execution_count": 10,
   "metadata": {
    "execution": {
     "iopub.execute_input": "2021-03-10T23:34:46.667415Z",
     "iopub.status.busy": "2021-03-10T23:34:46.666374Z",
     "iopub.status.idle": "2021-03-10T23:34:46.669552Z",
     "shell.execute_reply": "2021-03-10T23:34:46.670010Z"
    },
    "papermill": {
     "duration": 0.053271,
     "end_time": "2021-03-10T23:34:46.670188",
     "exception": false,
     "start_time": "2021-03-10T23:34:46.616917",
     "status": "completed"
    },
    "tags": []
   },
   "outputs": [],
   "source": [
    "#missing(weather_test)"
   ]
  },
  {
   "cell_type": "code",
   "execution_count": 11,
   "metadata": {
    "execution": {
     "iopub.execute_input": "2021-03-10T23:34:46.766555Z",
     "iopub.status.busy": "2021-03-10T23:34:46.765827Z",
     "iopub.status.idle": "2021-03-10T23:34:46.769341Z",
     "shell.execute_reply": "2021-03-10T23:34:46.768804Z"
    },
    "papermill": {
     "duration": 0.05398,
     "end_time": "2021-03-10T23:34:46.769524",
     "exception": false,
     "start_time": "2021-03-10T23:34:46.715544",
     "status": "completed"
    },
    "tags": []
   },
   "outputs": [],
   "source": [
    "#missing(building_metadata)"
   ]
  },
  {
   "cell_type": "markdown",
   "metadata": {
    "papermill": {
     "duration": 0.045346,
     "end_time": "2021-03-10T23:34:46.860234",
     "exception": false,
     "start_time": "2021-03-10T23:34:46.814888",
     "status": "completed"
    },
    "tags": []
   },
   "source": [
    "# <a id='2'>2. Preprocessing</a>"
   ]
  },
  {
   "cell_type": "markdown",
   "metadata": {
    "papermill": {
     "duration": 0.045259,
     "end_time": "2021-03-10T23:34:46.951266",
     "exception": false,
     "start_time": "2021-03-10T23:34:46.906007",
     "status": "completed"
    },
    "tags": []
   },
   "source": [
    "## a. Missing data"
   ]
  },
  {
   "cell_type": "markdown",
   "metadata": {
    "papermill": {
     "duration": 0.045363,
     "end_time": "2021-03-10T23:34:47.042219",
     "exception": false,
     "start_time": "2021-03-10T23:34:46.996856",
     "status": "completed"
    },
    "tags": []
   },
   "source": [
    "### Air_temperature\n",
    "\n",
    "There are only 55 missing values in the weather_train data set.\n",
    "\n",
    "We fill the missing data with the value from the closest previous day without na, at the same time of the day, of the same site (there's no NA from the same hour in two consecutive days of the same site)"
   ]
  },
  {
   "cell_type": "code",
   "execution_count": 12,
   "metadata": {
    "execution": {
     "iopub.execute_input": "2021-03-10T23:34:47.144103Z",
     "iopub.status.busy": "2021-03-10T23:34:47.143187Z",
     "iopub.status.idle": "2021-03-10T23:34:47.146768Z",
     "shell.execute_reply": "2021-03-10T23:34:47.146109Z"
    },
    "papermill": {
     "duration": 0.058062,
     "end_time": "2021-03-10T23:34:47.146912",
     "exception": false,
     "start_time": "2021-03-10T23:34:47.088850",
     "status": "completed"
    },
    "tags": []
   },
   "outputs": [],
   "source": [
    "import math\n",
    "def fill_air_temp(data):\n",
    "    \n",
    "    '''Function for filling Na data in air_temperature variable'''\n",
    "    \n",
    "    na_index = data[data['air_temperature'].isnull()].index\n",
    "    temp_key = ['site_id', 'timestamp', 'air_temperature']\n",
    "    \n",
    "    for i in na_index:\n",
    "        site_na = data.loc[i, 'site_id']   \n",
    "        for j in range(5):\n",
    "            time_na = data.loc[i,'timestamp'] - datetime.timedelta(days = j+1)  \n",
    "            ind = data[(data.site_id == site_na) & (data.timestamp == time_na)].index  \n",
    "            \n",
    "            if math.isnan(data.loc[ind, 'air_temperature']) == False :\n",
    "                data.loc[i, 'air_temperature'] = data.loc[ind, 'air_temperature'].values\n",
    "                break\n",
    "    \n",
    "    return data"
   ]
  },
  {
   "cell_type": "code",
   "execution_count": 13,
   "metadata": {
    "execution": {
     "iopub.execute_input": "2021-03-10T23:34:47.248551Z",
     "iopub.status.busy": "2021-03-10T23:34:47.247578Z",
     "iopub.status.idle": "2021-03-10T23:34:48.025786Z",
     "shell.execute_reply": "2021-03-10T23:34:48.024833Z"
    },
    "papermill": {
     "duration": 0.831664,
     "end_time": "2021-03-10T23:34:48.025959",
     "exception": false,
     "start_time": "2021-03-10T23:34:47.194295",
     "status": "completed"
    },
    "tags": []
   },
   "outputs": [],
   "source": [
    "weather_train = fill_air_temp(weather_train)\n",
    "weather_test = fill_air_temp(weather_test)"
   ]
  },
  {
   "cell_type": "markdown",
   "metadata": {
    "papermill": {
     "duration": 0.045537,
     "end_time": "2021-03-10T23:34:48.117540",
     "exception": false,
     "start_time": "2021-03-10T23:34:48.072003",
     "status": "completed"
    },
    "tags": []
   },
   "source": [
    "### floor_count and year_built"
   ]
  },
  {
   "cell_type": "code",
   "execution_count": 14,
   "metadata": {
    "execution": {
     "iopub.execute_input": "2021-03-10T23:34:48.212639Z",
     "iopub.status.busy": "2021-03-10T23:34:48.211974Z",
     "iopub.status.idle": "2021-03-10T23:34:48.219240Z",
     "shell.execute_reply": "2021-03-10T23:34:48.219781Z"
    },
    "papermill": {
     "duration": 0.056495,
     "end_time": "2021-03-10T23:34:48.219961",
     "exception": false,
     "start_time": "2021-03-10T23:34:48.163466",
     "status": "completed"
    },
    "tags": []
   },
   "outputs": [],
   "source": [
    "#According to the above table, 53.41% of year_built and 75.50% \n",
    "#of floor_count are not available\n",
    "\n",
    "#We fill the floor_count's NA by mode = 1 (repsent 7.52% of floor_count values) \n",
    "#and the year_built by the mean of it value\n",
    "building_metadata.fillna({'floor_count':1,'year_built': building_metadata['year_built'].mean()}, inplace = True)\n",
    "building_metadata['primary_use'] = building_metadata['primary_use'].astype('category')"
   ]
  },
  {
   "cell_type": "markdown",
   "metadata": {
    "papermill": {
     "duration": 0.04656,
     "end_time": "2021-03-10T23:34:48.313421",
     "exception": false,
     "start_time": "2021-03-10T23:34:48.266861",
     "status": "completed"
    },
    "tags": []
   },
   "source": [
    "### Other variables"
   ]
  },
  {
   "cell_type": "code",
   "execution_count": 15,
   "metadata": {
    "execution": {
     "iopub.execute_input": "2021-03-10T23:34:48.412357Z",
     "iopub.status.busy": "2021-03-10T23:34:48.411611Z",
     "iopub.status.idle": "2021-03-10T23:34:48.517686Z",
     "shell.execute_reply": "2021-03-10T23:34:48.517107Z"
    },
    "papermill": {
     "duration": 0.158595,
     "end_time": "2021-03-10T23:34:48.517845",
     "exception": false,
     "start_time": "2021-03-10T23:34:48.359250",
     "status": "completed"
    },
    "tags": []
   },
   "outputs": [],
   "source": [
    "#Even the weather data don't change more in the futur and the past, so we make a \n",
    "#forward and backward filling\n",
    "# First: transformation of the timestamp into a datetime object \n",
    "# Second: sorting by site id then timestamp\n",
    "\n",
    "weather_train = weather_train.sort_values(by=['site_id', 'timestamp']) \n",
    "weather_train.fillna(method = 'bfill', inplace=True, limit = 12) #backfill up to 12 hours\n",
    "weather_train.fillna(method = 'ffill', inplace = True, limit = 12) #forward fill the missing data up to 12 hours\n",
    "\n",
    "\n",
    "## Weather test\n",
    "weather_test = weather_test.sort_values(by=['site_id', 'timestamp']) \n",
    "weather_test.fillna(method = 'bfill', inplace=True, limit = 12)\n",
    "weather_test.fillna(method = 'ffill', inplace=True, limit = 12)\n",
    "\n"
   ]
  },
  {
   "cell_type": "code",
   "execution_count": 16,
   "metadata": {
    "execution": {
     "iopub.execute_input": "2021-03-10T23:34:48.614795Z",
     "iopub.status.busy": "2021-03-10T23:34:48.614140Z",
     "iopub.status.idle": "2021-03-10T23:34:48.618875Z",
     "shell.execute_reply": "2021-03-10T23:34:48.619333Z"
    },
    "papermill": {
     "duration": 0.055476,
     "end_time": "2021-03-10T23:34:48.619567",
     "exception": false,
     "start_time": "2021-03-10T23:34:48.564091",
     "status": "completed"
    },
    "tags": []
   },
   "outputs": [],
   "source": [
    "#sns.heatmap(weather_train.isnull(), yticklabels = False, cbar = False, cmap = 'viridis')\n",
    "#sns.heatmap(weather_test.isnull(), yticklabels = False, cbar = False, cmap = 'viridis')"
   ]
  },
  {
   "cell_type": "code",
   "execution_count": 17,
   "metadata": {
    "execution": {
     "iopub.execute_input": "2021-03-10T23:34:48.721126Z",
     "iopub.status.busy": "2021-03-10T23:34:48.720488Z",
     "iopub.status.idle": "2021-03-10T23:34:48.836734Z",
     "shell.execute_reply": "2021-03-10T23:34:48.836208Z"
    },
    "papermill": {
     "duration": 0.170384,
     "end_time": "2021-03-10T23:34:48.836882",
     "exception": false,
     "start_time": "2021-03-10T23:34:48.666498",
     "status": "completed"
    },
    "tags": []
   },
   "outputs": [
    {
     "data": {
      "text/plain": [
       "site_id               0\n",
       "timestamp             0\n",
       "air_temperature       0\n",
       "cloud_coverage        0\n",
       "dew_temperature       0\n",
       "precip_depth_1_hr     0\n",
       "sea_level_pressure    0\n",
       "wind_direction        0\n",
       "wind_speed            0\n",
       "dtype: int64"
      ]
     },
     "execution_count": 17,
     "metadata": {},
     "output_type": "execute_result"
    }
   ],
   "source": [
    "#Train data\n",
    "missing_cols = [col for col in weather_train.columns if weather_train[col].isna().any()] \n",
    "fill_lib = weather_train.groupby('site_id')[missing_cols].transform('mean')\n",
    "#stores the mean of each feature for each site id\n",
    "weather_train.fillna(fill_lib, inplace=True) #for each feature with missing \n",
    "#values, fill the missing entry with the mean for that site\n",
    "\n",
    "#Test data\n",
    "missing_cols = [col for col in weather_test.columns if weather_test[col].isna().any()] \n",
    "fill_lib = weather_test.groupby('site_id')[missing_cols].transform('mean')\n",
    "#stores the mean of each feature for each site id\n",
    "weather_test.fillna(fill_lib, inplace=True)\n",
    "del missing_cols, fill_lib\n",
    "\n",
    "weather_train.isna().sum()\n",
    "#weather_test.isna().sum()"
   ]
  },
  {
   "cell_type": "markdown",
   "metadata": {
    "papermill": {
     "duration": 0.046693,
     "end_time": "2021-03-10T23:34:48.930638",
     "exception": false,
     "start_time": "2021-03-10T23:34:48.883945",
     "status": "completed"
    },
    "tags": []
   },
   "source": [
    "## b. Align the timestamp"
   ]
  },
  {
   "cell_type": "markdown",
   "metadata": {
    "papermill": {
     "duration": 0.046722,
     "end_time": "2021-03-10T23:34:49.024307",
     "exception": false,
     "start_time": "2021-03-10T23:34:48.977585",
     "status": "completed"
    },
    "tags": []
   },
   "source": [
    "The timestamps of the weather data and the train/test data are different: those in the weather data is not in the site's local time. So there's need an alignment before merging these dataset by timestamps."
   ]
  },
  {
   "cell_type": "markdown",
   "metadata": {
    "papermill": {
     "duration": 0.047257,
     "end_time": "2021-03-10T23:34:49.119842",
     "exception": false,
     "start_time": "2021-03-10T23:34:49.072585",
     "status": "completed"
    },
    "tags": []
   },
   "source": [
    "To see this problem, we plot the air temperature (from weather data) and energy consumption (from train data) by site and hour.\n",
    "We assume that highest air temperature should appear at around 14:00."
   ]
  },
  {
   "cell_type": "code",
   "execution_count": 18,
   "metadata": {
    "execution": {
     "iopub.execute_input": "2021-03-10T23:34:49.222076Z",
     "iopub.status.busy": "2021-03-10T23:34:49.221084Z",
     "iopub.status.idle": "2021-03-10T23:34:49.224539Z",
     "shell.execute_reply": "2021-03-10T23:34:49.223930Z"
    },
    "papermill": {
     "duration": 0.058049,
     "end_time": "2021-03-10T23:34:49.224688",
     "exception": false,
     "start_time": "2021-03-10T23:34:49.166639",
     "status": "completed"
    },
    "tags": []
   },
   "outputs": [],
   "source": [
    "def plot_by_site_by_hour(data, column) :\n",
    "    '''Plot a variable by site and hour'''\n",
    "    \n",
    "    plot_key = ['site_id', 'timestamp']\n",
    "    col_to_plot = data[plot_key + [column]].copy()\n",
    "    col_to_plot['hour'] = col_to_plot['timestamp'].dt.hour\n",
    "    \n",
    "    c = 1\n",
    "    plt.figure(figsize=(25, 15))\n",
    "    for site_id, data_by_site in col_to_plot.groupby('site_id'):\n",
    "        by_site_by_hour = data_by_site.groupby('hour').mean()\n",
    "        ax = plt.subplot(4, 4, c)\n",
    "        plt.plot(by_site_by_hour.index,by_site_by_hour[column],'xb-')\n",
    "        ax.set_title('site: '+str(site_id))\n",
    "        c += 1\n",
    "    return plt.show()"
   ]
  },
  {
   "cell_type": "code",
   "execution_count": 19,
   "metadata": {
    "execution": {
     "iopub.execute_input": "2021-03-10T23:34:49.323374Z",
     "iopub.status.busy": "2021-03-10T23:34:49.322755Z",
     "iopub.status.idle": "2021-03-10T23:34:49.335251Z",
     "shell.execute_reply": "2021-03-10T23:34:49.335760Z"
    },
    "papermill": {
     "duration": 0.063178,
     "end_time": "2021-03-10T23:34:49.335959",
     "exception": false,
     "start_time": "2021-03-10T23:34:49.272781",
     "status": "completed"
    },
    "tags": []
   },
   "outputs": [],
   "source": [
    "weather = pd.concat([weather_train,weather_test],ignore_index=True)"
   ]
  },
  {
   "cell_type": "code",
   "execution_count": 20,
   "metadata": {
    "execution": {
     "iopub.execute_input": "2021-03-10T23:34:49.433658Z",
     "iopub.status.busy": "2021-03-10T23:34:49.433034Z",
     "iopub.status.idle": "2021-03-10T23:34:49.436122Z",
     "shell.execute_reply": "2021-03-10T23:34:49.436627Z"
    },
    "papermill": {
     "duration": 0.053782,
     "end_time": "2021-03-10T23:34:49.436796",
     "exception": false,
     "start_time": "2021-03-10T23:34:49.383014",
     "status": "completed"
    },
    "tags": []
   },
   "outputs": [],
   "source": [
    "#plot_by_site_by_hour(weather,'air_temperature')"
   ]
  },
  {
   "cell_type": "markdown",
   "metadata": {
    "papermill": {
     "duration": 0.046886,
     "end_time": "2021-03-10T23:34:49.530765",
     "exception": false,
     "start_time": "2021-03-10T23:34:49.483879",
     "status": "completed"
    },
    "tags": []
   },
   "source": [
    "We see that the peak temperature for most of these site are not around 14:00, some even at night, which doesn't make sense."
   ]
  },
  {
   "cell_type": "code",
   "execution_count": 21,
   "metadata": {
    "execution": {
     "iopub.execute_input": "2021-03-10T23:34:49.629403Z",
     "iopub.status.busy": "2021-03-10T23:34:49.628756Z",
     "iopub.status.idle": "2021-03-10T23:34:51.246501Z",
     "shell.execute_reply": "2021-03-10T23:34:51.245633Z"
    },
    "papermill": {
     "duration": 1.668073,
     "end_time": "2021-03-10T23:34:51.246665",
     "exception": false,
     "start_time": "2021-03-10T23:34:49.578592",
     "status": "completed"
    },
    "tags": []
   },
   "outputs": [],
   "source": [
    "#Create dataframe having site_id and meter from train and metadata datasets\n",
    "building_site_dict = dict(zip(building_metadata['building_id'], building_metadata['site_id']))\n",
    "site_meter = train[['building_id', 'meter', 'timestamp', 'meter_reading']].copy()\n",
    "site_meter['site_id'] = site_meter.building_id.map(building_site_dict)\n",
    "del site_meter['building_id']\n",
    "\n",
    "#Dataframe with site_id and electrical consumption\n",
    "site_elec = site_meter[site_meter.meter == 0]"
   ]
  },
  {
   "cell_type": "code",
   "execution_count": 22,
   "metadata": {
    "execution": {
     "iopub.execute_input": "2021-03-10T23:34:51.429018Z",
     "iopub.status.busy": "2021-03-10T23:34:51.428020Z",
     "iopub.status.idle": "2021-03-10T23:34:51.431976Z",
     "shell.execute_reply": "2021-03-10T23:34:51.432452Z"
    },
    "papermill": {
     "duration": 0.137035,
     "end_time": "2021-03-10T23:34:51.432631",
     "exception": false,
     "start_time": "2021-03-10T23:34:51.295596",
     "status": "completed"
    },
    "tags": []
   },
   "outputs": [
    {
     "data": {
      "text/plain": [
       "117"
      ]
     },
     "execution_count": 22,
     "metadata": {},
     "output_type": "execute_result"
    }
   ],
   "source": [
    "#plot_by_site_by_hour(site_elec, 'meter_reading')\n",
    "del building_site_dict, site_meter, site_elec\n",
    "gc.collect()"
   ]
  },
  {
   "cell_type": "markdown",
   "metadata": {
    "papermill": {
     "duration": 0.047364,
     "end_time": "2021-03-10T23:34:51.527569",
     "exception": false,
     "start_time": "2021-03-10T23:34:51.480205",
     "status": "completed"
    },
    "tags": []
   },
   "source": [
    "The energy consumption of these sites make sense, which mean that the timestamps are more aligned."
   ]
  },
  {
   "cell_type": "code",
   "execution_count": 23,
   "metadata": {
    "execution": {
     "iopub.execute_input": "2021-03-10T23:34:51.635912Z",
     "iopub.status.busy": "2021-03-10T23:34:51.635179Z",
     "iopub.status.idle": "2021-03-10T23:34:52.108946Z",
     "shell.execute_reply": "2021-03-10T23:34:52.108357Z"
    },
    "papermill": {
     "duration": 0.533086,
     "end_time": "2021-03-10T23:34:52.109091",
     "exception": false,
     "start_time": "2021-03-10T23:34:51.576005",
     "status": "completed"
    },
    "tags": []
   },
   "outputs": [],
   "source": [
    "# calculate ranks of hourly temperatures within date and site_id\n",
    "key = ['site_id', 'timestamp', 'air_temperature']\n",
    "temp = weather.loc[:,key]\n",
    "temp['temp_rank'] = temp.groupby(['site_id', temp.timestamp.dt.date])['air_temperature'].rank('average')\n",
    "\n",
    "# site_id x mean hour rank of temperature within day\n",
    "mean_rank = temp.groupby(['site_id', temp.timestamp.dt.hour])['temp_rank'].mean().unstack(level=1)"
   ]
  },
  {
   "cell_type": "code",
   "execution_count": 24,
   "metadata": {
    "execution": {
     "iopub.execute_input": "2021-03-10T23:34:52.212937Z",
     "iopub.status.busy": "2021-03-10T23:34:52.211869Z",
     "iopub.status.idle": "2021-03-10T23:34:52.214774Z",
     "shell.execute_reply": "2021-03-10T23:34:52.215370Z"
    },
    "papermill": {
     "duration": 0.05852,
     "end_time": "2021-03-10T23:34:52.215567",
     "exception": false,
     "start_time": "2021-03-10T23:34:52.157047",
     "status": "completed"
    },
    "tags": []
   },
   "outputs": [],
   "source": [
    "#the timestamp alignment gap for each site\n",
    "gap = pd.Series(mean_rank.values.argmax(axis=1) - 14)\n",
    "gap.index.name = 'site_id'\n",
    "\n",
    "def timestamp_align(data):\n",
    "    '''Function to align the timestamp'''\n",
    "    data['offset'] = data.site_id.map(gap)\n",
    "    data['timestamp_aligned'] = (data.timestamp - pd.to_timedelta(data.offset, unit='H'))\n",
    "    data['timestamp'] = data['timestamp_aligned']\n",
    "    del data['timestamp_aligned']\n",
    "    return data"
   ]
  },
  {
   "cell_type": "code",
   "execution_count": 25,
   "metadata": {
    "execution": {
     "iopub.execute_input": "2021-03-10T23:34:52.316535Z",
     "iopub.status.busy": "2021-03-10T23:34:52.315795Z",
     "iopub.status.idle": "2021-03-10T23:34:52.425709Z",
     "shell.execute_reply": "2021-03-10T23:34:52.425173Z"
    },
    "papermill": {
     "duration": 0.161987,
     "end_time": "2021-03-10T23:34:52.425865",
     "exception": false,
     "start_time": "2021-03-10T23:34:52.263878",
     "status": "completed"
    },
    "tags": []
   },
   "outputs": [
    {
     "data": {
      "text/plain": [
       "57"
      ]
     },
     "execution_count": 25,
     "metadata": {},
     "output_type": "execute_result"
    }
   ],
   "source": [
    "weather_train = timestamp_align(weather_train)\n",
    "weather_test = timestamp_align(weather_test)\n",
    "del weather, temp, gap\n",
    "gc.collect()"
   ]
  },
  {
   "cell_type": "markdown",
   "metadata": {
    "papermill": {
     "duration": 0.048588,
     "end_time": "2021-03-10T23:34:52.523136",
     "exception": false,
     "start_time": "2021-03-10T23:34:52.474548",
     "status": "completed"
    },
    "tags": []
   },
   "source": [
    "## c. Merge data"
   ]
  },
  {
   "cell_type": "code",
   "execution_count": 26,
   "metadata": {
    "execution": {
     "iopub.execute_input": "2021-03-10T23:34:52.625666Z",
     "iopub.status.busy": "2021-03-10T23:34:52.624985Z",
     "iopub.status.idle": "2021-03-10T23:35:20.036338Z",
     "shell.execute_reply": "2021-03-10T23:35:20.035746Z"
    },
    "papermill": {
     "duration": 27.463581,
     "end_time": "2021-03-10T23:35:20.036514",
     "exception": false,
     "start_time": "2021-03-10T23:34:52.572933",
     "status": "completed"
    },
    "tags": []
   },
   "outputs": [],
   "source": [
    "train_merge = train.merge(building_metadata, on='building_id', how='left', validate='many_to_one')\n",
    "train_merge = train_merge.merge(weather_train, on=['site_id', 'timestamp'], how='left', validate='many_to_one')\n",
    "del train, weather_train\n",
    "\n",
    "test_merge = test.merge(building_metadata, on='building_id', how='left', validate='many_to_one')\n",
    "test_merge = test_merge.merge(weather_test, on=['site_id', 'timestamp'], how='left', validate='many_to_one')\n",
    "del test, weather_test, building_metadata"
   ]
  },
  {
   "cell_type": "markdown",
   "metadata": {
    "papermill": {
     "duration": 0.04835,
     "end_time": "2021-03-10T23:35:20.134853",
     "exception": false,
     "start_time": "2021-03-10T23:35:20.086503",
     "status": "completed"
    },
    "tags": []
   },
   "source": [
    "This additionnal missing values appear here because some merging identity (timesamp) of train and test dataset aren't in  weather data. "
   ]
  },
  {
   "cell_type": "code",
   "execution_count": 27,
   "metadata": {
    "execution": {
     "iopub.execute_input": "2021-03-10T23:35:20.239737Z",
     "iopub.status.busy": "2021-03-10T23:35:20.238744Z",
     "iopub.status.idle": "2021-03-10T23:36:10.398515Z",
     "shell.execute_reply": "2021-03-10T23:36:10.399034Z"
    },
    "papermill": {
     "duration": 50.215493,
     "end_time": "2021-03-10T23:36:10.399226",
     "exception": false,
     "start_time": "2021-03-10T23:35:20.183733",
     "status": "completed"
    },
    "tags": []
   },
   "outputs": [],
   "source": [
    "#train_data\n",
    "train_merge = train_merge.sort_values(by=['building_id', 'timestamp'])\n",
    "train_merge.fillna(method = 'ffill', inplace=True)\n",
    "\n",
    "#test data\n",
    "test_merge = test_merge.sort_values(by=['building_id', 'timestamp'])\n",
    "test_merge.fillna(method = 'ffill', inplace=True)"
   ]
  },
  {
   "cell_type": "code",
   "execution_count": 28,
   "metadata": {
    "execution": {
     "iopub.execute_input": "2021-03-10T23:36:10.502557Z",
     "iopub.status.busy": "2021-03-10T23:36:10.501897Z",
     "iopub.status.idle": "2021-03-10T23:36:28.379090Z",
     "shell.execute_reply": "2021-03-10T23:36:28.378437Z"
    },
    "papermill": {
     "duration": 17.930184,
     "end_time": "2021-03-10T23:36:28.379232",
     "exception": false,
     "start_time": "2021-03-10T23:36:10.449048",
     "status": "completed"
    },
    "tags": []
   },
   "outputs": [
    {
     "name": "stdout",
     "output_type": "stream",
     "text": [
      "Memory usage after optimization is: 944.70 MB\n",
      "Decreased by 64.2%\n",
      "Memory usage after optimization is: 1948.53 MB\n",
      "Decreased by 64.2%\n"
     ]
    }
   ],
   "source": [
    "train_merge = reduce_mem_usage(train_merge)\n",
    "test_merge = reduce_mem_usage(test_merge)"
   ]
  },
  {
   "cell_type": "markdown",
   "metadata": {
    "papermill": {
     "duration": 0.050527,
     "end_time": "2021-03-10T23:36:28.479521",
     "exception": false,
     "start_time": "2021-03-10T23:36:28.428994",
     "status": "completed"
    },
    "tags": []
   },
   "source": [
    "## d. Create new variables"
   ]
  },
  {
   "cell_type": "markdown",
   "metadata": {
    "papermill": {
     "duration": 0.049552,
     "end_time": "2021-03-10T23:36:28.578643",
     "exception": false,
     "start_time": "2021-03-10T23:36:28.529091",
     "status": "completed"
    },
    "tags": []
   },
   "source": [
    "With the problem of the form of time series, we can create some useful variables. For example: year, month, date, hour, lagged variables. We will start with the simple ones: year, month, date, hour."
   ]
  },
  {
   "cell_type": "code",
   "execution_count": 29,
   "metadata": {
    "execution": {
     "iopub.execute_input": "2021-03-10T23:36:28.683094Z",
     "iopub.status.busy": "2021-03-10T23:36:28.682469Z",
     "iopub.status.idle": "2021-03-10T23:36:53.987114Z",
     "shell.execute_reply": "2021-03-10T23:36:53.987652Z"
    },
    "papermill": {
     "duration": 25.359389,
     "end_time": "2021-03-10T23:36:53.987866",
     "exception": false,
     "start_time": "2021-03-10T23:36:28.628477",
     "status": "completed"
    },
    "tags": []
   },
   "outputs": [
    {
     "name": "stderr",
     "output_type": "stream",
     "text": [
      "/opt/conda/lib/python3.7/site-packages/ipykernel_launcher.py:4: FutureWarning: Series.dt.weekofyear and Series.dt.week have been deprecated.  Please use Series.dt.isocalendar().week instead.\n",
      "  after removing the cwd from sys.path.\n",
      "/opt/conda/lib/python3.7/site-packages/ipykernel_launcher.py:10: FutureWarning: Series.dt.weekofyear and Series.dt.week have been deprecated.  Please use Series.dt.isocalendar().week instead.\n",
      "  # Remove the CWD from sys.path while we load stuff.\n"
     ]
    }
   ],
   "source": [
    "train_merge['month'] = train_merge['timestamp'].dt.month.astype(np.int8)\n",
    "#train_merge['year'] = train_merge['timestamp'].dt.year.astype(np.int16)\n",
    "train_merge['day'] = train_merge['timestamp'].dt.dayofweek.astype(np.int8)\n",
    "train_merge['week'] = train_merge['timestamp'].dt.weekofyear.astype(np.int8)\n",
    "train_merge['hour'] = train_merge['timestamp'].dt.hour.astype(np.int8)\n",
    "\n",
    "test_merge['month'] = test_merge['timestamp'].dt.month.astype(np.int8)\n",
    "#test_merge['year'] = test_merge['timestamp'].dt.year.astype(np.int16)\n",
    "test_merge['day'] = test_merge['timestamp'].dt.dayofweek.astype(np.int8)\n",
    "test_merge['week'] = test_merge['timestamp'].dt.weekofyear.astype(np.int8)\n",
    "test_merge['hour'] = test_merge['timestamp'].dt.hour.astype(np.int8)"
   ]
  },
  {
   "cell_type": "code",
   "execution_count": 30,
   "metadata": {
    "execution": {
     "iopub.execute_input": "2021-03-10T23:36:54.093570Z",
     "iopub.status.busy": "2021-03-10T23:36:54.092843Z",
     "iopub.status.idle": "2021-03-10T23:36:54.176802Z",
     "shell.execute_reply": "2021-03-10T23:36:54.177287Z"
    },
    "papermill": {
     "duration": 0.13879,
     "end_time": "2021-03-10T23:36:54.177490",
     "exception": false,
     "start_time": "2021-03-10T23:36:54.038700",
     "status": "completed"
    },
    "tags": []
   },
   "outputs": [
    {
     "data": {
      "text/plain": [
       "40"
      ]
     },
     "execution_count": 30,
     "metadata": {},
     "output_type": "execute_result"
    }
   ],
   "source": [
    "gc.collect()"
   ]
  },
  {
   "cell_type": "markdown",
   "metadata": {
    "papermill": {
     "duration": 0.050857,
     "end_time": "2021-03-10T23:36:54.279204",
     "exception": false,
     "start_time": "2021-03-10T23:36:54.228347",
     "status": "completed"
    },
    "tags": []
   },
   "source": [
    "## e. Target variable and transformation"
   ]
  },
  {
   "cell_type": "markdown",
   "metadata": {
    "papermill": {
     "duration": 0.050595,
     "end_time": "2021-03-10T23:36:54.381406",
     "exception": false,
     "start_time": "2021-03-10T23:36:54.330811",
     "status": "completed"
    },
    "tags": []
   },
   "source": [
    " Our original target variable is meter_reading.\n",
    " - Type 0 (electricity) of meter are mesure in kBTU. We need to convert them to kWh, and convert the prediction of this type again to kBTU before submission.\n",
    " - Transform the original target variable to obtain a new target variable *log1p(meter_reading)*"
   ]
  },
  {
   "cell_type": "code",
   "execution_count": 31,
   "metadata": {
    "execution": {
     "iopub.execute_input": "2021-03-10T23:36:54.486992Z",
     "iopub.status.busy": "2021-03-10T23:36:54.486348Z",
     "iopub.status.idle": "2021-03-10T23:36:54.962467Z",
     "shell.execute_reply": "2021-03-10T23:36:54.961722Z"
    },
    "papermill": {
     "duration": 0.530647,
     "end_time": "2021-03-10T23:36:54.962631",
     "exception": false,
     "start_time": "2021-03-10T23:36:54.431984",
     "status": "completed"
    },
    "tags": []
   },
   "outputs": [],
   "source": [
    "train_merge.loc[train_merge.meter == 0 , 'meter_reading'] = train_merge.loc[train_merge.meter == 0 , 'meter_reading'] * 0.2931"
   ]
  },
  {
   "cell_type": "code",
   "execution_count": 32,
   "metadata": {
    "execution": {
     "iopub.execute_input": "2021-03-10T23:36:55.068925Z",
     "iopub.status.busy": "2021-03-10T23:36:55.068241Z",
     "iopub.status.idle": "2021-03-10T23:36:55.071763Z",
     "shell.execute_reply": "2021-03-10T23:36:55.071163Z"
    },
    "papermill": {
     "duration": 0.058492,
     "end_time": "2021-03-10T23:36:55.071917",
     "exception": false,
     "start_time": "2021-03-10T23:36:55.013425",
     "status": "completed"
    },
    "tags": []
   },
   "outputs": [],
   "source": [
    "#train_merge.meter_reading.describe()"
   ]
  },
  {
   "cell_type": "code",
   "execution_count": 33,
   "metadata": {
    "execution": {
     "iopub.execute_input": "2021-03-10T23:36:55.178692Z",
     "iopub.status.busy": "2021-03-10T23:36:55.177966Z",
     "iopub.status.idle": "2021-03-10T23:36:55.180932Z",
     "shell.execute_reply": "2021-03-10T23:36:55.181420Z"
    },
    "papermill": {
     "duration": 0.058417,
     "end_time": "2021-03-10T23:36:55.181607",
     "exception": false,
     "start_time": "2021-03-10T23:36:55.123190",
     "status": "completed"
    },
    "tags": []
   },
   "outputs": [],
   "source": [
    "#plt.boxplot(train_merge.meter_reading)\n",
    "#plt.show()"
   ]
  },
  {
   "cell_type": "code",
   "execution_count": 34,
   "metadata": {
    "execution": {
     "iopub.execute_input": "2021-03-10T23:36:55.288799Z",
     "iopub.status.busy": "2021-03-10T23:36:55.288109Z",
     "iopub.status.idle": "2021-03-10T23:36:55.292127Z",
     "shell.execute_reply": "2021-03-10T23:36:55.291566Z"
    },
    "papermill": {
     "duration": 0.059434,
     "end_time": "2021-03-10T23:36:55.292266",
     "exception": false,
     "start_time": "2021-03-10T23:36:55.232832",
     "status": "completed"
    },
    "tags": []
   },
   "outputs": [],
   "source": [
    "#plt.hist(train_merge.meter_reading, bins = 100)\n",
    "#plt.show()"
   ]
  },
  {
   "cell_type": "code",
   "execution_count": 35,
   "metadata": {
    "execution": {
     "iopub.execute_input": "2021-03-10T23:36:55.399092Z",
     "iopub.status.busy": "2021-03-10T23:36:55.398472Z",
     "iopub.status.idle": "2021-03-10T23:36:55.401447Z",
     "shell.execute_reply": "2021-03-10T23:36:55.401940Z"
    },
    "papermill": {
     "duration": 0.057301,
     "end_time": "2021-03-10T23:36:55.402108",
     "exception": false,
     "start_time": "2021-03-10T23:36:55.344807",
     "status": "completed"
    },
    "tags": []
   },
   "outputs": [],
   "source": [
    "#plt.hist(np.log1p(train_merge.meter_reading), bins = 100)\n",
    "#plt.show()"
   ]
  },
  {
   "cell_type": "markdown",
   "metadata": {
    "papermill": {
     "duration": 0.051488,
     "end_time": "2021-03-10T23:36:55.505243",
     "exception": false,
     "start_time": "2021-03-10T23:36:55.453755",
     "status": "completed"
    },
    "tags": []
   },
   "source": [
    "### Identify Outliers"
   ]
  },
  {
   "cell_type": "code",
   "execution_count": 36,
   "metadata": {
    "execution": {
     "iopub.execute_input": "2021-03-10T23:36:55.611875Z",
     "iopub.status.busy": "2021-03-10T23:36:55.611255Z",
     "iopub.status.idle": "2021-03-10T23:36:55.614545Z",
     "shell.execute_reply": "2021-03-10T23:36:55.615041Z"
    },
    "papermill": {
     "duration": 0.058401,
     "end_time": "2021-03-10T23:36:55.615212",
     "exception": false,
     "start_time": "2021-03-10T23:36:55.556811",
     "status": "completed"
    },
    "tags": []
   },
   "outputs": [],
   "source": [
    "#train_merge['m/s'] = train_merge['meter_reading']/train_merge['square_feet']"
   ]
  },
  {
   "cell_type": "code",
   "execution_count": 37,
   "metadata": {
    "execution": {
     "iopub.execute_input": "2021-03-10T23:36:55.722170Z",
     "iopub.status.busy": "2021-03-10T23:36:55.721218Z",
     "iopub.status.idle": "2021-03-10T23:36:55.724835Z",
     "shell.execute_reply": "2021-03-10T23:36:55.725462Z"
    },
    "papermill": {
     "duration": 0.058919,
     "end_time": "2021-03-10T23:36:55.725636",
     "exception": false,
     "start_time": "2021-03-10T23:36:55.666717",
     "status": "completed"
    },
    "tags": []
   },
   "outputs": [],
   "source": [
    "#elec_ms = train_merge[(train_merge.meter==0) & (train_merge.meter_reading > 0)].loc[:,'m/s']"
   ]
  },
  {
   "cell_type": "code",
   "execution_count": 38,
   "metadata": {
    "execution": {
     "iopub.execute_input": "2021-03-10T23:36:55.837672Z",
     "iopub.status.busy": "2021-03-10T23:36:55.836788Z",
     "iopub.status.idle": "2021-03-10T23:36:55.839691Z",
     "shell.execute_reply": "2021-03-10T23:36:55.840192Z"
    },
    "papermill": {
     "duration": 0.061222,
     "end_time": "2021-03-10T23:36:55.840400",
     "exception": false,
     "start_time": "2021-03-10T23:36:55.779178",
     "status": "completed"
    },
    "tags": []
   },
   "outputs": [],
   "source": [
    "#elec_ms.describe()"
   ]
  },
  {
   "cell_type": "markdown",
   "metadata": {
    "papermill": {
     "duration": 0.053582,
     "end_time": "2021-03-10T23:36:55.947376",
     "exception": false,
     "start_time": "2021-03-10T23:36:55.893794",
     "status": "completed"
    },
    "tags": []
   },
   "source": [
    "### Create new target variable"
   ]
  },
  {
   "cell_type": "code",
   "execution_count": 39,
   "metadata": {
    "execution": {
     "iopub.execute_input": "2021-03-10T23:36:56.057646Z",
     "iopub.status.busy": "2021-03-10T23:36:56.056967Z",
     "iopub.status.idle": "2021-03-10T23:36:56.406486Z",
     "shell.execute_reply": "2021-03-10T23:36:56.405908Z"
    },
    "papermill": {
     "duration": 0.406757,
     "end_time": "2021-03-10T23:36:56.406630",
     "exception": false,
     "start_time": "2021-03-10T23:36:55.999873",
     "status": "completed"
    },
    "tags": []
   },
   "outputs": [],
   "source": [
    "train_merge['target'] = np.log1p(train_merge['meter_reading'])"
   ]
  },
  {
   "cell_type": "code",
   "execution_count": 40,
   "metadata": {
    "execution": {
     "iopub.execute_input": "2021-03-10T23:36:56.520911Z",
     "iopub.status.busy": "2021-03-10T23:36:56.520183Z",
     "iopub.status.idle": "2021-03-10T23:37:00.402647Z",
     "shell.execute_reply": "2021-03-10T23:37:00.403293Z"
    },
    "papermill": {
     "duration": 3.942404,
     "end_time": "2021-03-10T23:37:00.403528",
     "exception": false,
     "start_time": "2021-03-10T23:36:56.461124",
     "status": "completed"
    },
    "tags": []
   },
   "outputs": [],
   "source": [
    "train_0 = train_merge[train_merge.target > 0]\n",
    "Q1 = train_0.target.quantile(0.25)\n",
    "Q3 = train_0.target.quantile(0.75)\n",
    "IQR = Q3 - Q1\n",
    "del train_0\n",
    "gc.collect()\n",
    "train_merge = train_merge[train_merge.target <= Q3 + 1.5 * IQR]"
   ]
  },
  {
   "cell_type": "markdown",
   "metadata": {
    "papermill": {
     "duration": 0.051715,
     "end_time": "2021-03-10T23:37:00.508357",
     "exception": false,
     "start_time": "2021-03-10T23:37:00.456642",
     "status": "completed"
    },
    "tags": []
   },
   "source": [
    "# <a id='3'>3. Feature Engineering</a>"
   ]
  },
  {
   "cell_type": "markdown",
   "metadata": {
    "papermill": {
     "duration": 0.052166,
     "end_time": "2021-03-10T23:37:00.612356",
     "exception": false,
     "start_time": "2021-03-10T23:37:00.560190",
     "status": "completed"
    },
    "tags": []
   },
   "source": [
    "Correlation between target variable and other variable"
   ]
  },
  {
   "cell_type": "code",
   "execution_count": 41,
   "metadata": {
    "execution": {
     "iopub.execute_input": "2021-03-10T23:37:00.721252Z",
     "iopub.status.busy": "2021-03-10T23:37:00.720600Z",
     "iopub.status.idle": "2021-03-10T23:37:00.723786Z",
     "shell.execute_reply": "2021-03-10T23:37:00.724480Z"
    },
    "papermill": {
     "duration": 0.059391,
     "end_time": "2021-03-10T23:37:00.724659",
     "exception": false,
     "start_time": "2021-03-10T23:37:00.665268",
     "status": "completed"
    },
    "tags": []
   },
   "outputs": [],
   "source": [
    "#corr = train_merge.corr()"
   ]
  },
  {
   "cell_type": "markdown",
   "metadata": {
    "papermill": {
     "duration": 0.053431,
     "end_time": "2021-03-10T23:37:00.830809",
     "exception": false,
     "start_time": "2021-03-10T23:37:00.777378",
     "status": "completed"
    },
    "tags": []
   },
   "source": [
    "Heat map"
   ]
  },
  {
   "cell_type": "code",
   "execution_count": 42,
   "metadata": {
    "execution": {
     "iopub.execute_input": "2021-03-10T23:37:00.939659Z",
     "iopub.status.busy": "2021-03-10T23:37:00.938735Z",
     "iopub.status.idle": "2021-03-10T23:37:00.942346Z",
     "shell.execute_reply": "2021-03-10T23:37:00.942815Z"
    },
    "papermill": {
     "duration": 0.060062,
     "end_time": "2021-03-10T23:37:00.943020",
     "exception": false,
     "start_time": "2021-03-10T23:37:00.882958",
     "status": "completed"
    },
    "tags": []
   },
   "outputs": [],
   "source": [
    "#plt.subplots(figsize=(20, 20))\n",
    "#sns.heatmap(corr, annot = True, mask = np.triu(corr))"
   ]
  },
  {
   "cell_type": "markdown",
   "metadata": {
    "papermill": {
     "duration": 0.053081,
     "end_time": "2021-03-10T23:37:01.049223",
     "exception": false,
     "start_time": "2021-03-10T23:37:00.996142",
     "status": "completed"
    },
    "tags": []
   },
   "source": []
  },
  {
   "cell_type": "code",
   "execution_count": 43,
   "metadata": {
    "execution": {
     "iopub.execute_input": "2021-03-10T23:37:01.158478Z",
     "iopub.status.busy": "2021-03-10T23:37:01.157505Z",
     "iopub.status.idle": "2021-03-10T23:37:16.380039Z",
     "shell.execute_reply": "2021-03-10T23:37:16.380518Z"
    },
    "papermill": {
     "duration": 15.27889,
     "end_time": "2021-03-10T23:37:16.380702",
     "exception": false,
     "start_time": "2021-03-10T23:37:01.101812",
     "status": "completed"
    },
    "tags": []
   },
   "outputs": [],
   "source": [
    "train_merge.loc[:,'primary_use'] = train_merge['primary_use'].replace({'Entertainment/public assembly':'public',\n",
    "     'Public services':'service','Lodging/residential':'resident','Healthcare':'resident',\n",
    "     'Parking':'parking','Warehouse/storage': 'parking','Manufacturing/industrial': 'manufact',\n",
    "     'Retail':'service', 'Services':'service', 'Technology/science':'Office',\n",
    "     'Food sales and service':'service','Utility':'service','Religious worship':'public'})\n",
    "\n",
    "test_merge.loc[:,'primary_use'] = test_merge['primary_use'].replace({'Entertainment/public assembly':'public',\n",
    "     'Public services':'service','Lodging/residential':'resident','Healthcare':'resident',\n",
    "     'Parking':'parking','Warehouse/storage': 'parking','Manufacturing/industrial': 'manufact',\n",
    "     'Retail':'service', 'Services':'service', 'Technology/science':'Office',\n",
    "     'Food sales and service':'service','Utility':'service','Religious worship':'public'})"
   ]
  },
  {
   "cell_type": "markdown",
   "metadata": {
    "papermill": {
     "duration": 0.051949,
     "end_time": "2021-03-10T23:37:16.484890",
     "exception": false,
     "start_time": "2021-03-10T23:37:16.432941",
     "status": "completed"
    },
    "tags": []
   },
   "source": [
    "# <a id='4'>4. Simple model</a>"
   ]
  },
  {
   "cell_type": "code",
   "execution_count": 44,
   "metadata": {
    "execution": {
     "iopub.execute_input": "2021-03-10T23:37:16.598228Z",
     "iopub.status.busy": "2021-03-10T23:37:16.597023Z",
     "iopub.status.idle": "2021-03-10T23:37:25.060693Z",
     "shell.execute_reply": "2021-03-10T23:37:25.061222Z"
    },
    "papermill": {
     "duration": 8.524223,
     "end_time": "2021-03-10T23:37:25.061423",
     "exception": false,
     "start_time": "2021-03-10T23:37:16.537200",
     "status": "completed"
    },
    "tags": []
   },
   "outputs": [],
   "source": [
    "#from sklearn.tree import DecisionTreeRegressor\n",
    "\n",
    "y_train = train_merge['target']\n",
    "x_train = train_merge.dropna(axis = 1)\n",
    "\n",
    "x = pd.get_dummies(x_train[['primary_use']],drop_first=True)\n",
    "x_train = pd.concat([x_train, x], axis = 1)\n",
    "x_train = x_train.drop(['primary_use','meter_reading','target','timestamp',\"sea_level_pressure\", \"wind_direction\", \"wind_speed\"], axis = 1)"
   ]
  },
  {
   "cell_type": "code",
   "execution_count": 45,
   "metadata": {
    "execution": {
     "iopub.execute_input": "2021-03-10T23:37:25.177693Z",
     "iopub.status.busy": "2021-03-10T23:37:25.176951Z",
     "iopub.status.idle": "2021-03-10T23:37:44.684627Z",
     "shell.execute_reply": "2021-03-10T23:37:44.684020Z"
    },
    "papermill": {
     "duration": 19.569512,
     "end_time": "2021-03-10T23:37:44.684774",
     "exception": false,
     "start_time": "2021-03-10T23:37:25.115262",
     "status": "completed"
    },
    "tags": []
   },
   "outputs": [],
   "source": [
    "x_test = test_merge.dropna(axis = 1)\n",
    "x = pd.get_dummies(x_test[['primary_use']],drop_first=True)\n",
    "x_test = pd.concat([x_test, x], axis = 1)\n",
    "x_test = x_test.drop(['primary_use','timestamp',\"sea_level_pressure\", \"wind_direction\", \"wind_speed\"], axis = 1)\n",
    "x_test = x_test.drop('row_id', axis = 1)"
   ]
  },
  {
   "cell_type": "code",
   "execution_count": 46,
   "metadata": {
    "execution": {
     "iopub.execute_input": "2021-03-10T23:37:44.928167Z",
     "iopub.status.busy": "2021-03-10T23:37:44.927485Z",
     "iopub.status.idle": "2021-03-10T23:37:44.930575Z",
     "shell.execute_reply": "2021-03-10T23:37:44.931109Z"
    },
    "papermill": {
     "duration": 0.193657,
     "end_time": "2021-03-10T23:37:44.931287",
     "exception": false,
     "start_time": "2021-03-10T23:37:44.737630",
     "status": "completed"
    },
    "tags": []
   },
   "outputs": [
    {
     "data": {
      "text/plain": [
       "152"
      ]
     },
     "execution_count": 46,
     "metadata": {},
     "output_type": "execute_result"
    }
   ],
   "source": [
    "del train_merge,x\n",
    "gc.collect()\n"
   ]
  },
  {
   "cell_type": "code",
   "execution_count": 47,
   "metadata": {
    "execution": {
     "iopub.execute_input": "2021-03-10T23:37:45.041003Z",
     "iopub.status.busy": "2021-03-10T23:37:45.040334Z",
     "iopub.status.idle": "2021-03-10T23:37:45.044182Z",
     "shell.execute_reply": "2021-03-10T23:37:45.043637Z"
    },
    "papermill": {
     "duration": 0.05989,
     "end_time": "2021-03-10T23:37:45.044325",
     "exception": false,
     "start_time": "2021-03-10T23:37:44.984435",
     "status": "completed"
    },
    "tags": []
   },
   "outputs": [],
   "source": [
    "#tree_model = DecisionTreeRegressor(min_samples_split = 200, min_samples_leaf = 100)\n",
    "#tree_model = tree_model.fit(x_train, y_train)"
   ]
  },
  {
   "cell_type": "markdown",
   "metadata": {
    "papermill": {
     "duration": 0.053134,
     "end_time": "2021-03-10T23:37:45.151741",
     "exception": false,
     "start_time": "2021-03-10T23:37:45.098607",
     "status": "completed"
    },
    "tags": []
   },
   "source": [
    "# Light Gradient Boost Machine"
   ]
  },
  {
   "cell_type": "code",
   "execution_count": 48,
   "metadata": {
    "execution": {
     "iopub.execute_input": "2021-03-10T23:37:45.262998Z",
     "iopub.status.busy": "2021-03-10T23:37:45.262189Z",
     "iopub.status.idle": "2021-03-10T23:37:45.265661Z",
     "shell.execute_reply": "2021-03-10T23:37:45.264999Z"
    },
    "papermill": {
     "duration": 0.060828,
     "end_time": "2021-03-10T23:37:45.265803",
     "exception": false,
     "start_time": "2021-03-10T23:37:45.204975",
     "status": "completed"
    },
    "tags": []
   },
   "outputs": [],
   "source": [
    "#import lightgbm as lgb\n",
    "#from sklearn.model_selection import train_test_split\n",
    "#import random\n",
    "#random.seed(0)"
   ]
  },
  {
   "cell_type": "code",
   "execution_count": 49,
   "metadata": {
    "execution": {
     "iopub.execute_input": "2021-03-10T23:37:45.380523Z",
     "iopub.status.busy": "2021-03-10T23:37:45.379644Z",
     "iopub.status.idle": "2021-03-10T23:37:45.384883Z",
     "shell.execute_reply": "2021-03-10T23:37:45.384321Z"
    },
    "papermill": {
     "duration": 0.06553,
     "end_time": "2021-03-10T23:37:45.385033",
     "exception": false,
     "start_time": "2021-03-10T23:37:45.319503",
     "status": "completed"
    },
    "tags": []
   },
   "outputs": [
    {
     "data": {
      "text/plain": [
       "'#X_train, X_val, y_train, y_val = train_test_split(x_train,y_train,test_size=0.2)\\nX_train1 = x_train[:int(x_train.shape[0] / 2)]\\nX_train2 = x_train[int(x_train.shape[0] / 2):]\\ndel x_train\\n\\ny_train1 = y_train[:int(y_train.shape[0]/2)]\\ny_train2 = y_train[int(y_train.shape[0] / 2):]\\ndel y_train\\n\\n#categorical_features = [\\'building_id\\', \\'site_id\\', \\'meter\\',\\'month\\',\\'day\\',\\'week\\',\\'hour\\']\\n\\nX_train1 = lgb.Dataset(X_train1, label=y_train1,free_raw_data=False)\\nX_train2 = lgb.Dataset(X_train2, label=y_train2,free_raw_data=False)\\ndel y_train1,y_train2\\n\\n\\nparams = {\\n    \"objective\": \"regression\",\\n    \"boosting\": \"gbdt\",\\n    \"num_leaves\": 40,\\n    \"learning_rate\": 0.05,\\n    \"feature_fraction\": 0.85,\\n    \"reg_lambda\": 2,\\n    \"metric\": \"rmse\",\\n    \"force_col_wise\": True\\n}\\n\\n#Building model with first half and validating on second half:\\nmodel1 = lgb.train(params, train_set=X_train1, num_boost_round=1000, valid_sets=[X_train1,X_train2],verbose_eval=200, early_stopping_rounds=200)\\n\\n#Building model with second half and validating on first half:\\nmodel2 = lgb.train(params, train_set=X_train2, num_boost_round=1000, valid_sets=[X_train2,X_train1], verbose_eval=200,early_stopping_rounds=200)\\ndel X_train1,X_train2'"
      ]
     },
     "execution_count": 49,
     "metadata": {},
     "output_type": "execute_result"
    }
   ],
   "source": [
    "\"\"\"#X_train, X_val, y_train, y_val = train_test_split(x_train,y_train,test_size=0.2)\n",
    "X_train1 = x_train[:int(x_train.shape[0] / 2)]\n",
    "X_train2 = x_train[int(x_train.shape[0] / 2):]\n",
    "del x_train\n",
    "\n",
    "y_train1 = y_train[:int(y_train.shape[0]/2)]\n",
    "y_train2 = y_train[int(y_train.shape[0] / 2):]\n",
    "del y_train\n",
    "\n",
    "#categorical_features = ['building_id', 'site_id', 'meter','month','day','week','hour']\n",
    "\n",
    "X_train1 = lgb.Dataset(X_train1, label=y_train1,free_raw_data=False)\n",
    "X_train2 = lgb.Dataset(X_train2, label=y_train2,free_raw_data=False)\n",
    "del y_train1,y_train2\n",
    "\n",
    "\n",
    "params = {\n",
    "    \"objective\": \"regression\",\n",
    "    \"boosting\": \"gbdt\",\n",
    "    \"num_leaves\": 40,\n",
    "    \"learning_rate\": 0.05,\n",
    "    \"feature_fraction\": 0.85,\n",
    "    \"reg_lambda\": 2,\n",
    "    \"metric\": \"rmse\",\n",
    "    \"force_col_wise\": True\n",
    "}\n",
    "\n",
    "#Building model with first half and validating on second half:\n",
    "model1 = lgb.train(params, train_set=X_train1, num_boost_round=1000, valid_sets=[X_train1,X_train2],verbose_eval=200, early_stopping_rounds=200)\n",
    "\n",
    "#Building model with second half and validating on first half:\n",
    "model2 = lgb.train(params, train_set=X_train2, num_boost_round=1000, valid_sets=[X_train2,X_train1], verbose_eval=200,early_stopping_rounds=200)\n",
    "del X_train1,X_train2\"\"\""
   ]
  },
  {
   "cell_type": "markdown",
   "metadata": {
    "papermill": {
     "duration": 0.053994,
     "end_time": "2021-03-10T23:37:45.493316",
     "exception": false,
     "start_time": "2021-03-10T23:37:45.439322",
     "status": "completed"
    },
    "tags": []
   },
   "source": [
    "# Adaboost"
   ]
  },
  {
   "cell_type": "code",
   "execution_count": 50,
   "metadata": {
    "execution": {
     "iopub.execute_input": "2021-03-10T23:37:45.607690Z",
     "iopub.status.busy": "2021-03-10T23:37:45.606936Z",
     "iopub.status.idle": "2021-03-10T23:37:45.611273Z",
     "shell.execute_reply": "2021-03-10T23:37:45.610648Z"
    },
    "papermill": {
     "duration": 0.063698,
     "end_time": "2021-03-10T23:37:45.611433",
     "exception": false,
     "start_time": "2021-03-10T23:37:45.547735",
     "status": "completed"
    },
    "tags": []
   },
   "outputs": [],
   "source": [
    "#from sklearn.ensemble import AdaBoostRegressor"
   ]
  },
  {
   "cell_type": "code",
   "execution_count": 51,
   "metadata": {
    "execution": {
     "iopub.execute_input": "2021-03-10T23:37:45.727267Z",
     "iopub.status.busy": "2021-03-10T23:37:45.726323Z",
     "iopub.status.idle": "2021-03-10T23:37:45.730213Z",
     "shell.execute_reply": "2021-03-10T23:37:45.729706Z"
    },
    "papermill": {
     "duration": 0.064627,
     "end_time": "2021-03-10T23:37:45.730360",
     "exception": false,
     "start_time": "2021-03-10T23:37:45.665733",
     "status": "completed"
    },
    "tags": []
   },
   "outputs": [],
   "source": [
    "#model = AdaBoostRegressor(base_estimator = DecisionTreeRegressor(min_samples_split = 200, min_samples_leaf = 100),n_estimators = 10)\n",
    "#modelfit = model.fit(x_train, y_train)"
   ]
  },
  {
   "cell_type": "markdown",
   "metadata": {
    "papermill": {
     "duration": 0.05478,
     "end_time": "2021-03-10T23:37:45.840263",
     "exception": false,
     "start_time": "2021-03-10T23:37:45.785483",
     "status": "completed"
    },
    "tags": []
   },
   "source": [
    "# XGBOOST"
   ]
  },
  {
   "cell_type": "code",
   "execution_count": 52,
   "metadata": {
    "execution": {
     "iopub.execute_input": "2021-03-10T23:37:45.956912Z",
     "iopub.status.busy": "2021-03-10T23:37:45.956112Z",
     "iopub.status.idle": "2021-03-10T23:53:41.305935Z",
     "shell.execute_reply": "2021-03-10T23:53:41.306553Z"
    },
    "papermill": {
     "duration": 955.411738,
     "end_time": "2021-03-10T23:53:41.306779",
     "exception": false,
     "start_time": "2021-03-10T23:37:45.895041",
     "status": "completed"
    },
    "tags": []
   },
   "outputs": [
    {
     "name": "stdout",
     "output_type": "stream",
     "text": [
      "[0]\tvalidation_0-rmse:2.72124\n",
      "[1]\tvalidation_0-rmse:2.10166\n",
      "[2]\tvalidation_0-rmse:1.70756\n",
      "[3]\tvalidation_0-rmse:1.45876\n",
      "[4]\tvalidation_0-rmse:1.30795\n",
      "[5]\tvalidation_0-rmse:1.20776\n",
      "[6]\tvalidation_0-rmse:1.14523\n",
      "[7]\tvalidation_0-rmse:1.10661\n",
      "[8]\tvalidation_0-rmse:1.06988\n",
      "[9]\tvalidation_0-rmse:1.04822\n",
      "[10]\tvalidation_0-rmse:1.01820\n",
      "[11]\tvalidation_0-rmse:1.00774\n",
      "[12]\tvalidation_0-rmse:0.99805\n",
      "[13]\tvalidation_0-rmse:0.98502\n",
      "[14]\tvalidation_0-rmse:0.97438\n",
      "[15]\tvalidation_0-rmse:0.96501\n",
      "[16]\tvalidation_0-rmse:0.95383\n",
      "[17]\tvalidation_0-rmse:0.94668\n",
      "[18]\tvalidation_0-rmse:0.93730\n",
      "[19]\tvalidation_0-rmse:0.93415\n"
     ]
    }
   ],
   "source": [
    "from sklearn.model_selection import train_test_split\n",
    "import xgboost as xgb\n",
    "#from sklearn.metrics import mean_squared_error\n",
    "   \n",
    "X_train, X_val, y_train, y_val = train_test_split(x_train, y_train, test_size=0.3)\n",
    "model = xgb.XGBRegressor(n_estimators=20,max_depth=10,reg_lambda=0.5)\n",
    "\n",
    "model.fit(X_train, y_train, early_stopping_rounds=50, eval_set=[(X_val, y_val)], verbose=True)\n",
    "#y_prediction = model.predict(X_val)\n",
    "del X_train,X_val,y_train\n",
    "\n",
    "#print(mean_squared_error(y_val,y_prediction))\n",
    "del y_val#,y_prediction"
   ]
  },
  {
   "cell_type": "code",
   "execution_count": 53,
   "metadata": {
    "execution": {
     "iopub.execute_input": "2021-03-10T23:53:41.439158Z",
     "iopub.status.busy": "2021-03-10T23:53:41.438457Z",
     "iopub.status.idle": "2021-03-10T23:54:17.459401Z",
     "shell.execute_reply": "2021-03-10T23:54:17.460013Z"
    },
    "papermill": {
     "duration": 36.091353,
     "end_time": "2021-03-10T23:54:17.460394",
     "exception": false,
     "start_time": "2021-03-10T23:53:41.369041",
     "status": "completed"
    },
    "tags": []
   },
   "outputs": [
    {
     "data": {
      "text/plain": [
       "77"
      ]
     },
     "execution_count": 53,
     "metadata": {},
     "output_type": "execute_result"
    }
   ],
   "source": [
    "ratio = int(len(x_test)/10)\n",
    "y_pred = np.empty(len(x_test))\n",
    "for i in range(10):\n",
    "    #y_pred[i*ratio:(i+1)*ratio] = np.expm1(model1.predict(x_test.iloc[i*ratio:(i+1)*ratio],num_iteration=model1.best_iteration))/2\n",
    "    #y_pred[i*ratio:(i+1)*ratio] += np.expm1(model2.predict(x_test.iloc[i*ratio:(i+1)*ratio],num_iteration=model2.best_iteration))/2\n",
    "    #y_pred[i*ratio:(i+1)*ratio] = np.expm1(tree_model.predict(x_test.iloc[i*ratio:(i+1)*ratio]))\n",
    "    y_pred[i*ratio:(i+1)*ratio] = np.expm1(model.predict(x_test.iloc[i*ratio:(i+1)*ratio]))\n",
    "del model\n",
    "gc.collect()    "
   ]
  },
  {
   "cell_type": "code",
   "execution_count": 54,
   "metadata": {
    "execution": {
     "iopub.execute_input": "2021-03-10T23:54:17.591944Z",
     "iopub.status.busy": "2021-03-10T23:54:17.591081Z",
     "iopub.status.idle": "2021-03-10T23:56:51.949885Z",
     "shell.execute_reply": "2021-03-10T23:56:51.949264Z"
    },
    "papermill": {
     "duration": 154.427228,
     "end_time": "2021-03-10T23:56:51.950064",
     "exception": false,
     "start_time": "2021-03-10T23:54:17.522836",
     "status": "completed"
    },
    "tags": []
   },
   "outputs": [],
   "source": [
    "y_pred[x_test.meter==0] /= 0.2931\n",
    "my_submission = pd.DataFrame({'row_id': test_merge.row_id, 'meter_reading': y_pred})\n",
    "my_submission.to_csv('submission.csv', index=False)"
   ]
  },
  {
   "cell_type": "code",
   "execution_count": 55,
   "metadata": {
    "execution": {
     "iopub.execute_input": "2021-03-10T23:56:52.080617Z",
     "iopub.status.busy": "2021-03-10T23:56:52.079883Z",
     "iopub.status.idle": "2021-03-10T23:56:52.083190Z",
     "shell.execute_reply": "2021-03-10T23:56:52.083693Z"
    },
    "papermill": {
     "duration": 0.070634,
     "end_time": "2021-03-10T23:56:52.083871",
     "exception": false,
     "start_time": "2021-03-10T23:56:52.013237",
     "status": "completed"
    },
    "tags": []
   },
   "outputs": [
    {
     "data": {
      "text/plain": [
       "array([6.07097202, 6.06012361, 6.07096632, ..., 4.00819294, 3.81288371,\n",
       "       5.0817883 ])"
      ]
     },
     "execution_count": 55,
     "metadata": {},
     "output_type": "execute_result"
    }
   ],
   "source": [
    "y_pred"
   ]
  }
 ],
 "metadata": {
  "kernelspec": {
   "display_name": "Python 3",
   "language": "python",
   "name": "python3"
  },
  "language_info": {
   "codemirror_mode": {
    "name": "ipython",
    "version": 3
   },
   "file_extension": ".py",
   "mimetype": "text/x-python",
   "name": "python",
   "nbconvert_exporter": "python",
   "pygments_lexer": "ipython3",
   "version": "3.7.9"
  },
  "papermill": {
   "default_parameters": {},
   "duration": 1398.13561,
   "end_time": "2021-03-10T23:56:53.361868",
   "environment_variables": {},
   "exception": null,
   "input_path": "__notebook__.ipynb",
   "output_path": "__notebook__.ipynb",
   "parameters": {},
   "start_time": "2021-03-10T23:33:35.226258",
   "version": "2.2.2"
  }
 },
 "nbformat": 4,
 "nbformat_minor": 4
}
