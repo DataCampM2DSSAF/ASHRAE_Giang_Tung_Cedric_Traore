{
 "cells": [
  {
   "cell_type": "markdown",
   "metadata": {
    "papermill": {
     "duration": 0.037218,
     "end_time": "2021-02-24T17:07:41.270670",
     "exception": false,
     "start_time": "2021-02-24T17:07:41.233452",
     "status": "completed"
    },
    "tags": []
   },
   "source": [
    "Improvement from the first submission:\n",
    "- Preprocessing:\n",
    "    - Missing data\n",
    "        Air_temperature: fill with values from previous days\n",
    "    - Timestamps alignment\n",
    "    - Target variable : \n",
    "        - Remove outliers\n",
    "        - Log1p transformation\n",
    "- Feature engineering:\n",
    "    - Study the correlation between variables"
   ]
  },
  {
   "cell_type": "markdown",
   "metadata": {
    "papermill": {
     "duration": 0.035904,
     "end_time": "2021-02-24T17:07:41.344407",
     "exception": false,
     "start_time": "2021-02-24T17:07:41.308503",
     "status": "completed"
    },
    "tags": []
   },
   "source": [
    "<a href='#1'>1. Data's Overview</a>\n",
    "\n",
    "<a href='#2'>2. Preprocessing</a>\n",
    "\n",
    "<a href='#3'>3. Feature engineering</a>\n",
    "\n",
    "<a href='#4'>4. Simple model</a>"
   ]
  },
  {
   "cell_type": "code",
   "execution_count": 1,
   "metadata": {
    "_cell_guid": "b1076dfc-b9ad-4769-8c92-a6c4dae69d19",
    "_uuid": "8f2839f25d086af736a60e9eeb907d3b93b6e0e5",
    "execution": {
     "iopub.execute_input": "2021-02-24T17:07:41.419210Z",
     "iopub.status.busy": "2021-02-24T17:07:41.418457Z",
     "iopub.status.idle": "2021-02-24T17:07:42.286078Z",
     "shell.execute_reply": "2021-02-24T17:07:42.286536Z"
    },
    "papermill": {
     "duration": 0.906657,
     "end_time": "2021-02-24T17:07:42.286862",
     "exception": false,
     "start_time": "2021-02-24T17:07:41.380205",
     "status": "completed"
    },
    "tags": []
   },
   "outputs": [
    {
     "name": "stdout",
     "output_type": "stream",
     "text": [
      "/kaggle/input/ashrae-energy-prediction/sample_submission.csv\n",
      "/kaggle/input/ashrae-energy-prediction/building_metadata.csv\n",
      "/kaggle/input/ashrae-energy-prediction/weather_train.csv\n",
      "/kaggle/input/ashrae-energy-prediction/weather_test.csv\n",
      "/kaggle/input/ashrae-energy-prediction/train.csv\n",
      "/kaggle/input/ashrae-energy-prediction/test.csv\n"
     ]
    }
   ],
   "source": [
    "import numpy as np # linear algebra\n",
    "import pandas as pd # data processing, CSV file I/O (e.g. pd.read_csv)\n",
    "import matplotlib.pyplot as plt # basic plotting\n",
    "import seaborn as sns # for prettier plots\n",
    "import datetime # manipulating date formats\n",
    "\n",
    "import os\n",
    "for dirname, _, filenames in os.walk('/kaggle/input'):\n",
    "    for filename in filenames:\n",
    "        print(os.path.join(dirname, filename))"
   ]
  },
  {
   "cell_type": "markdown",
   "metadata": {
    "papermill": {
     "duration": 0.036558,
     "end_time": "2021-02-24T17:07:42.362444",
     "exception": false,
     "start_time": "2021-02-24T17:07:42.325886",
     "status": "completed"
    },
    "tags": []
   },
   "source": [
    "# <a id='1'>1. Data's Overview</a>"
   ]
  },
  {
   "cell_type": "markdown",
   "metadata": {
    "papermill": {
     "duration": 0.035947,
     "end_time": "2021-02-24T17:07:42.434712",
     "exception": false,
     "start_time": "2021-02-24T17:07:42.398765",
     "status": "completed"
    },
    "tags": []
   },
   "source": [
    "## Loading data"
   ]
  },
  {
   "cell_type": "code",
   "execution_count": 2,
   "metadata": {
    "execution": {
     "iopub.execute_input": "2021-02-24T17:07:42.510258Z",
     "iopub.status.busy": "2021-02-24T17:07:42.509613Z",
     "iopub.status.idle": "2021-02-24T17:08:47.252371Z",
     "shell.execute_reply": "2021-02-24T17:08:47.251735Z"
    },
    "papermill": {
     "duration": 64.781905,
     "end_time": "2021-02-24T17:08:47.252549",
     "exception": false,
     "start_time": "2021-02-24T17:07:42.470644",
     "status": "completed"
    },
    "tags": []
   },
   "outputs": [],
   "source": [
    "building_metadata = pd.read_csv('/kaggle/input/ashrae-energy-prediction/building_metadata.csv')\n",
    "train = pd.read_csv('/kaggle/input/ashrae-energy-prediction/train.csv', parse_dates=['timestamp'])\n",
    "test = pd.read_csv('/kaggle/input/ashrae-energy-prediction/test.csv', parse_dates=['timestamp'])\n",
    "weather_train = pd.read_csv('/kaggle/input/ashrae-energy-prediction/weather_train.csv', parse_dates=['timestamp'])\n",
    "weather_test = pd.read_csv('/kaggle/input/ashrae-energy-prediction/weather_test.csv', parse_dates=['timestamp'])"
   ]
  },
  {
   "cell_type": "code",
   "execution_count": 3,
   "metadata": {
    "execution": {
     "iopub.execute_input": "2021-02-24T17:08:47.340255Z",
     "iopub.status.busy": "2021-02-24T17:08:47.339463Z",
     "iopub.status.idle": "2021-02-24T17:08:47.342885Z",
     "shell.execute_reply": "2021-02-24T17:08:47.342379Z"
    },
    "papermill": {
     "duration": 0.054051,
     "end_time": "2021-02-24T17:08:47.343061",
     "exception": false,
     "start_time": "2021-02-24T17:08:47.289010",
     "status": "completed"
    },
    "tags": []
   },
   "outputs": [],
   "source": [
    "#Function to reduction memory usage (Source code from Kaggle)\n",
    "def reduce_mem_usage(df, verbose=True):\n",
    "    numerics = ['int16', 'int32', 'int64', 'float16', 'float32', 'float64']\n",
    "    start_mem = df.memory_usage().sum() / 1024**2\n",
    "    for col in df.columns:\n",
    "        col_type = df[col].dtypes\n",
    "        if col_type in numerics:\n",
    "            c_min = df[col].min()\n",
    "            c_max = df[col].max()\n",
    "            if str(col_type)[:3] == 'int':\n",
    "                if c_min > np.iinfo(np.int8).min and c_max < np.iinfo(np.int8).max:\n",
    "                    df[col] = df[col].astype(np.int8)\n",
    "                elif c_min > np.iinfo(np.int16).min and c_max < np.iinfo(np.int16).max:\n",
    "                    df[col] = df[col].astype(np.int16)\n",
    "                elif c_min > np.iinfo(np.int32).min and c_max < np.iinfo(np.int32).max:\n",
    "                    df[col] = df[col].astype(np.int32)\n",
    "                elif c_min > np.iinfo(np.int64).min and c_max < np.iinfo(np.int64).max:\n",
    "                    df[col] = df[col].astype(np.int64)\n",
    "            else:\n",
    "                if c_min > np.finfo(np.float16).min and c_max < np.finfo(np.float16).max:\n",
    "                    df[col] = df[col].astype(np.float16)\n",
    "                elif c_min > np.finfo(np.float32).min and c_max < np.finfo(np.float32).max:\n",
    "                    df[col] = df[col].astype(np.float32)\n",
    "                else:\n",
    "                    df[col] = df[col].astype(np.float64)\n",
    "\n",
    "    end_mem = df.memory_usage().sum() / 1024**2\n",
    "    print('Memory usage after optimization is: {:.2f} MB'.format(end_mem))\n",
    "    print('Decreased by {:.1f}%'.format(100 * (start_mem - end_mem) / start_mem))\n",
    "\n",
    "    return df"
   ]
  },
  {
   "cell_type": "code",
   "execution_count": 4,
   "metadata": {
    "execution": {
     "iopub.execute_input": "2021-02-24T17:08:47.423169Z",
     "iopub.status.busy": "2021-02-24T17:08:47.422471Z",
     "iopub.status.idle": "2021-02-24T17:08:48.967818Z",
     "shell.execute_reply": "2021-02-24T17:08:48.968537Z"
    },
    "papermill": {
     "duration": 1.589359,
     "end_time": "2021-02-24T17:08:48.968804",
     "exception": false,
     "start_time": "2021-02-24T17:08:47.379445",
     "status": "completed"
    },
    "tags": []
   },
   "outputs": [
    {
     "name": "stdout",
     "output_type": "stream",
     "text": [
      "Memory usage after optimization is: 289.19 MB\n",
      "Decreased by 53.1%\n",
      "Memory usage after optimization is: 596.49 MB\n",
      "Decreased by 53.1%\n",
      "Memory usage after optimization is: 0.03 MB\n",
      "Decreased by 60.3%\n",
      "Memory usage after optimization is: 3.07 MB\n",
      "Decreased by 68.1%\n",
      "Memory usage after optimization is: 6.08 MB\n",
      "Decreased by 68.1%\n"
     ]
    }
   ],
   "source": [
    "train = reduce_mem_usage(train)\n",
    "test = reduce_mem_usage(test)\n",
    "building_metadata = reduce_mem_usage(building_metadata)\n",
    "weather_train = reduce_mem_usage(weather_train)\n",
    "weather_test = reduce_mem_usage(weather_test)"
   ]
  },
  {
   "cell_type": "markdown",
   "metadata": {
    "papermill": {
     "duration": 0.037723,
     "end_time": "2021-02-24T17:08:49.049134",
     "exception": false,
     "start_time": "2021-02-24T17:08:49.011411",
     "status": "completed"
    },
    "tags": []
   },
   "source": [
    "## Data's overview"
   ]
  },
  {
   "cell_type": "code",
   "execution_count": 5,
   "metadata": {
    "execution": {
     "iopub.execute_input": "2021-02-24T17:08:49.132137Z",
     "iopub.status.busy": "2021-02-24T17:08:49.131324Z",
     "iopub.status.idle": "2021-02-24T17:08:49.134934Z",
     "shell.execute_reply": "2021-02-24T17:08:49.135862Z"
    },
    "papermill": {
     "duration": 0.04963,
     "end_time": "2021-02-24T17:08:49.136156",
     "exception": false,
     "start_time": "2021-02-24T17:08:49.086526",
     "status": "completed"
    },
    "tags": []
   },
   "outputs": [
    {
     "name": "stdout",
     "output_type": "stream",
     "text": [
      "Size of train data (20216100, 4)\n",
      "Size of test data (41697600, 4)\n",
      "Size of weather_train data (139773, 9)\n",
      "Size of weather_test data (277243, 9)\n",
      "Size of building_metadata data (1449, 6)\n"
     ]
    }
   ],
   "source": [
    "print('Size of train data', train.shape)\n",
    "print('Size of test data', test.shape)\n",
    "print('Size of weather_train data', weather_train.shape)\n",
    "print('Size of weather_test data', weather_test.shape)\n",
    "print('Size of building_metadata data', building_metadata.shape)"
   ]
  },
  {
   "cell_type": "code",
   "execution_count": 6,
   "metadata": {
    "execution": {
     "iopub.execute_input": "2021-02-24T17:08:49.221817Z",
     "iopub.status.busy": "2021-02-24T17:08:49.221126Z",
     "iopub.status.idle": "2021-02-24T17:08:49.237643Z",
     "shell.execute_reply": "2021-02-24T17:08:49.238279Z"
    },
    "papermill": {
     "duration": 0.063167,
     "end_time": "2021-02-24T17:08:49.238456",
     "exception": false,
     "start_time": "2021-02-24T17:08:49.175289",
     "status": "completed"
    },
    "tags": []
   },
   "outputs": [
    {
     "data": {
      "text/html": [
       "<div>\n",
       "<style scoped>\n",
       "    .dataframe tbody tr th:only-of-type {\n",
       "        vertical-align: middle;\n",
       "    }\n",
       "\n",
       "    .dataframe tbody tr th {\n",
       "        vertical-align: top;\n",
       "    }\n",
       "\n",
       "    .dataframe thead th {\n",
       "        text-align: right;\n",
       "    }\n",
       "</style>\n",
       "<table border=\"1\" class=\"dataframe\">\n",
       "  <thead>\n",
       "    <tr style=\"text-align: right;\">\n",
       "      <th></th>\n",
       "      <th>building_id</th>\n",
       "      <th>meter</th>\n",
       "      <th>timestamp</th>\n",
       "      <th>meter_reading</th>\n",
       "    </tr>\n",
       "  </thead>\n",
       "  <tbody>\n",
       "    <tr>\n",
       "      <th>0</th>\n",
       "      <td>0</td>\n",
       "      <td>0</td>\n",
       "      <td>2016-01-01</td>\n",
       "      <td>0.0</td>\n",
       "    </tr>\n",
       "    <tr>\n",
       "      <th>1</th>\n",
       "      <td>1</td>\n",
       "      <td>0</td>\n",
       "      <td>2016-01-01</td>\n",
       "      <td>0.0</td>\n",
       "    </tr>\n",
       "    <tr>\n",
       "      <th>2</th>\n",
       "      <td>2</td>\n",
       "      <td>0</td>\n",
       "      <td>2016-01-01</td>\n",
       "      <td>0.0</td>\n",
       "    </tr>\n",
       "    <tr>\n",
       "      <th>3</th>\n",
       "      <td>3</td>\n",
       "      <td>0</td>\n",
       "      <td>2016-01-01</td>\n",
       "      <td>0.0</td>\n",
       "    </tr>\n",
       "    <tr>\n",
       "      <th>4</th>\n",
       "      <td>4</td>\n",
       "      <td>0</td>\n",
       "      <td>2016-01-01</td>\n",
       "      <td>0.0</td>\n",
       "    </tr>\n",
       "  </tbody>\n",
       "</table>\n",
       "</div>"
      ],
      "text/plain": [
       "   building_id  meter  timestamp  meter_reading\n",
       "0            0      0 2016-01-01            0.0\n",
       "1            1      0 2016-01-01            0.0\n",
       "2            2      0 2016-01-01            0.0\n",
       "3            3      0 2016-01-01            0.0\n",
       "4            4      0 2016-01-01            0.0"
      ]
     },
     "execution_count": 6,
     "metadata": {},
     "output_type": "execute_result"
    }
   ],
   "source": [
    "train.head()"
   ]
  },
  {
   "cell_type": "code",
   "execution_count": 7,
   "metadata": {
    "execution": {
     "iopub.execute_input": "2021-02-24T17:08:49.320290Z",
     "iopub.status.busy": "2021-02-24T17:08:49.319352Z",
     "iopub.status.idle": "2021-02-24T17:08:49.337925Z",
     "shell.execute_reply": "2021-02-24T17:08:49.337195Z"
    },
    "papermill": {
     "duration": 0.06054,
     "end_time": "2021-02-24T17:08:49.338142",
     "exception": false,
     "start_time": "2021-02-24T17:08:49.277602",
     "status": "completed"
    },
    "tags": []
   },
   "outputs": [
    {
     "data": {
      "text/html": [
       "<div>\n",
       "<style scoped>\n",
       "    .dataframe tbody tr th:only-of-type {\n",
       "        vertical-align: middle;\n",
       "    }\n",
       "\n",
       "    .dataframe tbody tr th {\n",
       "        vertical-align: top;\n",
       "    }\n",
       "\n",
       "    .dataframe thead th {\n",
       "        text-align: right;\n",
       "    }\n",
       "</style>\n",
       "<table border=\"1\" class=\"dataframe\">\n",
       "  <thead>\n",
       "    <tr style=\"text-align: right;\">\n",
       "      <th></th>\n",
       "      <th>site_id</th>\n",
       "      <th>timestamp</th>\n",
       "      <th>air_temperature</th>\n",
       "      <th>cloud_coverage</th>\n",
       "      <th>dew_temperature</th>\n",
       "      <th>precip_depth_1_hr</th>\n",
       "      <th>sea_level_pressure</th>\n",
       "      <th>wind_direction</th>\n",
       "      <th>wind_speed</th>\n",
       "    </tr>\n",
       "  </thead>\n",
       "  <tbody>\n",
       "    <tr>\n",
       "      <th>0</th>\n",
       "      <td>0</td>\n",
       "      <td>2016-01-01 00:00:00</td>\n",
       "      <td>25.000000</td>\n",
       "      <td>6.0</td>\n",
       "      <td>20.00000</td>\n",
       "      <td>NaN</td>\n",
       "      <td>1019.5</td>\n",
       "      <td>0.0</td>\n",
       "      <td>0.000000</td>\n",
       "    </tr>\n",
       "    <tr>\n",
       "      <th>1</th>\n",
       "      <td>0</td>\n",
       "      <td>2016-01-01 01:00:00</td>\n",
       "      <td>24.406250</td>\n",
       "      <td>NaN</td>\n",
       "      <td>21.09375</td>\n",
       "      <td>-1.0</td>\n",
       "      <td>1020.0</td>\n",
       "      <td>70.0</td>\n",
       "      <td>1.500000</td>\n",
       "    </tr>\n",
       "    <tr>\n",
       "      <th>2</th>\n",
       "      <td>0</td>\n",
       "      <td>2016-01-01 02:00:00</td>\n",
       "      <td>22.796875</td>\n",
       "      <td>2.0</td>\n",
       "      <td>21.09375</td>\n",
       "      <td>0.0</td>\n",
       "      <td>1020.0</td>\n",
       "      <td>0.0</td>\n",
       "      <td>0.000000</td>\n",
       "    </tr>\n",
       "    <tr>\n",
       "      <th>3</th>\n",
       "      <td>0</td>\n",
       "      <td>2016-01-01 03:00:00</td>\n",
       "      <td>21.093750</td>\n",
       "      <td>2.0</td>\n",
       "      <td>20.59375</td>\n",
       "      <td>0.0</td>\n",
       "      <td>1020.0</td>\n",
       "      <td>0.0</td>\n",
       "      <td>0.000000</td>\n",
       "    </tr>\n",
       "    <tr>\n",
       "      <th>4</th>\n",
       "      <td>0</td>\n",
       "      <td>2016-01-01 04:00:00</td>\n",
       "      <td>20.000000</td>\n",
       "      <td>2.0</td>\n",
       "      <td>20.00000</td>\n",
       "      <td>-1.0</td>\n",
       "      <td>1020.0</td>\n",
       "      <td>250.0</td>\n",
       "      <td>2.599609</td>\n",
       "    </tr>\n",
       "  </tbody>\n",
       "</table>\n",
       "</div>"
      ],
      "text/plain": [
       "   site_id           timestamp  air_temperature  cloud_coverage  \\\n",
       "0        0 2016-01-01 00:00:00        25.000000             6.0   \n",
       "1        0 2016-01-01 01:00:00        24.406250             NaN   \n",
       "2        0 2016-01-01 02:00:00        22.796875             2.0   \n",
       "3        0 2016-01-01 03:00:00        21.093750             2.0   \n",
       "4        0 2016-01-01 04:00:00        20.000000             2.0   \n",
       "\n",
       "   dew_temperature  precip_depth_1_hr  sea_level_pressure  wind_direction  \\\n",
       "0         20.00000                NaN              1019.5             0.0   \n",
       "1         21.09375               -1.0              1020.0            70.0   \n",
       "2         21.09375                0.0              1020.0             0.0   \n",
       "3         20.59375                0.0              1020.0             0.0   \n",
       "4         20.00000               -1.0              1020.0           250.0   \n",
       "\n",
       "   wind_speed  \n",
       "0    0.000000  \n",
       "1    1.500000  \n",
       "2    0.000000  \n",
       "3    0.000000  \n",
       "4    2.599609  "
      ]
     },
     "execution_count": 7,
     "metadata": {},
     "output_type": "execute_result"
    }
   ],
   "source": [
    "weather_train.head()"
   ]
  },
  {
   "cell_type": "code",
   "execution_count": 8,
   "metadata": {
    "execution": {
     "iopub.execute_input": "2021-02-24T17:08:49.434073Z",
     "iopub.status.busy": "2021-02-24T17:08:49.433031Z",
     "iopub.status.idle": "2021-02-24T17:08:49.436882Z",
     "shell.execute_reply": "2021-02-24T17:08:49.437521Z"
    },
    "papermill": {
     "duration": 0.055992,
     "end_time": "2021-02-24T17:08:49.437688",
     "exception": false,
     "start_time": "2021-02-24T17:08:49.381696",
     "status": "completed"
    },
    "tags": []
   },
   "outputs": [
    {
     "data": {
      "text/html": [
       "<div>\n",
       "<style scoped>\n",
       "    .dataframe tbody tr th:only-of-type {\n",
       "        vertical-align: middle;\n",
       "    }\n",
       "\n",
       "    .dataframe tbody tr th {\n",
       "        vertical-align: top;\n",
       "    }\n",
       "\n",
       "    .dataframe thead th {\n",
       "        text-align: right;\n",
       "    }\n",
       "</style>\n",
       "<table border=\"1\" class=\"dataframe\">\n",
       "  <thead>\n",
       "    <tr style=\"text-align: right;\">\n",
       "      <th></th>\n",
       "      <th>site_id</th>\n",
       "      <th>building_id</th>\n",
       "      <th>primary_use</th>\n",
       "      <th>square_feet</th>\n",
       "      <th>year_built</th>\n",
       "      <th>floor_count</th>\n",
       "    </tr>\n",
       "  </thead>\n",
       "  <tbody>\n",
       "    <tr>\n",
       "      <th>0</th>\n",
       "      <td>0</td>\n",
       "      <td>0</td>\n",
       "      <td>Education</td>\n",
       "      <td>7432</td>\n",
       "      <td>2008.0</td>\n",
       "      <td>NaN</td>\n",
       "    </tr>\n",
       "    <tr>\n",
       "      <th>1</th>\n",
       "      <td>0</td>\n",
       "      <td>1</td>\n",
       "      <td>Education</td>\n",
       "      <td>2720</td>\n",
       "      <td>2004.0</td>\n",
       "      <td>NaN</td>\n",
       "    </tr>\n",
       "    <tr>\n",
       "      <th>2</th>\n",
       "      <td>0</td>\n",
       "      <td>2</td>\n",
       "      <td>Education</td>\n",
       "      <td>5376</td>\n",
       "      <td>1991.0</td>\n",
       "      <td>NaN</td>\n",
       "    </tr>\n",
       "    <tr>\n",
       "      <th>3</th>\n",
       "      <td>0</td>\n",
       "      <td>3</td>\n",
       "      <td>Education</td>\n",
       "      <td>23685</td>\n",
       "      <td>2002.0</td>\n",
       "      <td>NaN</td>\n",
       "    </tr>\n",
       "    <tr>\n",
       "      <th>4</th>\n",
       "      <td>0</td>\n",
       "      <td>4</td>\n",
       "      <td>Education</td>\n",
       "      <td>116607</td>\n",
       "      <td>1975.0</td>\n",
       "      <td>NaN</td>\n",
       "    </tr>\n",
       "  </tbody>\n",
       "</table>\n",
       "</div>"
      ],
      "text/plain": [
       "   site_id  building_id primary_use  square_feet  year_built  floor_count\n",
       "0        0            0   Education         7432      2008.0          NaN\n",
       "1        0            1   Education         2720      2004.0          NaN\n",
       "2        0            2   Education         5376      1991.0          NaN\n",
       "3        0            3   Education        23685      2002.0          NaN\n",
       "4        0            4   Education       116607      1975.0          NaN"
      ]
     },
     "execution_count": 8,
     "metadata": {},
     "output_type": "execute_result"
    }
   ],
   "source": [
    "building_metadata.head()"
   ]
  },
  {
   "cell_type": "markdown",
   "metadata": {
    "papermill": {
     "duration": 0.039922,
     "end_time": "2021-02-24T17:08:49.518347",
     "exception": false,
     "start_time": "2021-02-24T17:08:49.478425",
     "status": "completed"
    },
    "tags": []
   },
   "source": [
    "Check missing data"
   ]
  },
  {
   "cell_type": "code",
   "execution_count": 9,
   "metadata": {
    "execution": {
     "iopub.execute_input": "2021-02-24T17:08:49.603355Z",
     "iopub.status.busy": "2021-02-24T17:08:49.602385Z",
     "iopub.status.idle": "2021-02-24T17:08:49.608547Z",
     "shell.execute_reply": "2021-02-24T17:08:49.609112Z"
    },
    "papermill": {
     "duration": 0.050001,
     "end_time": "2021-02-24T17:08:49.609303",
     "exception": false,
     "start_time": "2021-02-24T17:08:49.559302",
     "status": "completed"
    },
    "tags": []
   },
   "outputs": [],
   "source": [
    "def missing(data):\n",
    "    total = data.isnull().sum().sort_values(ascending = False)\n",
    "    percentage = (data.isnull().sum()/data.isnull().count()*100).sort_values(ascending = False)\n",
    "    missing_data  = pd.concat([total, percentage], axis=1, keys=['Total', 'Percentage'])\n",
    "    return missing_data.head(data.shape[1])"
   ]
  },
  {
   "cell_type": "code",
   "execution_count": 10,
   "metadata": {
    "execution": {
     "iopub.execute_input": "2021-02-24T17:08:49.696512Z",
     "iopub.status.busy": "2021-02-24T17:08:49.695554Z",
     "iopub.status.idle": "2021-02-24T17:08:49.754356Z",
     "shell.execute_reply": "2021-02-24T17:08:49.754903Z"
    },
    "papermill": {
     "duration": 0.102821,
     "end_time": "2021-02-24T17:08:49.755109",
     "exception": false,
     "start_time": "2021-02-24T17:08:49.652288",
     "status": "completed"
    },
    "tags": []
   },
   "outputs": [
    {
     "data": {
      "text/html": [
       "<div>\n",
       "<style scoped>\n",
       "    .dataframe tbody tr th:only-of-type {\n",
       "        vertical-align: middle;\n",
       "    }\n",
       "\n",
       "    .dataframe tbody tr th {\n",
       "        vertical-align: top;\n",
       "    }\n",
       "\n",
       "    .dataframe thead th {\n",
       "        text-align: right;\n",
       "    }\n",
       "</style>\n",
       "<table border=\"1\" class=\"dataframe\">\n",
       "  <thead>\n",
       "    <tr style=\"text-align: right;\">\n",
       "      <th></th>\n",
       "      <th>Total</th>\n",
       "      <th>Percentage</th>\n",
       "    </tr>\n",
       "  </thead>\n",
       "  <tbody>\n",
       "    <tr>\n",
       "      <th>cloud_coverage</th>\n",
       "      <td>69173</td>\n",
       "      <td>49.489529</td>\n",
       "    </tr>\n",
       "    <tr>\n",
       "      <th>precip_depth_1_hr</th>\n",
       "      <td>50289</td>\n",
       "      <td>35.979052</td>\n",
       "    </tr>\n",
       "    <tr>\n",
       "      <th>sea_level_pressure</th>\n",
       "      <td>10618</td>\n",
       "      <td>7.596603</td>\n",
       "    </tr>\n",
       "    <tr>\n",
       "      <th>wind_direction</th>\n",
       "      <td>6268</td>\n",
       "      <td>4.484414</td>\n",
       "    </tr>\n",
       "    <tr>\n",
       "      <th>wind_speed</th>\n",
       "      <td>304</td>\n",
       "      <td>0.217496</td>\n",
       "    </tr>\n",
       "    <tr>\n",
       "      <th>dew_temperature</th>\n",
       "      <td>113</td>\n",
       "      <td>0.080845</td>\n",
       "    </tr>\n",
       "    <tr>\n",
       "      <th>air_temperature</th>\n",
       "      <td>55</td>\n",
       "      <td>0.039350</td>\n",
       "    </tr>\n",
       "    <tr>\n",
       "      <th>site_id</th>\n",
       "      <td>0</td>\n",
       "      <td>0.000000</td>\n",
       "    </tr>\n",
       "    <tr>\n",
       "      <th>timestamp</th>\n",
       "      <td>0</td>\n",
       "      <td>0.000000</td>\n",
       "    </tr>\n",
       "  </tbody>\n",
       "</table>\n",
       "</div>"
      ],
      "text/plain": [
       "                    Total  Percentage\n",
       "cloud_coverage      69173   49.489529\n",
       "precip_depth_1_hr   50289   35.979052\n",
       "sea_level_pressure  10618    7.596603\n",
       "wind_direction       6268    4.484414\n",
       "wind_speed            304    0.217496\n",
       "dew_temperature       113    0.080845\n",
       "air_temperature        55    0.039350\n",
       "site_id                 0    0.000000\n",
       "timestamp               0    0.000000"
      ]
     },
     "execution_count": 10,
     "metadata": {},
     "output_type": "execute_result"
    }
   ],
   "source": [
    "missing(weather_train)"
   ]
  },
  {
   "cell_type": "code",
   "execution_count": 11,
   "metadata": {
    "execution": {
     "iopub.execute_input": "2021-02-24T17:08:49.841823Z",
     "iopub.status.busy": "2021-02-24T17:08:49.840848Z",
     "iopub.status.idle": "2021-02-24T17:08:49.890341Z",
     "shell.execute_reply": "2021-02-24T17:08:49.889720Z"
    },
    "papermill": {
     "duration": 0.093788,
     "end_time": "2021-02-24T17:08:49.890514",
     "exception": false,
     "start_time": "2021-02-24T17:08:49.796726",
     "status": "completed"
    },
    "tags": []
   },
   "outputs": [
    {
     "data": {
      "text/html": [
       "<div>\n",
       "<style scoped>\n",
       "    .dataframe tbody tr th:only-of-type {\n",
       "        vertical-align: middle;\n",
       "    }\n",
       "\n",
       "    .dataframe tbody tr th {\n",
       "        vertical-align: top;\n",
       "    }\n",
       "\n",
       "    .dataframe thead th {\n",
       "        text-align: right;\n",
       "    }\n",
       "</style>\n",
       "<table border=\"1\" class=\"dataframe\">\n",
       "  <thead>\n",
       "    <tr style=\"text-align: right;\">\n",
       "      <th></th>\n",
       "      <th>Total</th>\n",
       "      <th>Percentage</th>\n",
       "    </tr>\n",
       "  </thead>\n",
       "  <tbody>\n",
       "    <tr>\n",
       "      <th>cloud_coverage</th>\n",
       "      <td>140448</td>\n",
       "      <td>50.658808</td>\n",
       "    </tr>\n",
       "    <tr>\n",
       "      <th>precip_depth_1_hr</th>\n",
       "      <td>95588</td>\n",
       "      <td>34.478057</td>\n",
       "    </tr>\n",
       "    <tr>\n",
       "      <th>sea_level_pressure</th>\n",
       "      <td>21265</td>\n",
       "      <td>7.670167</td>\n",
       "    </tr>\n",
       "    <tr>\n",
       "      <th>wind_direction</th>\n",
       "      <td>12370</td>\n",
       "      <td>4.461790</td>\n",
       "    </tr>\n",
       "    <tr>\n",
       "      <th>wind_speed</th>\n",
       "      <td>460</td>\n",
       "      <td>0.165919</td>\n",
       "    </tr>\n",
       "    <tr>\n",
       "      <th>dew_temperature</th>\n",
       "      <td>327</td>\n",
       "      <td>0.117947</td>\n",
       "    </tr>\n",
       "    <tr>\n",
       "      <th>air_temperature</th>\n",
       "      <td>104</td>\n",
       "      <td>0.037512</td>\n",
       "    </tr>\n",
       "    <tr>\n",
       "      <th>site_id</th>\n",
       "      <td>0</td>\n",
       "      <td>0.000000</td>\n",
       "    </tr>\n",
       "    <tr>\n",
       "      <th>timestamp</th>\n",
       "      <td>0</td>\n",
       "      <td>0.000000</td>\n",
       "    </tr>\n",
       "  </tbody>\n",
       "</table>\n",
       "</div>"
      ],
      "text/plain": [
       "                     Total  Percentage\n",
       "cloud_coverage      140448   50.658808\n",
       "precip_depth_1_hr    95588   34.478057\n",
       "sea_level_pressure   21265    7.670167\n",
       "wind_direction       12370    4.461790\n",
       "wind_speed             460    0.165919\n",
       "dew_temperature        327    0.117947\n",
       "air_temperature        104    0.037512\n",
       "site_id                  0    0.000000\n",
       "timestamp                0    0.000000"
      ]
     },
     "execution_count": 11,
     "metadata": {},
     "output_type": "execute_result"
    }
   ],
   "source": [
    "missing(weather_test)"
   ]
  },
  {
   "cell_type": "code",
   "execution_count": 12,
   "metadata": {
    "execution": {
     "iopub.execute_input": "2021-02-24T17:08:49.979814Z",
     "iopub.status.busy": "2021-02-24T17:08:49.978957Z",
     "iopub.status.idle": "2021-02-24T17:08:49.999217Z",
     "shell.execute_reply": "2021-02-24T17:08:49.998559Z"
    },
    "papermill": {
     "duration": 0.067163,
     "end_time": "2021-02-24T17:08:49.999365",
     "exception": false,
     "start_time": "2021-02-24T17:08:49.932202",
     "status": "completed"
    },
    "tags": []
   },
   "outputs": [
    {
     "data": {
      "text/html": [
       "<div>\n",
       "<style scoped>\n",
       "    .dataframe tbody tr th:only-of-type {\n",
       "        vertical-align: middle;\n",
       "    }\n",
       "\n",
       "    .dataframe tbody tr th {\n",
       "        vertical-align: top;\n",
       "    }\n",
       "\n",
       "    .dataframe thead th {\n",
       "        text-align: right;\n",
       "    }\n",
       "</style>\n",
       "<table border=\"1\" class=\"dataframe\">\n",
       "  <thead>\n",
       "    <tr style=\"text-align: right;\">\n",
       "      <th></th>\n",
       "      <th>Total</th>\n",
       "      <th>Percentage</th>\n",
       "    </tr>\n",
       "  </thead>\n",
       "  <tbody>\n",
       "    <tr>\n",
       "      <th>floor_count</th>\n",
       "      <td>1094</td>\n",
       "      <td>75.500345</td>\n",
       "    </tr>\n",
       "    <tr>\n",
       "      <th>year_built</th>\n",
       "      <td>774</td>\n",
       "      <td>53.416149</td>\n",
       "    </tr>\n",
       "    <tr>\n",
       "      <th>site_id</th>\n",
       "      <td>0</td>\n",
       "      <td>0.000000</td>\n",
       "    </tr>\n",
       "    <tr>\n",
       "      <th>building_id</th>\n",
       "      <td>0</td>\n",
       "      <td>0.000000</td>\n",
       "    </tr>\n",
       "    <tr>\n",
       "      <th>primary_use</th>\n",
       "      <td>0</td>\n",
       "      <td>0.000000</td>\n",
       "    </tr>\n",
       "    <tr>\n",
       "      <th>square_feet</th>\n",
       "      <td>0</td>\n",
       "      <td>0.000000</td>\n",
       "    </tr>\n",
       "  </tbody>\n",
       "</table>\n",
       "</div>"
      ],
      "text/plain": [
       "             Total  Percentage\n",
       "floor_count   1094   75.500345\n",
       "year_built     774   53.416149\n",
       "site_id          0    0.000000\n",
       "building_id      0    0.000000\n",
       "primary_use      0    0.000000\n",
       "square_feet      0    0.000000"
      ]
     },
     "execution_count": 12,
     "metadata": {},
     "output_type": "execute_result"
    }
   ],
   "source": [
    "missing(building_metadata)"
   ]
  },
  {
   "cell_type": "markdown",
   "metadata": {
    "papermill": {
     "duration": 0.041752,
     "end_time": "2021-02-24T17:08:50.083843",
     "exception": false,
     "start_time": "2021-02-24T17:08:50.042091",
     "status": "completed"
    },
    "tags": []
   },
   "source": [
    "# <a id='2'>2. Preprocessing</a>"
   ]
  },
  {
   "cell_type": "markdown",
   "metadata": {
    "papermill": {
     "duration": 0.04138,
     "end_time": "2021-02-24T17:08:50.167197",
     "exception": false,
     "start_time": "2021-02-24T17:08:50.125817",
     "status": "completed"
    },
    "tags": []
   },
   "source": [
    "## a. Missing data"
   ]
  },
  {
   "cell_type": "markdown",
   "metadata": {
    "papermill": {
     "duration": 0.041498,
     "end_time": "2021-02-24T17:08:50.250813",
     "exception": false,
     "start_time": "2021-02-24T17:08:50.209315",
     "status": "completed"
    },
    "tags": []
   },
   "source": [
    "### Air_temperature\n",
    "\n",
    "There are only 55 missing values in the weather_train data set.\n",
    "\n",
    "We fill the missing data with the value from the closest previous day without na, at the same time of the day, of the same site (there's no NA from the same hour in two consecutive days of the same site)"
   ]
  },
  {
   "cell_type": "code",
   "execution_count": 13,
   "metadata": {
    "execution": {
     "iopub.execute_input": "2021-02-24T17:08:50.343430Z",
     "iopub.status.busy": "2021-02-24T17:08:50.342427Z",
     "iopub.status.idle": "2021-02-24T17:08:50.344907Z",
     "shell.execute_reply": "2021-02-24T17:08:50.345476Z"
    },
    "papermill": {
     "duration": 0.053211,
     "end_time": "2021-02-24T17:08:50.345648",
     "exception": false,
     "start_time": "2021-02-24T17:08:50.292437",
     "status": "completed"
    },
    "tags": []
   },
   "outputs": [],
   "source": [
    "import math\n",
    "def fill_air_temp(data):\n",
    "    \n",
    "    '''Function for filling Na data in air_temperature variable'''\n",
    "    \n",
    "    na_index = data[data['air_temperature'].isnull()].index\n",
    "    temp_key = ['site_id', 'timestamp', 'air_temperature']\n",
    "    \n",
    "    for i in na_index:\n",
    "        site_na = data.loc[i, 'site_id']   \n",
    "        for j in range(5):\n",
    "            time_na = data.loc[i,'timestamp'] - datetime.timedelta(days = j+1)  \n",
    "            ind = data[(data.site_id == site_na) & (data.timestamp == time_na)].index  \n",
    "            \n",
    "            if math.isnan(data.loc[ind, 'air_temperature']) == False :\n",
    "                data.loc[i, 'air_temperature'] = data.loc[ind, 'air_temperature'].values\n",
    "                break\n",
    "    \n",
    "    return data"
   ]
  },
  {
   "cell_type": "code",
   "execution_count": 14,
   "metadata": {
    "execution": {
     "iopub.execute_input": "2021-02-24T17:08:50.436039Z",
     "iopub.status.busy": "2021-02-24T17:08:50.435098Z",
     "iopub.status.idle": "2021-02-24T17:08:51.111336Z",
     "shell.execute_reply": "2021-02-24T17:08:51.112058Z"
    },
    "papermill": {
     "duration": 0.722837,
     "end_time": "2021-02-24T17:08:51.112319",
     "exception": false,
     "start_time": "2021-02-24T17:08:50.389482",
     "status": "completed"
    },
    "tags": []
   },
   "outputs": [],
   "source": [
    "weather_train = fill_air_temp(weather_train)\n",
    "weather_test = fill_air_temp(weather_test)"
   ]
  },
  {
   "cell_type": "markdown",
   "metadata": {
    "papermill": {
     "duration": 0.083812,
     "end_time": "2021-02-24T17:08:51.280216",
     "exception": false,
     "start_time": "2021-02-24T17:08:51.196404",
     "status": "completed"
    },
    "tags": []
   },
   "source": [
    "## b. Align the timestamp"
   ]
  },
  {
   "cell_type": "markdown",
   "metadata": {
    "papermill": {
     "duration": 0.044528,
     "end_time": "2021-02-24T17:08:51.375780",
     "exception": false,
     "start_time": "2021-02-24T17:08:51.331252",
     "status": "completed"
    },
    "tags": []
   },
   "source": [
    "The timestamps of the weather data and the train/test data are different: those in the weather data is not in the site's local time. So there's need an alignment before merging these dataset by timestamps."
   ]
  },
  {
   "cell_type": "markdown",
   "metadata": {
    "papermill": {
     "duration": 0.059948,
     "end_time": "2021-02-24T17:08:51.478674",
     "exception": false,
     "start_time": "2021-02-24T17:08:51.418726",
     "status": "completed"
    },
    "tags": []
   },
   "source": [
    "To see this problem, we plot the air temperature (from weather data) and energy consumption (from train data) by site and hour.\n",
    "We assume that highest air temperature should appear at around 14:00."
   ]
  },
  {
   "cell_type": "code",
   "execution_count": 15,
   "metadata": {
    "execution": {
     "iopub.execute_input": "2021-02-24T17:08:51.620102Z",
     "iopub.status.busy": "2021-02-24T17:08:51.619162Z",
     "iopub.status.idle": "2021-02-24T17:08:51.622709Z",
     "shell.execute_reply": "2021-02-24T17:08:51.624222Z"
    },
    "papermill": {
     "duration": 0.081099,
     "end_time": "2021-02-24T17:08:51.624447",
     "exception": false,
     "start_time": "2021-02-24T17:08:51.543348",
     "status": "completed"
    },
    "tags": []
   },
   "outputs": [],
   "source": [
    "def plot_by_site_by_hour(data, column) :\n",
    "    '''Plot a variable by site and hour'''\n",
    "    \n",
    "    plot_key = ['site_id', 'timestamp']\n",
    "    col_to_plot = data[plot_key + [column]].copy()\n",
    "    col_to_plot['hour'] = col_to_plot['timestamp'].dt.hour\n",
    "    \n",
    "    c = 1\n",
    "    plt.figure(figsize=(25, 15))\n",
    "    for site_id, data_by_site in col_to_plot.groupby('site_id'):\n",
    "        by_site_by_hour = data_by_site.groupby('hour').mean()\n",
    "        ax = plt.subplot(4, 4, c)\n",
    "        plt.plot(by_site_by_hour.index,by_site_by_hour[column],'xb-')\n",
    "        ax.set_title('site: '+str(site_id))\n",
    "        c += 1\n",
    "    return plt.show()"
   ]
  },
  {
   "cell_type": "code",
   "execution_count": 16,
   "metadata": {
    "execution": {
     "iopub.execute_input": "2021-02-24T17:08:51.726177Z",
     "iopub.status.busy": "2021-02-24T17:08:51.724910Z",
     "iopub.status.idle": "2021-02-24T17:08:51.736059Z",
     "shell.execute_reply": "2021-02-24T17:08:51.735345Z"
    },
    "papermill": {
     "duration": 0.06171,
     "end_time": "2021-02-24T17:08:51.736214",
     "exception": false,
     "start_time": "2021-02-24T17:08:51.674504",
     "status": "completed"
    },
    "tags": []
   },
   "outputs": [],
   "source": [
    "weather = pd.concat([weather_train,weather_test],ignore_index=True)"
   ]
  },
  {
   "cell_type": "code",
   "execution_count": 17,
   "metadata": {
    "execution": {
     "iopub.execute_input": "2021-02-24T17:08:51.826050Z",
     "iopub.status.busy": "2021-02-24T17:08:51.825115Z",
     "iopub.status.idle": "2021-02-24T17:08:54.203584Z",
     "shell.execute_reply": "2021-02-24T17:08:54.203005Z"
    },
    "papermill": {
     "duration": 2.424393,
     "end_time": "2021-02-24T17:08:54.203724",
     "exception": false,
     "start_time": "2021-02-24T17:08:51.779331",
     "status": "completed"
    },
    "tags": []
   },
   "outputs": [
    {
     "data": {
      "image/png": "[encoded data removed]",
      "text/plain": [
       "<Figure size 1800x1080 with 16 Axes>"
      ]
     },
     "metadata": {
      "needs_background": "light"
     },
     "output_type": "display_data"
    }
   ],
   "source": [
    "plot_by_site_by_hour(weather,'air_temperature')"
   ]
  },
  {
   "cell_type": "markdown",
   "metadata": {
    "papermill": {
     "duration": 0.046505,
     "end_time": "2021-02-24T17:08:54.297580",
     "exception": false,
     "start_time": "2021-02-24T17:08:54.251075",
     "status": "completed"
    },
    "tags": []
   },
   "source": [
    "We see that the peak temperature for most of these site are not around 14:00, some even at night, which doesn't make sense."
   ]
  },
  {
   "cell_type": "code",
   "execution_count": 18,
   "metadata": {
    "execution": {
     "iopub.execute_input": "2021-02-24T17:08:54.485475Z",
     "iopub.status.busy": "2021-02-24T17:08:54.484482Z",
     "iopub.status.idle": "2021-02-24T17:08:56.004945Z",
     "shell.execute_reply": "2021-02-24T17:08:56.005692Z"
    },
    "papermill": {
     "duration": 1.662241,
     "end_time": "2021-02-24T17:08:56.005961",
     "exception": false,
     "start_time": "2021-02-24T17:08:54.343720",
     "status": "completed"
    },
    "tags": []
   },
   "outputs": [],
   "source": [
    "#Create dataframe having site_id and meter from train and metadata datasets\n",
    "building_site_dict = dict(zip(building_metadata['building_id'], building_metadata['site_id']))\n",
    "site_meter = train[['building_id', 'meter', 'timestamp', 'meter_reading']].copy()\n",
    "site_meter['site_id'] = site_meter.building_id.map(building_site_dict)\n",
    "del site_meter['building_id']\n",
    "\n",
    "#Dataframe with site_id and electrical consumption\n",
    "site_elec = site_meter[site_meter.meter == 0]"
   ]
  },
  {
   "cell_type": "code",
   "execution_count": 19,
   "metadata": {
    "execution": {
     "iopub.execute_input": "2021-02-24T17:08:56.351984Z",
     "iopub.status.busy": "2021-02-24T17:08:56.349998Z",
     "iopub.status.idle": "2021-02-24T17:09:09.601575Z",
     "shell.execute_reply": "2021-02-24T17:09:09.602141Z"
    },
    "papermill": {
     "duration": 13.542303,
     "end_time": "2021-02-24T17:09:09.602561",
     "exception": false,
     "start_time": "2021-02-24T17:08:56.060258",
     "status": "completed"
    },
    "tags": []
   },
   "outputs": [
    {
     "data": {
      "image/png": "[encoded data removed]",
      "text/plain": [
       "<Figure size 1800x1080 with 16 Axes>"
      ]
     },
     "metadata": {
      "needs_background": "light"
     },
     "output_type": "display_data"
    }
   ],
   "source": [
    "plot_by_site_by_hour(site_elec, 'meter_reading')\n",
    "del building_site_dict, site_meter, site_elec"
   ]
  },
  {
   "cell_type": "markdown",
   "metadata": {
    "papermill": {
     "duration": 0.049819,
     "end_time": "2021-02-24T17:09:09.704430",
     "exception": false,
     "start_time": "2021-02-24T17:09:09.654611",
     "status": "completed"
    },
    "tags": []
   },
   "source": [
    "The energy consumption of these sites make sense, which mean that the timestamps are more aligned."
   ]
  },
  {
   "cell_type": "code",
   "execution_count": 20,
   "metadata": {
    "execution": {
     "iopub.execute_input": "2021-02-24T17:09:09.809808Z",
     "iopub.status.busy": "2021-02-24T17:09:09.808823Z",
     "iopub.status.idle": "2021-02-24T17:09:10.542085Z",
     "shell.execute_reply": "2021-02-24T17:09:10.542595Z"
    },
    "papermill": {
     "duration": 0.788348,
     "end_time": "2021-02-24T17:09:10.542777",
     "exception": false,
     "start_time": "2021-02-24T17:09:09.754429",
     "status": "completed"
    },
    "tags": []
   },
   "outputs": [
    {
     "data": {
      "text/html": [
       "<div>\n",
       "<style scoped>\n",
       "    .dataframe tbody tr th:only-of-type {\n",
       "        vertical-align: middle;\n",
       "    }\n",
       "\n",
       "    .dataframe tbody tr th {\n",
       "        vertical-align: top;\n",
       "    }\n",
       "\n",
       "    .dataframe thead th {\n",
       "        text-align: right;\n",
       "    }\n",
       "</style>\n",
       "<table border=\"1\" class=\"dataframe\">\n",
       "  <thead>\n",
       "    <tr style=\"text-align: right;\">\n",
       "      <th></th>\n",
       "      <th>site_id</th>\n",
       "      <th>timestamp</th>\n",
       "      <th>air_temperature</th>\n",
       "      <th>temp_rank</th>\n",
       "    </tr>\n",
       "  </thead>\n",
       "  <tbody>\n",
       "    <tr>\n",
       "      <th>0</th>\n",
       "      <td>0</td>\n",
       "      <td>2016-01-01 00:00:00</td>\n",
       "      <td>25.000000</td>\n",
       "      <td>16.0</td>\n",
       "    </tr>\n",
       "    <tr>\n",
       "      <th>1</th>\n",
       "      <td>0</td>\n",
       "      <td>2016-01-01 01:00:00</td>\n",
       "      <td>24.406250</td>\n",
       "      <td>15.0</td>\n",
       "    </tr>\n",
       "    <tr>\n",
       "      <th>2</th>\n",
       "      <td>0</td>\n",
       "      <td>2016-01-01 02:00:00</td>\n",
       "      <td>22.796875</td>\n",
       "      <td>13.0</td>\n",
       "    </tr>\n",
       "    <tr>\n",
       "      <th>3</th>\n",
       "      <td>0</td>\n",
       "      <td>2016-01-01 03:00:00</td>\n",
       "      <td>21.093750</td>\n",
       "      <td>9.0</td>\n",
       "    </tr>\n",
       "    <tr>\n",
       "      <th>4</th>\n",
       "      <td>0</td>\n",
       "      <td>2016-01-01 04:00:00</td>\n",
       "      <td>20.000000</td>\n",
       "      <td>3.5</td>\n",
       "    </tr>\n",
       "    <tr>\n",
       "      <th>...</th>\n",
       "      <td>...</td>\n",
       "      <td>...</td>\n",
       "      <td>...</td>\n",
       "      <td>...</td>\n",
       "    </tr>\n",
       "    <tr>\n",
       "      <th>417011</th>\n",
       "      <td>15</td>\n",
       "      <td>2018-12-31 19:00:00</td>\n",
       "      <td>3.300781</td>\n",
       "      <td>23.5</td>\n",
       "    </tr>\n",
       "    <tr>\n",
       "      <th>417012</th>\n",
       "      <td>15</td>\n",
       "      <td>2018-12-31 20:00:00</td>\n",
       "      <td>2.800781</td>\n",
       "      <td>20.5</td>\n",
       "    </tr>\n",
       "    <tr>\n",
       "      <th>417013</th>\n",
       "      <td>15</td>\n",
       "      <td>2018-12-31 21:00:00</td>\n",
       "      <td>2.800781</td>\n",
       "      <td>20.5</td>\n",
       "    </tr>\n",
       "    <tr>\n",
       "      <th>417014</th>\n",
       "      <td>15</td>\n",
       "      <td>2018-12-31 22:00:00</td>\n",
       "      <td>2.800781</td>\n",
       "      <td>20.5</td>\n",
       "    </tr>\n",
       "    <tr>\n",
       "      <th>417015</th>\n",
       "      <td>15</td>\n",
       "      <td>2018-12-31 23:00:00</td>\n",
       "      <td>3.300781</td>\n",
       "      <td>23.5</td>\n",
       "    </tr>\n",
       "  </tbody>\n",
       "</table>\n",
       "<p>417016 rows × 4 columns</p>\n",
       "</div>"
      ],
      "text/plain": [
       "        site_id           timestamp  air_temperature  temp_rank\n",
       "0             0 2016-01-01 00:00:00        25.000000       16.0\n",
       "1             0 2016-01-01 01:00:00        24.406250       15.0\n",
       "2             0 2016-01-01 02:00:00        22.796875       13.0\n",
       "3             0 2016-01-01 03:00:00        21.093750        9.0\n",
       "4             0 2016-01-01 04:00:00        20.000000        3.5\n",
       "...         ...                 ...              ...        ...\n",
       "417011       15 2018-12-31 19:00:00         3.300781       23.5\n",
       "417012       15 2018-12-31 20:00:00         2.800781       20.5\n",
       "417013       15 2018-12-31 21:00:00         2.800781       20.5\n",
       "417014       15 2018-12-31 22:00:00         2.800781       20.5\n",
       "417015       15 2018-12-31 23:00:00         3.300781       23.5\n",
       "\n",
       "[417016 rows x 4 columns]"
      ]
     },
     "execution_count": 20,
     "metadata": {},
     "output_type": "execute_result"
    }
   ],
   "source": [
    "# calculate ranks of hourly temperatures within date and site_id\n",
    "key = ['site_id', 'timestamp', 'air_temperature']\n",
    "temp = weather.loc[:,key]\n",
    "temp['temp_rank'] = temp.groupby(['site_id', temp.timestamp.dt.date])['air_temperature'].rank('average')\n",
    "temp\n",
    "\n",
    "# site_id x mean hour rank of temperature within day\n",
    "mean_rank = temp.groupby(['site_id', temp.timestamp.dt.hour])['temp_rank'].mean().unstack(level=1)\n",
    "temp"
   ]
  },
  {
   "cell_type": "code",
   "execution_count": 21,
   "metadata": {
    "execution": {
     "iopub.execute_input": "2021-02-24T17:09:10.654637Z",
     "iopub.status.busy": "2021-02-24T17:09:10.653928Z",
     "iopub.status.idle": "2021-02-24T17:09:10.656852Z",
     "shell.execute_reply": "2021-02-24T17:09:10.656354Z"
    },
    "papermill": {
     "duration": 0.061508,
     "end_time": "2021-02-24T17:09:10.657012",
     "exception": false,
     "start_time": "2021-02-24T17:09:10.595504",
     "status": "completed"
    },
    "tags": []
   },
   "outputs": [],
   "source": [
    "#the timestamp alignment gap for each site\n",
    "gap = pd.Series(mean_rank.values.argmax(axis=1) - 14)\n",
    "gap.index.name = 'site_id'\n",
    "\n",
    "def timestamp_align(data):\n",
    "    '''Function to align the timestamp'''\n",
    "    data['offset'] = data.site_id.map(gap)\n",
    "    data['timestamp_aligned'] = (data.timestamp - pd.to_timedelta(data.offset, unit='H'))\n",
    "    data['timestamp'] = data['timestamp_aligned']\n",
    "    del data['timestamp_aligned']\n",
    "    return data"
   ]
  },
  {
   "cell_type": "code",
   "execution_count": 22,
   "metadata": {
    "execution": {
     "iopub.execute_input": "2021-02-24T17:09:10.764856Z",
     "iopub.status.busy": "2021-02-24T17:09:10.763817Z",
     "iopub.status.idle": "2021-02-24T17:09:10.769796Z",
     "shell.execute_reply": "2021-02-24T17:09:10.770308Z"
    },
    "papermill": {
     "duration": 0.061864,
     "end_time": "2021-02-24T17:09:10.770488",
     "exception": false,
     "start_time": "2021-02-24T17:09:10.708624",
     "status": "completed"
    },
    "tags": []
   },
   "outputs": [
    {
     "data": {
      "text/plain": [
       "site_id\n",
       "0     5\n",
       "1     0\n",
       "2     9\n",
       "3     6\n",
       "4     8\n",
       "5     0\n",
       "6     6\n",
       "7     6\n",
       "8     5\n",
       "9     7\n",
       "10    8\n",
       "11    6\n",
       "12    0\n",
       "13    7\n",
       "14    6\n",
       "15    6\n",
       "dtype: int64"
      ]
     },
     "execution_count": 22,
     "metadata": {},
     "output_type": "execute_result"
    }
   ],
   "source": [
    "gap"
   ]
  },
  {
   "cell_type": "code",
   "execution_count": 23,
   "metadata": {
    "execution": {
     "iopub.execute_input": "2021-02-24T17:09:10.879308Z",
     "iopub.status.busy": "2021-02-24T17:09:10.878338Z",
     "iopub.status.idle": "2021-02-24T17:09:10.904946Z",
     "shell.execute_reply": "2021-02-24T17:09:10.905450Z"
    },
    "papermill": {
     "duration": 0.082485,
     "end_time": "2021-02-24T17:09:10.905669",
     "exception": false,
     "start_time": "2021-02-24T17:09:10.823184",
     "status": "completed"
    },
    "tags": []
   },
   "outputs": [],
   "source": [
    "weather_train = timestamp_align(weather_train)\n",
    "weather_test = timestamp_align(weather_test)"
   ]
  },
  {
   "cell_type": "code",
   "execution_count": 24,
   "metadata": {
    "execution": {
     "iopub.execute_input": "2021-02-24T17:09:11.015484Z",
     "iopub.status.busy": "2021-02-24T17:09:11.014455Z",
     "iopub.status.idle": "2021-02-24T17:09:11.098690Z",
     "shell.execute_reply": "2021-02-24T17:09:11.099215Z"
    },
    "papermill": {
     "duration": 0.14098,
     "end_time": "2021-02-24T17:09:11.099387",
     "exception": false,
     "start_time": "2021-02-24T17:09:10.958407",
     "status": "completed"
    },
    "tags": []
   },
   "outputs": [
    {
     "data": {
      "text/plain": [
       "80"
      ]
     },
     "execution_count": 24,
     "metadata": {},
     "output_type": "execute_result"
    }
   ],
   "source": [
    "import gc\n",
    "gc.collect()"
   ]
  },
  {
   "cell_type": "markdown",
   "metadata": {
    "papermill": {
     "duration": 0.052204,
     "end_time": "2021-02-24T17:09:11.204071",
     "exception": false,
     "start_time": "2021-02-24T17:09:11.151867",
     "status": "completed"
    },
    "tags": []
   },
   "source": [
    "## c. Merge data"
   ]
  },
  {
   "cell_type": "code",
   "execution_count": 25,
   "metadata": {
    "execution": {
     "iopub.execute_input": "2021-02-24T17:09:11.313302Z",
     "iopub.status.busy": "2021-02-24T17:09:11.312332Z",
     "iopub.status.idle": "2021-02-24T17:09:36.600552Z",
     "shell.execute_reply": "2021-02-24T17:09:36.601043Z"
    },
    "papermill": {
     "duration": 25.34444,
     "end_time": "2021-02-24T17:09:36.601231",
     "exception": false,
     "start_time": "2021-02-24T17:09:11.256791",
     "status": "completed"
    },
    "tags": []
   },
   "outputs": [],
   "source": [
    "train_merge = train.merge(building_metadata, on='building_id', how='left')\n",
    "test_merge = test.merge(building_metadata, on='building_id', how='left')\n",
    "\n",
    "train_merge = train_merge.merge(weather_train, on=['site_id', 'timestamp'], how='left')\n",
    "test_merge = test_merge.merge(weather_test, on=['site_id', 'timestamp'], how='left')"
   ]
  },
  {
   "cell_type": "code",
   "execution_count": 26,
   "metadata": {
    "execution": {
     "iopub.execute_input": "2021-02-24T17:09:36.710557Z",
     "iopub.status.busy": "2021-02-24T17:09:36.709576Z",
     "iopub.status.idle": "2021-02-24T17:09:36.797826Z",
     "shell.execute_reply": "2021-02-24T17:09:36.797313Z"
    },
    "papermill": {
     "duration": 0.144287,
     "end_time": "2021-02-24T17:09:36.798045",
     "exception": false,
     "start_time": "2021-02-24T17:09:36.653758",
     "status": "completed"
    },
    "tags": []
   },
   "outputs": [
    {
     "data": {
      "text/plain": [
       "40"
      ]
     },
     "execution_count": 26,
     "metadata": {},
     "output_type": "execute_result"
    }
   ],
   "source": [
    "#del building_metadata, weather_train, weather_test, train, test\n",
    "gc.collect()"
   ]
  },
  {
   "cell_type": "markdown",
   "metadata": {
    "papermill": {
     "duration": 0.0529,
     "end_time": "2021-02-24T17:09:36.904302",
     "exception": false,
     "start_time": "2021-02-24T17:09:36.851402",
     "status": "completed"
    },
    "tags": []
   },
   "source": [
    "## d. Create new variables"
   ]
  },
  {
   "cell_type": "markdown",
   "metadata": {
    "papermill": {
     "duration": 0.053369,
     "end_time": "2021-02-24T17:09:37.010795",
     "exception": false,
     "start_time": "2021-02-24T17:09:36.957426",
     "status": "completed"
    },
    "tags": []
   },
   "source": [
    "With the problem of the form of time series, we can create some useful variables. For example: year, month, date, hour, lagged variables. We will start with the simple ones: year, month, date, hour."
   ]
  },
  {
   "cell_type": "code",
   "execution_count": 27,
   "metadata": {
    "execution": {
     "iopub.execute_input": "2021-02-24T17:09:37.125299Z",
     "iopub.status.busy": "2021-02-24T17:09:37.124514Z",
     "iopub.status.idle": "2021-02-24T17:10:02.406991Z",
     "shell.execute_reply": "2021-02-24T17:10:02.406377Z"
    },
    "papermill": {
     "duration": 25.34347,
     "end_time": "2021-02-24T17:10:02.407146",
     "exception": false,
     "start_time": "2021-02-24T17:09:37.063676",
     "status": "completed"
    },
    "tags": []
   },
   "outputs": [
    {
     "name": "stderr",
     "output_type": "stream",
     "text": [
      "/opt/conda/lib/python3.7/site-packages/ipykernel_launcher.py:4: FutureWarning: Series.dt.weekofyear and Series.dt.week have been deprecated.  Please use Series.dt.isocalendar().week instead.\n",
      "  after removing the cwd from sys.path.\n",
      "/opt/conda/lib/python3.7/site-packages/ipykernel_launcher.py:10: FutureWarning: Series.dt.weekofyear and Series.dt.week have been deprecated.  Please use Series.dt.isocalendar().week instead.\n",
      "  # Remove the CWD from sys.path while we load stuff.\n"
     ]
    }
   ],
   "source": [
    "train_merge['month'] = train_merge['timestamp'].dt.month.astype(np.int8)\n",
    "#train_merge['year'] = train_merge['timestamp'].dt.year.astype(np.int16)\n",
    "train_merge['day'] = train_merge['timestamp'].dt.dayofweek.astype(np.int8)\n",
    "train_merge['week'] = train_merge['timestamp'].dt.weekofyear.astype(np.int8)\n",
    "train_merge['hour'] = train_merge['timestamp'].dt.hour.astype(np.int8)\n",
    "\n",
    "test_merge['month'] = test_merge['timestamp'].dt.month.astype(np.int8)\n",
    "#test_merge['year'] = test_merge['timestamp'].dt.year.astype(np.int16)\n",
    "test_merge['day'] = test_merge['timestamp'].dt.dayofweek.astype(np.int8)\n",
    "test_merge['week'] = test_merge['timestamp'].dt.weekofyear.astype(np.int8)\n",
    "test_merge['hour'] = test_merge['timestamp'].dt.hour.astype(np.int8)"
   ]
  },
  {
   "cell_type": "code",
   "execution_count": 28,
   "metadata": {
    "execution": {
     "iopub.execute_input": "2021-02-24T17:10:02.600900Z",
     "iopub.status.busy": "2021-02-24T17:10:02.600193Z",
     "iopub.status.idle": "2021-02-24T17:10:02.605788Z",
     "shell.execute_reply": "2021-02-24T17:10:02.605250Z"
    },
    "papermill": {
     "duration": 0.144942,
     "end_time": "2021-02-24T17:10:02.605936",
     "exception": false,
     "start_time": "2021-02-24T17:10:02.460994",
     "status": "completed"
    },
    "tags": []
   },
   "outputs": [
    {
     "data": {
      "text/plain": [
       "20"
      ]
     },
     "execution_count": 28,
     "metadata": {},
     "output_type": "execute_result"
    }
   ],
   "source": [
    "gc.collect()"
   ]
  },
  {
   "cell_type": "markdown",
   "metadata": {
    "papermill": {
     "duration": 0.054073,
     "end_time": "2021-02-24T17:10:02.719783",
     "exception": false,
     "start_time": "2021-02-24T17:10:02.665710",
     "status": "completed"
    },
    "tags": []
   },
   "source": [
    "## e. Target variable and transformation"
   ]
  },
  {
   "cell_type": "markdown",
   "metadata": {
    "papermill": {
     "duration": 0.05503,
     "end_time": "2021-02-24T17:10:02.828953",
     "exception": false,
     "start_time": "2021-02-24T17:10:02.773923",
     "status": "completed"
    },
    "tags": []
   },
   "source": [
    " Our original target variable is meter_reading.\n",
    " - Type 0 (electricity) of meter are mesure in kBTU. We need to convert them to kWh, and convert the prediction of this type again to kBTU before submission.\n",
    " - Transform the original target variable to obtain a new target variable *log1p(meter_reading)*"
   ]
  },
  {
   "cell_type": "code",
   "execution_count": 29,
   "metadata": {
    "execution": {
     "iopub.execute_input": "2021-02-24T17:10:02.946062Z",
     "iopub.status.busy": "2021-02-24T17:10:02.944451Z",
     "iopub.status.idle": "2021-02-24T17:10:03.479512Z",
     "shell.execute_reply": "2021-02-24T17:10:03.478906Z"
    },
    "papermill": {
     "duration": 0.595944,
     "end_time": "2021-02-24T17:10:03.479653",
     "exception": false,
     "start_time": "2021-02-24T17:10:02.883709",
     "status": "completed"
    },
    "tags": []
   },
   "outputs": [],
   "source": [
    "train_merge.loc[train_merge.meter == 0 , 'meter_reading'] = train_merge.loc[train_merge.meter == 0 , 'meter_reading'] * 0.2931"
   ]
  },
  {
   "cell_type": "code",
   "execution_count": 30,
   "metadata": {
    "execution": {
     "iopub.execute_input": "2021-02-24T17:10:03.594269Z",
     "iopub.status.busy": "2021-02-24T17:10:03.592911Z",
     "iopub.status.idle": "2021-02-24T17:10:04.293335Z",
     "shell.execute_reply": "2021-02-24T17:10:04.292766Z"
    },
    "papermill": {
     "duration": 0.759174,
     "end_time": "2021-02-24T17:10:04.293493",
     "exception": false,
     "start_time": "2021-02-24T17:10:03.534319",
     "status": "completed"
    },
    "tags": []
   },
   "outputs": [
    {
     "data": {
      "text/plain": [
       "count    2.021610e+07\n",
       "mean     1.958269e+03\n",
       "std      1.532163e+05\n",
       "min      0.000000e+00\n",
       "25%      6.353177e+00\n",
       "50%      3.080891e+01\n",
       "75%      1.383432e+02\n",
       "max      2.190470e+07\n",
       "Name: meter_reading, dtype: float64"
      ]
     },
     "execution_count": 30,
     "metadata": {},
     "output_type": "execute_result"
    }
   ],
   "source": [
    "train_merge.meter_reading.describe()"
   ]
  },
  {
   "cell_type": "code",
   "execution_count": 31,
   "metadata": {
    "execution": {
     "iopub.execute_input": "2021-02-24T17:10:04.427937Z",
     "iopub.status.busy": "2021-02-24T17:10:04.425320Z",
     "iopub.status.idle": "2021-02-24T17:10:07.958892Z",
     "shell.execute_reply": "2021-02-24T17:10:07.959387Z"
    },
    "papermill": {
     "duration": 3.610846,
     "end_time": "2021-02-24T17:10:07.959584",
     "exception": false,
     "start_time": "2021-02-24T17:10:04.348738",
     "status": "completed"
    },
    "tags": []
   },
   "outputs": [
    {
     "data": {
      "image/png": "[encoded data removed]",
      "text/plain": [
       "<Figure size 432x288 with 1 Axes>"
      ]
     },
     "metadata": {
      "needs_background": "light"
     },
     "output_type": "display_data"
    }
   ],
   "source": [
    "plt.boxplot(train_merge.meter_reading)\n",
    "plt.show()"
   ]
  },
  {
   "cell_type": "code",
   "execution_count": 32,
   "metadata": {
    "execution": {
     "iopub.execute_input": "2021-02-24T17:10:08.094300Z",
     "iopub.status.busy": "2021-02-24T17:10:08.093603Z",
     "iopub.status.idle": "2021-02-24T17:10:08.657772Z",
     "shell.execute_reply": "2021-02-24T17:10:08.657235Z"
    },
    "papermill": {
     "duration": 0.642867,
     "end_time": "2021-02-24T17:10:08.657936",
     "exception": false,
     "start_time": "2021-02-24T17:10:08.015069",
     "status": "completed"
    },
    "tags": []
   },
   "outputs": [
    {
     "data": {
      "image/png": "[encoded data removed]",
      "text/plain": [
       "<Figure size 432x288 with 1 Axes>"
      ]
     },
     "metadata": {
      "needs_background": "light"
     },
     "output_type": "display_data"
    }
   ],
   "source": [
    "plt.hist(train_merge.meter_reading, bins = 100)\n",
    "plt.show()"
   ]
  },
  {
   "cell_type": "code",
   "execution_count": 33,
   "metadata": {
    "execution": {
     "iopub.execute_input": "2021-02-24T17:10:08.777011Z",
     "iopub.status.busy": "2021-02-24T17:10:08.776318Z",
     "iopub.status.idle": "2021-02-24T17:10:09.691546Z",
     "shell.execute_reply": "2021-02-24T17:10:09.690956Z"
    },
    "papermill": {
     "duration": 0.976618,
     "end_time": "2021-02-24T17:10:09.691689",
     "exception": false,
     "start_time": "2021-02-24T17:10:08.715071",
     "status": "completed"
    },
    "tags": []
   },
   "outputs": [
    {
     "data": {
      "image/png": "[encoded data removed]",
      "text/plain": [
       "<Figure size 432x288 with 1 Axes>"
      ]
     },
     "metadata": {
      "needs_background": "light"
     },
     "output_type": "display_data"
    }
   ],
   "source": [
    "plt.hist(np.log1p(train_merge.meter_reading), bins = 100)\n",
    "plt.show()"
   ]
  },
  {
   "cell_type": "markdown",
   "metadata": {
    "papermill": {
     "duration": 0.057451,
     "end_time": "2021-02-24T17:10:09.806869",
     "exception": false,
     "start_time": "2021-02-24T17:10:09.749418",
     "status": "completed"
    },
    "tags": []
   },
   "source": [
    "### Identify Outliers"
   ]
  },
  {
   "cell_type": "code",
   "execution_count": null,
   "metadata": {
    "papermill": {
     "duration": 0.056387,
     "end_time": "2021-02-24T17:10:09.921258",
     "exception": false,
     "start_time": "2021-02-24T17:10:09.864871",
     "status": "completed"
    },
    "tags": []
   },
   "outputs": [],
   "source": []
  },
  {
   "cell_type": "code",
   "execution_count": 34,
   "metadata": {
    "execution": {
     "iopub.execute_input": "2021-02-24T17:10:10.040222Z",
     "iopub.status.busy": "2021-02-24T17:10:10.039133Z",
     "iopub.status.idle": "2021-02-24T17:10:10.041493Z",
     "shell.execute_reply": "2021-02-24T17:10:10.042148Z"
    },
    "papermill": {
     "duration": 0.064024,
     "end_time": "2021-02-24T17:10:10.042327",
     "exception": false,
     "start_time": "2021-02-24T17:10:09.978303",
     "status": "completed"
    },
    "tags": []
   },
   "outputs": [],
   "source": [
    "#train_merge['m/s'] = train_merge['meter_reading']/train_merge['square_feet']"
   ]
  },
  {
   "cell_type": "code",
   "execution_count": 35,
   "metadata": {
    "execution": {
     "iopub.execute_input": "2021-02-24T17:10:10.160611Z",
     "iopub.status.busy": "2021-02-24T17:10:10.159889Z",
     "iopub.status.idle": "2021-02-24T17:10:10.164026Z",
     "shell.execute_reply": "2021-02-24T17:10:10.163430Z"
    },
    "papermill": {
     "duration": 0.064046,
     "end_time": "2021-02-24T17:10:10.164172",
     "exception": false,
     "start_time": "2021-02-24T17:10:10.100126",
     "status": "completed"
    },
    "tags": []
   },
   "outputs": [],
   "source": [
    "#elec_ms = train_merge[(train_merge.meter==0) & (train_merge.meter_reading > 0)].loc[:,'m/s']"
   ]
  },
  {
   "cell_type": "code",
   "execution_count": 36,
   "metadata": {
    "execution": {
     "iopub.execute_input": "2021-02-24T17:10:10.283368Z",
     "iopub.status.busy": "2021-02-24T17:10:10.282755Z",
     "iopub.status.idle": "2021-02-24T17:10:10.286159Z",
     "shell.execute_reply": "2021-02-24T17:10:10.286723Z"
    },
    "papermill": {
     "duration": 0.063884,
     "end_time": "2021-02-24T17:10:10.286902",
     "exception": false,
     "start_time": "2021-02-24T17:10:10.223018",
     "status": "completed"
    },
    "tags": []
   },
   "outputs": [],
   "source": [
    "#elec_ms.describe()"
   ]
  },
  {
   "cell_type": "markdown",
   "metadata": {
    "papermill": {
     "duration": 0.057765,
     "end_time": "2021-02-24T17:10:10.403188",
     "exception": false,
     "start_time": "2021-02-24T17:10:10.345423",
     "status": "completed"
    },
    "tags": []
   },
   "source": [
    "### Create new target variable"
   ]
  },
  {
   "cell_type": "code",
   "execution_count": 37,
   "metadata": {
    "execution": {
     "iopub.execute_input": "2021-02-24T17:10:10.521672Z",
     "iopub.status.busy": "2021-02-24T17:10:10.520946Z",
     "iopub.status.idle": "2021-02-24T17:10:10.914355Z",
     "shell.execute_reply": "2021-02-24T17:10:10.914897Z"
    },
    "papermill": {
     "duration": 0.454313,
     "end_time": "2021-02-24T17:10:10.915102",
     "exception": false,
     "start_time": "2021-02-24T17:10:10.460789",
     "status": "completed"
    },
    "tags": []
   },
   "outputs": [],
   "source": [
    "train_merge['target'] = np.log1p(train_merge['meter_reading'])"
   ]
  },
  {
   "cell_type": "code",
   "execution_count": 38,
   "metadata": {
    "execution": {
     "iopub.execute_input": "2021-02-24T17:10:11.040319Z",
     "iopub.status.busy": "2021-02-24T17:10:11.039341Z",
     "iopub.status.idle": "2021-02-24T17:10:15.599626Z",
     "shell.execute_reply": "2021-02-24T17:10:15.600189Z"
    },
    "papermill": {
     "duration": 4.626639,
     "end_time": "2021-02-24T17:10:15.600371",
     "exception": false,
     "start_time": "2021-02-24T17:10:10.973732",
     "status": "completed"
    },
    "tags": []
   },
   "outputs": [],
   "source": [
    "train_0 = train_merge[train_merge.target > 0]\n",
    "Q1 = train_0.target.quantile(0.25)\n",
    "Q3 = train_0.target.quantile(0.75)\n",
    "IQR = Q3 - Q1\n",
    "del train_0\n",
    "gc.collect()\n",
    "train_merge = train_merge[train_merge.target <= Q3 + 1.5 * IQR]"
   ]
  },
  {
   "cell_type": "code",
   "execution_count": 39,
   "metadata": {
    "execution": {
     "iopub.execute_input": "2021-02-24T17:10:15.719271Z",
     "iopub.status.busy": "2021-02-24T17:10:15.718599Z",
     "iopub.status.idle": "2021-02-24T17:10:15.723189Z",
     "shell.execute_reply": "2021-02-24T17:10:15.723709Z"
    },
    "papermill": {
     "duration": 0.065468,
     "end_time": "2021-02-24T17:10:15.723875",
     "exception": false,
     "start_time": "2021-02-24T17:10:15.658407",
     "status": "completed"
    },
    "tags": []
   },
   "outputs": [
    {
     "data": {
      "text/plain": [
       "(20106994, 22)"
      ]
     },
     "execution_count": 39,
     "metadata": {},
     "output_type": "execute_result"
    }
   ],
   "source": [
    "train_merge.shape"
   ]
  },
  {
   "cell_type": "markdown",
   "metadata": {
    "papermill": {
     "duration": 0.057785,
     "end_time": "2021-02-24T17:10:15.840183",
     "exception": false,
     "start_time": "2021-02-24T17:10:15.782398",
     "status": "completed"
    },
    "tags": []
   },
   "source": [
    "# <a id='3'>3. Feature Engineering</a>"
   ]
  },
  {
   "cell_type": "markdown",
   "metadata": {
    "papermill": {
     "duration": 0.058434,
     "end_time": "2021-02-24T17:10:15.956848",
     "exception": false,
     "start_time": "2021-02-24T17:10:15.898414",
     "status": "completed"
    },
    "tags": []
   },
   "source": [
    "Correlation between target variable and other variable"
   ]
  },
  {
   "cell_type": "code",
   "execution_count": 40,
   "metadata": {
    "execution": {
     "iopub.execute_input": "2021-02-24T17:10:16.076755Z",
     "iopub.status.busy": "2021-02-24T17:10:16.076071Z",
     "iopub.status.idle": "2021-02-24T17:10:16.079163Z",
     "shell.execute_reply": "2021-02-24T17:10:16.079677Z"
    },
    "papermill": {
     "duration": 0.064685,
     "end_time": "2021-02-24T17:10:16.079861",
     "exception": false,
     "start_time": "2021-02-24T17:10:16.015176",
     "status": "completed"
    },
    "tags": []
   },
   "outputs": [],
   "source": [
    "#corr = train_merge.corr()"
   ]
  },
  {
   "cell_type": "code",
   "execution_count": 41,
   "metadata": {
    "execution": {
     "iopub.execute_input": "2021-02-24T17:10:16.201317Z",
     "iopub.status.busy": "2021-02-24T17:10:16.200692Z",
     "iopub.status.idle": "2021-02-24T17:10:16.203660Z",
     "shell.execute_reply": "2021-02-24T17:10:16.204157Z"
    },
    "papermill": {
     "duration": 0.06489,
     "end_time": "2021-02-24T17:10:16.204319",
     "exception": false,
     "start_time": "2021-02-24T17:10:16.139429",
     "status": "completed"
    },
    "tags": []
   },
   "outputs": [],
   "source": [
    "#plt.subplots(figsize=(20, 20))\n",
    "#sns.heatmap(corr, annot = True, mask = np.triu(corr))"
   ]
  },
  {
   "cell_type": "markdown",
   "metadata": {
    "papermill": {
     "duration": 0.058339,
     "end_time": "2021-02-24T17:10:16.321371",
     "exception": false,
     "start_time": "2021-02-24T17:10:16.263032",
     "status": "completed"
    },
    "tags": []
   },
   "source": [
    "# <a id='4'>4. Simple model</a>"
   ]
  },
  {
   "cell_type": "code",
   "execution_count": 42,
   "metadata": {
    "execution": {
     "iopub.execute_input": "2021-02-24T17:10:16.442643Z",
     "iopub.status.busy": "2021-02-24T17:10:16.442036Z",
     "iopub.status.idle": "2021-02-24T17:10:43.697303Z",
     "shell.execute_reply": "2021-02-24T17:10:43.697902Z"
    },
    "papermill": {
     "duration": 27.318372,
     "end_time": "2021-02-24T17:10:43.698112",
     "exception": false,
     "start_time": "2021-02-24T17:10:16.379740",
     "status": "completed"
    },
    "tags": []
   },
   "outputs": [],
   "source": [
    "from sklearn.tree import DecisionTreeRegressor\n",
    "\n",
    "y_train = train_merge['target']\n",
    "x_train = train_merge.dropna(axis = 1)\n",
    "#del train_IQR, train_merge\n",
    "gc.collect()\n",
    "\n",
    "x = pd.get_dummies(x_train[['primary_use']],drop_first=True)\n",
    "x_train = pd.concat([x_train, x], axis = 1)\n",
    "x_train = x_train.drop(['primary_use','meter_reading','target', 'timestamp'], axis = 1)\n",
    "\n",
    "x = pd.get_dummies(test_merge[['primary_use']],drop_first=True)\n",
    "x_test = pd.concat([test_merge, x], axis = 1)\n",
    "x_test = x_test.drop(['primary_use', 'timestamp'], axis = 1)\n",
    "x_test = x_test.dropna(axis = 1)\n",
    "x_test = x_test.drop('row_id', axis = 1)"
   ]
  },
  {
   "cell_type": "code",
   "execution_count": 43,
   "metadata": {
    "execution": {
     "iopub.execute_input": "2021-02-24T17:10:43.818944Z",
     "iopub.status.busy": "2021-02-24T17:10:43.818282Z",
     "iopub.status.idle": "2021-02-24T17:13:32.429214Z",
     "shell.execute_reply": "2021-02-24T17:13:32.428364Z"
    },
    "papermill": {
     "duration": 168.672676,
     "end_time": "2021-02-24T17:13:32.429495",
     "exception": false,
     "start_time": "2021-02-24T17:10:43.756819",
     "status": "completed"
    },
    "tags": []
   },
   "outputs": [],
   "source": [
    "tree_model = DecisionTreeRegressor(min_samples_split = 200, min_samples_leaf = 100)\n",
    "tree_model = tree_model.fit(x_train, y_train)"
   ]
  },
  {
   "cell_type": "code",
   "execution_count": 44,
   "metadata": {
    "execution": {
     "iopub.execute_input": "2021-02-24T17:13:32.554125Z",
     "iopub.status.busy": "2021-02-24T17:13:32.553041Z",
     "iopub.status.idle": "2021-02-24T17:13:48.511268Z",
     "shell.execute_reply": "2021-02-24T17:13:48.511774Z"
    },
    "papermill": {
     "duration": 16.020785,
     "end_time": "2021-02-24T17:13:48.511977",
     "exception": false,
     "start_time": "2021-02-24T17:13:32.491192",
     "status": "completed"
    },
    "tags": []
   },
   "outputs": [],
   "source": [
    "y_pred = np.exp(tree_model.predict(x_test))-1\n",
    "y_pred[x_test.meter==0] = y_pred[x_test.meter==0] / 0.2931"
   ]
  },
  {
   "cell_type": "code",
   "execution_count": 45,
   "metadata": {
    "execution": {
     "iopub.execute_input": "2021-02-24T17:13:48.641196Z",
     "iopub.status.busy": "2021-02-24T17:13:48.639807Z",
     "iopub.status.idle": "2021-02-24T17:17:44.643208Z",
     "shell.execute_reply": "2021-02-24T17:17:44.642508Z"
    },
    "papermill": {
     "duration": 236.070261,
     "end_time": "2021-02-24T17:17:44.643378",
     "exception": false,
     "start_time": "2021-02-24T17:13:48.573117",
     "status": "completed"
    },
    "tags": []
   },
   "outputs": [],
   "source": [
    "my_submission = pd.DataFrame({'row_id': test_merge.row_id, 'meter_reading': y_pred})\n",
    "my_submission.to_csv('first_submission.csv', index=False, compression='gzip')"
   ]
  }
 ],
 "metadata": {
  "kernelspec": {
   "display_name": "Python 3",
   "language": "python",
   "name": "python3"
  },
  "language_info": {
   "codemirror_mode": {
    "name": "ipython",
    "version": 3
   },
   "file_extension": ".py",
   "mimetype": "text/x-python",
   "name": "python",
   "nbconvert_exporter": "python",
   "pygments_lexer": "ipython3",
   "version": "3.7.9"
  },
  "papermill": {
   "default_parameters": {},
   "duration": 611.159634,
   "end_time": "2021-02-24T17:17:46.572825",
   "environment_variables": {},
   "exception": null,
   "input_path": "__notebook__.ipynb",
   "output_path": "__notebook__.ipynb",
   "parameters": {},
   "start_time": "2021-02-24T17:07:35.413191",
   "version": "2.2.2"
  }
 },
 "nbformat": 4,
 "nbformat_minor": 4
}
