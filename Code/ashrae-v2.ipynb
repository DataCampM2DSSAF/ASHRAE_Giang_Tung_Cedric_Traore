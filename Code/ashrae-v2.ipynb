{
 "cells": [
  {
   "cell_type": "markdown",
   "metadata": {
    "papermill": {
     "duration": 0.043086,
     "end_time": "2021-02-24T21:45:28.268465",
     "exception": false,
     "start_time": "2021-02-24T21:45:28.225379",
     "status": "completed"
    },
    "tags": []
   },
   "source": [
    "Improvement from the first submission:\n",
    "- Preprocessing:\n",
    "    - Missing data\n",
    "        Air_temperature: fill with values from previous days\n",
    "    - Timestamps alignment\n",
    "    - Target variable : \n",
    "        - Remove outliers\n",
    "        - Log1p transformation\n",
    "- Feature engineering:\n",
    "    - Study the correlation between variables"
   ]
  },
  {
   "cell_type": "markdown",
   "metadata": {
    "papermill": {
     "duration": 0.039994,
     "end_time": "2021-02-24T21:45:28.348695",
     "exception": false,
     "start_time": "2021-02-24T21:45:28.308701",
     "status": "completed"
    },
    "tags": []
   },
   "source": [
    "<a href='#1'>1. Data's Overview</a>\n",
    "\n",
    "<a href='#2'>2. Preprocessing</a>\n",
    "\n",
    "<a href='#3'>3. Feature engineering</a>\n",
    "\n",
    "<a href='#4'>4. Simple model</a>"
   ]
  },
  {
   "cell_type": "code",
   "execution_count": 1,
   "metadata": {
    "_cell_guid": "b1076dfc-b9ad-4769-8c92-a6c4dae69d19",
    "_uuid": "8f2839f25d086af736a60e9eeb907d3b93b6e0e5",
    "execution": {
     "iopub.execute_input": "2021-02-24T21:45:28.435038Z",
     "iopub.status.busy": "2021-02-24T21:45:28.434227Z",
     "iopub.status.idle": "2021-02-24T21:45:29.336067Z",
     "shell.execute_reply": "2021-02-24T21:45:29.334990Z"
    },
    "papermill": {
     "duration": 0.947623,
     "end_time": "2021-02-24T21:45:29.336390",
     "exception": false,
     "start_time": "2021-02-24T21:45:28.388767",
     "status": "completed"
    },
    "tags": []
   },
   "outputs": [
    {
     "name": "stdout",
     "output_type": "stream",
     "text": [
      "/kaggle/input/ashrae-energy-prediction/sample_submission.csv\n",
      "/kaggle/input/ashrae-energy-prediction/building_metadata.csv\n",
      "/kaggle/input/ashrae-energy-prediction/weather_train.csv\n",
      "/kaggle/input/ashrae-energy-prediction/weather_test.csv\n",
      "/kaggle/input/ashrae-energy-prediction/train.csv\n",
      "/kaggle/input/ashrae-energy-prediction/test.csv\n"
     ]
    }
   ],
   "source": [
    "import numpy as np # linear algebra\n",
    "import pandas as pd # data processing, CSV file I/O (e.g. pd.read_csv)\n",
    "import matplotlib.pyplot as plt # basic plotting\n",
    "import seaborn as sns # for prettier plots\n",
    "import datetime # manipulating date formats\n",
    "import gc\n",
    "\n",
    "import os\n",
    "for dirname, _, filenames in os.walk('/kaggle/input'):\n",
    "    for filename in filenames:\n",
    "        print(os.path.join(dirname, filename))\n",
    "        \n"
   ]
  },
  {
   "cell_type": "markdown",
   "metadata": {
    "papermill": {
     "duration": 0.041309,
     "end_time": "2021-02-24T21:45:29.419592",
     "exception": false,
     "start_time": "2021-02-24T21:45:29.378283",
     "status": "completed"
    },
    "tags": []
   },
   "source": [
    "# <a id='1'>1. Data's Overview</a>"
   ]
  },
  {
   "cell_type": "markdown",
   "metadata": {
    "papermill": {
     "duration": 0.040068,
     "end_time": "2021-02-24T21:45:29.500249",
     "exception": false,
     "start_time": "2021-02-24T21:45:29.460181",
     "status": "completed"
    },
    "tags": []
   },
   "source": [
    "## Loading data"
   ]
  },
  {
   "cell_type": "code",
   "execution_count": 2,
   "metadata": {
    "execution": {
     "iopub.execute_input": "2021-02-24T21:45:29.588164Z",
     "iopub.status.busy": "2021-02-24T21:45:29.587434Z",
     "iopub.status.idle": "2021-02-24T21:46:37.144330Z",
     "shell.execute_reply": "2021-02-24T21:46:37.143283Z"
    },
    "papermill": {
     "duration": 67.603666,
     "end_time": "2021-02-24T21:46:37.144723",
     "exception": false,
     "start_time": "2021-02-24T21:45:29.541057",
     "status": "completed"
    },
    "tags": []
   },
   "outputs": [],
   "source": [
    "building_metadata = pd.read_csv('/kaggle/input/ashrae-energy-prediction/building_metadata.csv')\n",
    "train = pd.read_csv('/kaggle/input/ashrae-energy-prediction/train.csv', parse_dates=['timestamp'])\n",
    "test = pd.read_csv('/kaggle/input/ashrae-energy-prediction/test.csv', parse_dates=['timestamp'])\n",
    "weather_train = pd.read_csv('/kaggle/input/ashrae-energy-prediction/weather_train.csv', parse_dates=['timestamp'])\n",
    "weather_test = pd.read_csv('/kaggle/input/ashrae-energy-prediction/weather_test.csv', parse_dates=['timestamp'])"
   ]
  },
  {
   "cell_type": "code",
   "execution_count": 3,
   "metadata": {
    "execution": {
     "iopub.execute_input": "2021-02-24T21:46:37.246089Z",
     "iopub.status.busy": "2021-02-24T21:46:37.245416Z",
     "iopub.status.idle": "2021-02-24T21:46:37.247244Z",
     "shell.execute_reply": "2021-02-24T21:46:37.247846Z"
    },
    "papermill": {
     "duration": 0.058899,
     "end_time": "2021-02-24T21:46:37.248007",
     "exception": false,
     "start_time": "2021-02-24T21:46:37.189108",
     "status": "completed"
    },
    "tags": []
   },
   "outputs": [],
   "source": [
    "#Function to reduction memory usage (Source code from Kaggle)\n",
    "def reduce_mem_usage(df, verbose=True):\n",
    "    numerics = ['int16', 'int32', 'int64', 'float16', 'float32', 'float64']\n",
    "    start_mem = df.memory_usage().sum() / 1024**2\n",
    "    for col in df.columns:\n",
    "        col_type = df[col].dtypes\n",
    "        if col_type in numerics:\n",
    "            c_min = df[col].min()\n",
    "            c_max = df[col].max()\n",
    "            if str(col_type)[:3] == 'int':\n",
    "                if c_min > np.iinfo(np.int8).min and c_max < np.iinfo(np.int8).max:\n",
    "                    df[col] = df[col].astype(np.int8)\n",
    "                elif c_min > np.iinfo(np.int16).min and c_max < np.iinfo(np.int16).max:\n",
    "                    df[col] = df[col].astype(np.int16)\n",
    "                elif c_min > np.iinfo(np.int32).min and c_max < np.iinfo(np.int32).max:\n",
    "                    df[col] = df[col].astype(np.int32)\n",
    "                elif c_min > np.iinfo(np.int64).min and c_max < np.iinfo(np.int64).max:\n",
    "                    df[col] = df[col].astype(np.int64)\n",
    "            else:\n",
    "                if c_min > np.finfo(np.float16).min and c_max < np.finfo(np.float16).max:\n",
    "                    df[col] = df[col].astype(np.float16)\n",
    "                elif c_min > np.finfo(np.float32).min and c_max < np.finfo(np.float32).max:\n",
    "                    df[col] = df[col].astype(np.float32)\n",
    "                else:\n",
    "                    df[col] = df[col].astype(np.float64)\n",
    "\n",
    "    end_mem = df.memory_usage().sum() / 1024**2\n",
    "    print('Memory usage after optimization is: {:.2f} MB'.format(end_mem))\n",
    "    print('Decreased by {:.1f}%'.format(100 * (start_mem - end_mem) / start_mem))\n",
    "\n",
    "    return df"
   ]
  },
  {
   "cell_type": "markdown",
   "metadata": {
    "papermill": {
     "duration": 0.044681,
     "end_time": "2021-02-24T21:46:37.344507",
     "exception": false,
     "start_time": "2021-02-24T21:46:37.299826",
     "status": "completed"
    },
    "tags": []
   },
   "source": [
    "## Data's overview"
   ]
  },
  {
   "cell_type": "code",
   "execution_count": 4,
   "metadata": {
    "execution": {
     "iopub.execute_input": "2021-02-24T21:46:37.443245Z",
     "iopub.status.busy": "2021-02-24T21:46:37.442146Z",
     "iopub.status.idle": "2021-02-24T21:46:37.450955Z",
     "shell.execute_reply": "2021-02-24T21:46:37.450005Z"
    },
    "papermill": {
     "duration": 0.064756,
     "end_time": "2021-02-24T21:46:37.451144",
     "exception": false,
     "start_time": "2021-02-24T21:46:37.386388",
     "status": "completed"
    },
    "tags": []
   },
   "outputs": [
    {
     "name": "stdout",
     "output_type": "stream",
     "text": [
      "Size of train data (20216100, 4)\n",
      "Size of test data (41697600, 4)\n",
      "Size of weather_train data (139773, 9)\n",
      "Size of weather_test data (277243, 9)\n",
      "Size of building_metadata data (1449, 6)\n"
     ]
    }
   ],
   "source": [
    "print('Size of train data', train.shape)\n",
    "print('Size of test data', test.shape)\n",
    "print('Size of weather_train data', weather_train.shape)\n",
    "print('Size of weather_test data', weather_test.shape)\n",
    "print('Size of building_metadata data', building_metadata.shape)"
   ]
  },
  {
   "cell_type": "code",
   "execution_count": 5,
   "metadata": {
    "execution": {
     "iopub.execute_input": "2021-02-24T21:46:37.543010Z",
     "iopub.status.busy": "2021-02-24T21:46:37.542374Z",
     "iopub.status.idle": "2021-02-24T21:46:37.569352Z",
     "shell.execute_reply": "2021-02-24T21:46:37.569872Z"
    },
    "papermill": {
     "duration": 0.071623,
     "end_time": "2021-02-24T21:46:37.570047",
     "exception": false,
     "start_time": "2021-02-24T21:46:37.498424",
     "status": "completed"
    },
    "tags": []
   },
   "outputs": [
    {
     "data": {
      "text/html": [
       "<div>\n",
       "<style scoped>\n",
       "    .dataframe tbody tr th:only-of-type {\n",
       "        vertical-align: middle;\n",
       "    }\n",
       "\n",
       "    .dataframe tbody tr th {\n",
       "        vertical-align: top;\n",
       "    }\n",
       "\n",
       "    .dataframe thead th {\n",
       "        text-align: right;\n",
       "    }\n",
       "</style>\n",
       "<table border=\"1\" class=\"dataframe\">\n",
       "  <thead>\n",
       "    <tr style=\"text-align: right;\">\n",
       "      <th></th>\n",
       "      <th>building_id</th>\n",
       "      <th>meter</th>\n",
       "      <th>timestamp</th>\n",
       "      <th>meter_reading</th>\n",
       "    </tr>\n",
       "  </thead>\n",
       "  <tbody>\n",
       "    <tr>\n",
       "      <th>0</th>\n",
       "      <td>0</td>\n",
       "      <td>0</td>\n",
       "      <td>2016-01-01</td>\n",
       "      <td>0.0</td>\n",
       "    </tr>\n",
       "    <tr>\n",
       "      <th>1</th>\n",
       "      <td>1</td>\n",
       "      <td>0</td>\n",
       "      <td>2016-01-01</td>\n",
       "      <td>0.0</td>\n",
       "    </tr>\n",
       "    <tr>\n",
       "      <th>2</th>\n",
       "      <td>2</td>\n",
       "      <td>0</td>\n",
       "      <td>2016-01-01</td>\n",
       "      <td>0.0</td>\n",
       "    </tr>\n",
       "    <tr>\n",
       "      <th>3</th>\n",
       "      <td>3</td>\n",
       "      <td>0</td>\n",
       "      <td>2016-01-01</td>\n",
       "      <td>0.0</td>\n",
       "    </tr>\n",
       "    <tr>\n",
       "      <th>4</th>\n",
       "      <td>4</td>\n",
       "      <td>0</td>\n",
       "      <td>2016-01-01</td>\n",
       "      <td>0.0</td>\n",
       "    </tr>\n",
       "  </tbody>\n",
       "</table>\n",
       "</div>"
      ],
      "text/plain": [
       "   building_id  meter  timestamp  meter_reading\n",
       "0            0      0 2016-01-01            0.0\n",
       "1            1      0 2016-01-01            0.0\n",
       "2            2      0 2016-01-01            0.0\n",
       "3            3      0 2016-01-01            0.0\n",
       "4            4      0 2016-01-01            0.0"
      ]
     },
     "execution_count": 5,
     "metadata": {},
     "output_type": "execute_result"
    }
   ],
   "source": [
    "train.head()"
   ]
  },
  {
   "cell_type": "code",
   "execution_count": 6,
   "metadata": {
    "execution": {
     "iopub.execute_input": "2021-02-24T21:46:37.655999Z",
     "iopub.status.busy": "2021-02-24T21:46:37.655394Z",
     "iopub.status.idle": "2021-02-24T21:46:37.673242Z",
     "shell.execute_reply": "2021-02-24T21:46:37.672480Z"
    },
    "papermill": {
     "duration": 0.062199,
     "end_time": "2021-02-24T21:46:37.673425",
     "exception": false,
     "start_time": "2021-02-24T21:46:37.611226",
     "status": "completed"
    },
    "tags": []
   },
   "outputs": [
    {
     "data": {
      "text/html": [
       "<div>\n",
       "<style scoped>\n",
       "    .dataframe tbody tr th:only-of-type {\n",
       "        vertical-align: middle;\n",
       "    }\n",
       "\n",
       "    .dataframe tbody tr th {\n",
       "        vertical-align: top;\n",
       "    }\n",
       "\n",
       "    .dataframe thead th {\n",
       "        text-align: right;\n",
       "    }\n",
       "</style>\n",
       "<table border=\"1\" class=\"dataframe\">\n",
       "  <thead>\n",
       "    <tr style=\"text-align: right;\">\n",
       "      <th></th>\n",
       "      <th>site_id</th>\n",
       "      <th>timestamp</th>\n",
       "      <th>air_temperature</th>\n",
       "      <th>cloud_coverage</th>\n",
       "      <th>dew_temperature</th>\n",
       "      <th>precip_depth_1_hr</th>\n",
       "      <th>sea_level_pressure</th>\n",
       "      <th>wind_direction</th>\n",
       "      <th>wind_speed</th>\n",
       "    </tr>\n",
       "  </thead>\n",
       "  <tbody>\n",
       "    <tr>\n",
       "      <th>0</th>\n",
       "      <td>0</td>\n",
       "      <td>2016-01-01 00:00:00</td>\n",
       "      <td>25.0</td>\n",
       "      <td>6.0</td>\n",
       "      <td>20.0</td>\n",
       "      <td>NaN</td>\n",
       "      <td>1019.7</td>\n",
       "      <td>0.0</td>\n",
       "      <td>0.0</td>\n",
       "    </tr>\n",
       "    <tr>\n",
       "      <th>1</th>\n",
       "      <td>0</td>\n",
       "      <td>2016-01-01 01:00:00</td>\n",
       "      <td>24.4</td>\n",
       "      <td>NaN</td>\n",
       "      <td>21.1</td>\n",
       "      <td>-1.0</td>\n",
       "      <td>1020.2</td>\n",
       "      <td>70.0</td>\n",
       "      <td>1.5</td>\n",
       "    </tr>\n",
       "    <tr>\n",
       "      <th>2</th>\n",
       "      <td>0</td>\n",
       "      <td>2016-01-01 02:00:00</td>\n",
       "      <td>22.8</td>\n",
       "      <td>2.0</td>\n",
       "      <td>21.1</td>\n",
       "      <td>0.0</td>\n",
       "      <td>1020.2</td>\n",
       "      <td>0.0</td>\n",
       "      <td>0.0</td>\n",
       "    </tr>\n",
       "    <tr>\n",
       "      <th>3</th>\n",
       "      <td>0</td>\n",
       "      <td>2016-01-01 03:00:00</td>\n",
       "      <td>21.1</td>\n",
       "      <td>2.0</td>\n",
       "      <td>20.6</td>\n",
       "      <td>0.0</td>\n",
       "      <td>1020.1</td>\n",
       "      <td>0.0</td>\n",
       "      <td>0.0</td>\n",
       "    </tr>\n",
       "    <tr>\n",
       "      <th>4</th>\n",
       "      <td>0</td>\n",
       "      <td>2016-01-01 04:00:00</td>\n",
       "      <td>20.0</td>\n",
       "      <td>2.0</td>\n",
       "      <td>20.0</td>\n",
       "      <td>-1.0</td>\n",
       "      <td>1020.0</td>\n",
       "      <td>250.0</td>\n",
       "      <td>2.6</td>\n",
       "    </tr>\n",
       "  </tbody>\n",
       "</table>\n",
       "</div>"
      ],
      "text/plain": [
       "   site_id           timestamp  air_temperature  cloud_coverage  \\\n",
       "0        0 2016-01-01 00:00:00             25.0             6.0   \n",
       "1        0 2016-01-01 01:00:00             24.4             NaN   \n",
       "2        0 2016-01-01 02:00:00             22.8             2.0   \n",
       "3        0 2016-01-01 03:00:00             21.1             2.0   \n",
       "4        0 2016-01-01 04:00:00             20.0             2.0   \n",
       "\n",
       "   dew_temperature  precip_depth_1_hr  sea_level_pressure  wind_direction  \\\n",
       "0             20.0                NaN              1019.7             0.0   \n",
       "1             21.1               -1.0              1020.2            70.0   \n",
       "2             21.1                0.0              1020.2             0.0   \n",
       "3             20.6                0.0              1020.1             0.0   \n",
       "4             20.0               -1.0              1020.0           250.0   \n",
       "\n",
       "   wind_speed  \n",
       "0         0.0  \n",
       "1         1.5  \n",
       "2         0.0  \n",
       "3         0.0  \n",
       "4         2.6  "
      ]
     },
     "execution_count": 6,
     "metadata": {},
     "output_type": "execute_result"
    }
   ],
   "source": [
    "weather_train.head()"
   ]
  },
  {
   "cell_type": "code",
   "execution_count": 7,
   "metadata": {
    "execution": {
     "iopub.execute_input": "2021-02-24T21:46:37.770904Z",
     "iopub.status.busy": "2021-02-24T21:46:37.769977Z",
     "iopub.status.idle": "2021-02-24T21:46:37.774377Z",
     "shell.execute_reply": "2021-02-24T21:46:37.773758Z"
    },
    "papermill": {
     "duration": 0.058031,
     "end_time": "2021-02-24T21:46:37.774510",
     "exception": false,
     "start_time": "2021-02-24T21:46:37.716479",
     "status": "completed"
    },
    "tags": []
   },
   "outputs": [
    {
     "data": {
      "text/html": [
       "<div>\n",
       "<style scoped>\n",
       "    .dataframe tbody tr th:only-of-type {\n",
       "        vertical-align: middle;\n",
       "    }\n",
       "\n",
       "    .dataframe tbody tr th {\n",
       "        vertical-align: top;\n",
       "    }\n",
       "\n",
       "    .dataframe thead th {\n",
       "        text-align: right;\n",
       "    }\n",
       "</style>\n",
       "<table border=\"1\" class=\"dataframe\">\n",
       "  <thead>\n",
       "    <tr style=\"text-align: right;\">\n",
       "      <th></th>\n",
       "      <th>site_id</th>\n",
       "      <th>building_id</th>\n",
       "      <th>primary_use</th>\n",
       "      <th>square_feet</th>\n",
       "      <th>year_built</th>\n",
       "      <th>floor_count</th>\n",
       "    </tr>\n",
       "  </thead>\n",
       "  <tbody>\n",
       "    <tr>\n",
       "      <th>0</th>\n",
       "      <td>0</td>\n",
       "      <td>0</td>\n",
       "      <td>Education</td>\n",
       "      <td>7432</td>\n",
       "      <td>2008.0</td>\n",
       "      <td>NaN</td>\n",
       "    </tr>\n",
       "    <tr>\n",
       "      <th>1</th>\n",
       "      <td>0</td>\n",
       "      <td>1</td>\n",
       "      <td>Education</td>\n",
       "      <td>2720</td>\n",
       "      <td>2004.0</td>\n",
       "      <td>NaN</td>\n",
       "    </tr>\n",
       "    <tr>\n",
       "      <th>2</th>\n",
       "      <td>0</td>\n",
       "      <td>2</td>\n",
       "      <td>Education</td>\n",
       "      <td>5376</td>\n",
       "      <td>1991.0</td>\n",
       "      <td>NaN</td>\n",
       "    </tr>\n",
       "    <tr>\n",
       "      <th>3</th>\n",
       "      <td>0</td>\n",
       "      <td>3</td>\n",
       "      <td>Education</td>\n",
       "      <td>23685</td>\n",
       "      <td>2002.0</td>\n",
       "      <td>NaN</td>\n",
       "    </tr>\n",
       "    <tr>\n",
       "      <th>4</th>\n",
       "      <td>0</td>\n",
       "      <td>4</td>\n",
       "      <td>Education</td>\n",
       "      <td>116607</td>\n",
       "      <td>1975.0</td>\n",
       "      <td>NaN</td>\n",
       "    </tr>\n",
       "  </tbody>\n",
       "</table>\n",
       "</div>"
      ],
      "text/plain": [
       "   site_id  building_id primary_use  square_feet  year_built  floor_count\n",
       "0        0            0   Education         7432      2008.0          NaN\n",
       "1        0            1   Education         2720      2004.0          NaN\n",
       "2        0            2   Education         5376      1991.0          NaN\n",
       "3        0            3   Education        23685      2002.0          NaN\n",
       "4        0            4   Education       116607      1975.0          NaN"
      ]
     },
     "execution_count": 7,
     "metadata": {},
     "output_type": "execute_result"
    }
   ],
   "source": [
    "building_metadata.head()"
   ]
  },
  {
   "cell_type": "markdown",
   "metadata": {
    "papermill": {
     "duration": 0.042104,
     "end_time": "2021-02-24T21:46:37.859325",
     "exception": false,
     "start_time": "2021-02-24T21:46:37.817221",
     "status": "completed"
    },
    "tags": []
   },
   "source": [
    "Check missing data"
   ]
  },
  {
   "cell_type": "code",
   "execution_count": 8,
   "metadata": {
    "execution": {
     "iopub.execute_input": "2021-02-24T21:46:37.952482Z",
     "iopub.status.busy": "2021-02-24T21:46:37.951821Z",
     "iopub.status.idle": "2021-02-24T21:46:37.953927Z",
     "shell.execute_reply": "2021-02-24T21:46:37.954456Z"
    },
    "papermill": {
     "duration": 0.052269,
     "end_time": "2021-02-24T21:46:37.954637",
     "exception": false,
     "start_time": "2021-02-24T21:46:37.902368",
     "status": "completed"
    },
    "tags": []
   },
   "outputs": [],
   "source": [
    "def missing(data):\n",
    "    total = data.isnull().sum().sort_values(ascending = False)\n",
    "    percentage = (data.isnull().sum()/data.isnull().count()*100).sort_values(ascending = False)\n",
    "    missing_data  = pd.concat([total, percentage], axis=1, keys=['Total', 'Percentage'])\n",
    "    return missing_data.head(data.shape[1])"
   ]
  },
  {
   "cell_type": "code",
   "execution_count": 9,
   "metadata": {
    "execution": {
     "iopub.execute_input": "2021-02-24T21:46:38.044118Z",
     "iopub.status.busy": "2021-02-24T21:46:38.043447Z",
     "iopub.status.idle": "2021-02-24T21:46:38.089735Z",
     "shell.execute_reply": "2021-02-24T21:46:38.090290Z"
    },
    "papermill": {
     "duration": 0.093164,
     "end_time": "2021-02-24T21:46:38.090464",
     "exception": false,
     "start_time": "2021-02-24T21:46:37.997300",
     "status": "completed"
    },
    "tags": []
   },
   "outputs": [
    {
     "data": {
      "text/html": [
       "<div>\n",
       "<style scoped>\n",
       "    .dataframe tbody tr th:only-of-type {\n",
       "        vertical-align: middle;\n",
       "    }\n",
       "\n",
       "    .dataframe tbody tr th {\n",
       "        vertical-align: top;\n",
       "    }\n",
       "\n",
       "    .dataframe thead th {\n",
       "        text-align: right;\n",
       "    }\n",
       "</style>\n",
       "<table border=\"1\" class=\"dataframe\">\n",
       "  <thead>\n",
       "    <tr style=\"text-align: right;\">\n",
       "      <th></th>\n",
       "      <th>Total</th>\n",
       "      <th>Percentage</th>\n",
       "    </tr>\n",
       "  </thead>\n",
       "  <tbody>\n",
       "    <tr>\n",
       "      <th>cloud_coverage</th>\n",
       "      <td>69173</td>\n",
       "      <td>49.489529</td>\n",
       "    </tr>\n",
       "    <tr>\n",
       "      <th>precip_depth_1_hr</th>\n",
       "      <td>50289</td>\n",
       "      <td>35.979052</td>\n",
       "    </tr>\n",
       "    <tr>\n",
       "      <th>sea_level_pressure</th>\n",
       "      <td>10618</td>\n",
       "      <td>7.596603</td>\n",
       "    </tr>\n",
       "    <tr>\n",
       "      <th>wind_direction</th>\n",
       "      <td>6268</td>\n",
       "      <td>4.484414</td>\n",
       "    </tr>\n",
       "    <tr>\n",
       "      <th>wind_speed</th>\n",
       "      <td>304</td>\n",
       "      <td>0.217496</td>\n",
       "    </tr>\n",
       "    <tr>\n",
       "      <th>dew_temperature</th>\n",
       "      <td>113</td>\n",
       "      <td>0.080845</td>\n",
       "    </tr>\n",
       "    <tr>\n",
       "      <th>air_temperature</th>\n",
       "      <td>55</td>\n",
       "      <td>0.039350</td>\n",
       "    </tr>\n",
       "    <tr>\n",
       "      <th>site_id</th>\n",
       "      <td>0</td>\n",
       "      <td>0.000000</td>\n",
       "    </tr>\n",
       "    <tr>\n",
       "      <th>timestamp</th>\n",
       "      <td>0</td>\n",
       "      <td>0.000000</td>\n",
       "    </tr>\n",
       "  </tbody>\n",
       "</table>\n",
       "</div>"
      ],
      "text/plain": [
       "                    Total  Percentage\n",
       "cloud_coverage      69173   49.489529\n",
       "precip_depth_1_hr   50289   35.979052\n",
       "sea_level_pressure  10618    7.596603\n",
       "wind_direction       6268    4.484414\n",
       "wind_speed            304    0.217496\n",
       "dew_temperature       113    0.080845\n",
       "air_temperature        55    0.039350\n",
       "site_id                 0    0.000000\n",
       "timestamp               0    0.000000"
      ]
     },
     "execution_count": 9,
     "metadata": {},
     "output_type": "execute_result"
    }
   ],
   "source": [
    "missing(weather_train)"
   ]
  },
  {
   "cell_type": "code",
   "execution_count": 10,
   "metadata": {
    "execution": {
     "iopub.execute_input": "2021-02-24T21:46:38.179800Z",
     "iopub.status.busy": "2021-02-24T21:46:38.179196Z",
     "iopub.status.idle": "2021-02-24T21:46:38.208634Z",
     "shell.execute_reply": "2021-02-24T21:46:38.209075Z"
    },
    "papermill": {
     "duration": 0.075391,
     "end_time": "2021-02-24T21:46:38.209245",
     "exception": false,
     "start_time": "2021-02-24T21:46:38.133854",
     "status": "completed"
    },
    "tags": []
   },
   "outputs": [
    {
     "data": {
      "text/html": [
       "<div>\n",
       "<style scoped>\n",
       "    .dataframe tbody tr th:only-of-type {\n",
       "        vertical-align: middle;\n",
       "    }\n",
       "\n",
       "    .dataframe tbody tr th {\n",
       "        vertical-align: top;\n",
       "    }\n",
       "\n",
       "    .dataframe thead th {\n",
       "        text-align: right;\n",
       "    }\n",
       "</style>\n",
       "<table border=\"1\" class=\"dataframe\">\n",
       "  <thead>\n",
       "    <tr style=\"text-align: right;\">\n",
       "      <th></th>\n",
       "      <th>Total</th>\n",
       "      <th>Percentage</th>\n",
       "    </tr>\n",
       "  </thead>\n",
       "  <tbody>\n",
       "    <tr>\n",
       "      <th>cloud_coverage</th>\n",
       "      <td>140448</td>\n",
       "      <td>50.658808</td>\n",
       "    </tr>\n",
       "    <tr>\n",
       "      <th>precip_depth_1_hr</th>\n",
       "      <td>95588</td>\n",
       "      <td>34.478057</td>\n",
       "    </tr>\n",
       "    <tr>\n",
       "      <th>sea_level_pressure</th>\n",
       "      <td>21265</td>\n",
       "      <td>7.670167</td>\n",
       "    </tr>\n",
       "    <tr>\n",
       "      <th>wind_direction</th>\n",
       "      <td>12370</td>\n",
       "      <td>4.461790</td>\n",
       "    </tr>\n",
       "    <tr>\n",
       "      <th>wind_speed</th>\n",
       "      <td>460</td>\n",
       "      <td>0.165919</td>\n",
       "    </tr>\n",
       "    <tr>\n",
       "      <th>dew_temperature</th>\n",
       "      <td>327</td>\n",
       "      <td>0.117947</td>\n",
       "    </tr>\n",
       "    <tr>\n",
       "      <th>air_temperature</th>\n",
       "      <td>104</td>\n",
       "      <td>0.037512</td>\n",
       "    </tr>\n",
       "    <tr>\n",
       "      <th>site_id</th>\n",
       "      <td>0</td>\n",
       "      <td>0.000000</td>\n",
       "    </tr>\n",
       "    <tr>\n",
       "      <th>timestamp</th>\n",
       "      <td>0</td>\n",
       "      <td>0.000000</td>\n",
       "    </tr>\n",
       "  </tbody>\n",
       "</table>\n",
       "</div>"
      ],
      "text/plain": [
       "                     Total  Percentage\n",
       "cloud_coverage      140448   50.658808\n",
       "precip_depth_1_hr    95588   34.478057\n",
       "sea_level_pressure   21265    7.670167\n",
       "wind_direction       12370    4.461790\n",
       "wind_speed             460    0.165919\n",
       "dew_temperature        327    0.117947\n",
       "air_temperature        104    0.037512\n",
       "site_id                  0    0.000000\n",
       "timestamp                0    0.000000"
      ]
     },
     "execution_count": 10,
     "metadata": {},
     "output_type": "execute_result"
    }
   ],
   "source": [
    "missing(weather_test)"
   ]
  },
  {
   "cell_type": "code",
   "execution_count": 11,
   "metadata": {
    "execution": {
     "iopub.execute_input": "2021-02-24T21:46:38.298965Z",
     "iopub.status.busy": "2021-02-24T21:46:38.298345Z",
     "iopub.status.idle": "2021-02-24T21:46:38.313883Z",
     "shell.execute_reply": "2021-02-24T21:46:38.313250Z"
    },
    "papermill": {
     "duration": 0.06187,
     "end_time": "2021-02-24T21:46:38.314031",
     "exception": false,
     "start_time": "2021-02-24T21:46:38.252161",
     "status": "completed"
    },
    "tags": []
   },
   "outputs": [
    {
     "data": {
      "text/html": [
       "<div>\n",
       "<style scoped>\n",
       "    .dataframe tbody tr th:only-of-type {\n",
       "        vertical-align: middle;\n",
       "    }\n",
       "\n",
       "    .dataframe tbody tr th {\n",
       "        vertical-align: top;\n",
       "    }\n",
       "\n",
       "    .dataframe thead th {\n",
       "        text-align: right;\n",
       "    }\n",
       "</style>\n",
       "<table border=\"1\" class=\"dataframe\">\n",
       "  <thead>\n",
       "    <tr style=\"text-align: right;\">\n",
       "      <th></th>\n",
       "      <th>Total</th>\n",
       "      <th>Percentage</th>\n",
       "    </tr>\n",
       "  </thead>\n",
       "  <tbody>\n",
       "    <tr>\n",
       "      <th>floor_count</th>\n",
       "      <td>1094</td>\n",
       "      <td>75.500345</td>\n",
       "    </tr>\n",
       "    <tr>\n",
       "      <th>year_built</th>\n",
       "      <td>774</td>\n",
       "      <td>53.416149</td>\n",
       "    </tr>\n",
       "    <tr>\n",
       "      <th>site_id</th>\n",
       "      <td>0</td>\n",
       "      <td>0.000000</td>\n",
       "    </tr>\n",
       "    <tr>\n",
       "      <th>building_id</th>\n",
       "      <td>0</td>\n",
       "      <td>0.000000</td>\n",
       "    </tr>\n",
       "    <tr>\n",
       "      <th>primary_use</th>\n",
       "      <td>0</td>\n",
       "      <td>0.000000</td>\n",
       "    </tr>\n",
       "    <tr>\n",
       "      <th>square_feet</th>\n",
       "      <td>0</td>\n",
       "      <td>0.000000</td>\n",
       "    </tr>\n",
       "  </tbody>\n",
       "</table>\n",
       "</div>"
      ],
      "text/plain": [
       "             Total  Percentage\n",
       "floor_count   1094   75.500345\n",
       "year_built     774   53.416149\n",
       "site_id          0    0.000000\n",
       "building_id      0    0.000000\n",
       "primary_use      0    0.000000\n",
       "square_feet      0    0.000000"
      ]
     },
     "execution_count": 11,
     "metadata": {},
     "output_type": "execute_result"
    }
   ],
   "source": [
    "missing(building_metadata)"
   ]
  },
  {
   "cell_type": "markdown",
   "metadata": {
    "papermill": {
     "duration": 0.043859,
     "end_time": "2021-02-24T21:46:38.402303",
     "exception": false,
     "start_time": "2021-02-24T21:46:38.358444",
     "status": "completed"
    },
    "tags": []
   },
   "source": [
    "# <a id='2'>2. Preprocessing</a>"
   ]
  },
  {
   "cell_type": "markdown",
   "metadata": {
    "papermill": {
     "duration": 0.044516,
     "end_time": "2021-02-24T21:46:38.492152",
     "exception": false,
     "start_time": "2021-02-24T21:46:38.447636",
     "status": "completed"
    },
    "tags": []
   },
   "source": [
    "## a. Missing data"
   ]
  },
  {
   "cell_type": "markdown",
   "metadata": {
    "papermill": {
     "duration": 0.043929,
     "end_time": "2021-02-24T21:46:38.579676",
     "exception": false,
     "start_time": "2021-02-24T21:46:38.535747",
     "status": "completed"
    },
    "tags": []
   },
   "source": [
    "### Air_temperature\n",
    "\n",
    "There are only 55 missing values in the weather_train data set.\n",
    "\n",
    "We fill the missing data with the value from the closest previous day without na, at the same time of the day, of the same site (there's no NA from the same hour in two consecutive days of the same site)"
   ]
  },
  {
   "cell_type": "code",
   "execution_count": 12,
   "metadata": {
    "execution": {
     "iopub.execute_input": "2021-02-24T21:46:38.672414Z",
     "iopub.status.busy": "2021-02-24T21:46:38.671797Z",
     "iopub.status.idle": "2021-02-24T21:46:38.678742Z",
     "shell.execute_reply": "2021-02-24T21:46:38.679202Z"
    },
    "papermill": {
     "duration": 0.055167,
     "end_time": "2021-02-24T21:46:38.679376",
     "exception": false,
     "start_time": "2021-02-24T21:46:38.624209",
     "status": "completed"
    },
    "tags": []
   },
   "outputs": [],
   "source": [
    "import math\n",
    "def fill_air_temp(data):\n",
    "    \n",
    "    '''Function for filling Na data in air_temperature variable'''\n",
    "    \n",
    "    na_index = data[data['air_temperature'].isnull()].index\n",
    "    temp_key = ['site_id', 'timestamp', 'air_temperature']\n",
    "    \n",
    "    for i in na_index:\n",
    "        site_na = data.loc[i, 'site_id']   \n",
    "        for j in range(5):\n",
    "            time_na = data.loc[i,'timestamp'] - datetime.timedelta(days = j+1)  \n",
    "            ind = data[(data.site_id == site_na) & (data.timestamp == time_na)].index  \n",
    "            \n",
    "            if math.isnan(data.loc[ind, 'air_temperature']) == False :\n",
    "                data.loc[i, 'air_temperature'] = data.loc[ind, 'air_temperature'].values\n",
    "                break\n",
    "    \n",
    "    return data"
   ]
  },
  {
   "cell_type": "code",
   "execution_count": 13,
   "metadata": {
    "execution": {
     "iopub.execute_input": "2021-02-24T21:46:38.771442Z",
     "iopub.status.busy": "2021-02-24T21:46:38.770714Z",
     "iopub.status.idle": "2021-02-24T21:46:39.382957Z",
     "shell.execute_reply": "2021-02-24T21:46:39.381614Z"
    },
    "papermill": {
     "duration": 0.659239,
     "end_time": "2021-02-24T21:46:39.383114",
     "exception": false,
     "start_time": "2021-02-24T21:46:38.723875",
     "status": "completed"
    },
    "tags": []
   },
   "outputs": [],
   "source": [
    "weather_train = fill_air_temp(weather_train)\n",
    "weather_test = fill_air_temp(weather_test)"
   ]
  },
  {
   "cell_type": "markdown",
   "metadata": {
    "papermill": {
     "duration": 0.044774,
     "end_time": "2021-02-24T21:46:39.473054",
     "exception": false,
     "start_time": "2021-02-24T21:46:39.428280",
     "status": "completed"
    },
    "tags": []
   },
   "source": [
    "### floor_count and year_built"
   ]
  },
  {
   "cell_type": "code",
   "execution_count": 14,
   "metadata": {
    "execution": {
     "iopub.execute_input": "2021-02-24T21:46:39.572686Z",
     "iopub.status.busy": "2021-02-24T21:46:39.571338Z",
     "iopub.status.idle": "2021-02-24T21:46:39.575223Z",
     "shell.execute_reply": "2021-02-24T21:46:39.575677Z"
    },
    "papermill": {
     "duration": 0.058628,
     "end_time": "2021-02-24T21:46:39.575869",
     "exception": false,
     "start_time": "2021-02-24T21:46:39.517241",
     "status": "completed"
    },
    "tags": []
   },
   "outputs": [],
   "source": [
    "#According to the above table, 53.41% of year_built and 75.50% \n",
    "#of floor_count are not available\n",
    "\n",
    "#We fill the floor_count's NA by mode = 1 (repsent 7.52% of floor_count values) \n",
    "#and the year_built by the mean of it value\n",
    "building_metadata.fillna({'floor_count':1,'year_built': building_metadata['year_built'].mean()}, inplace = True)\n",
    "building_metadata['primary_use'] = building_metadata['primary_use'].astype('category')"
   ]
  },
  {
   "cell_type": "markdown",
   "metadata": {
    "papermill": {
     "duration": 0.045112,
     "end_time": "2021-02-24T21:46:39.665666",
     "exception": false,
     "start_time": "2021-02-24T21:46:39.620554",
     "status": "completed"
    },
    "tags": []
   },
   "source": [
    "### Other variables"
   ]
  },
  {
   "cell_type": "code",
   "execution_count": 15,
   "metadata": {
    "execution": {
     "iopub.execute_input": "2021-02-24T21:46:39.765694Z",
     "iopub.status.busy": "2021-02-24T21:46:39.764611Z",
     "iopub.status.idle": "2021-02-24T21:46:39.877711Z",
     "shell.execute_reply": "2021-02-24T21:46:39.877077Z"
    },
    "papermill": {
     "duration": 0.167043,
     "end_time": "2021-02-24T21:46:39.877881",
     "exception": false,
     "start_time": "2021-02-24T21:46:39.710838",
     "status": "completed"
    },
    "tags": []
   },
   "outputs": [],
   "source": [
    "#Even the weather data don't change more in the futur and the past, so we make a \n",
    "#forward and backward filling\n",
    "# First: transformation of the timestamp into a datetime object \n",
    "# Second: sorting by site id then timestamp\n",
    "\n",
    "weather_train = weather_train.sort_values(by=['site_id', 'timestamp']) \n",
    "weather_train.fillna(method = 'bfill', inplace=True, limit = 12) #backfill up to 12 hours\n",
    "weather_train.fillna(method = 'ffill', inplace = True, limit = 12) #forward fill the missing data up to 12 hours\n",
    "\n",
    "\n",
    "## Weather test\n",
    "weather_test = weather_test.sort_values(by=['site_id', 'timestamp']) \n",
    "weather_test.fillna(method = 'bfill', inplace=True, limit = 12)\n",
    "weather_test.fillna(method = 'ffill', inplace=True, limit = 12)\n",
    "\n"
   ]
  },
  {
   "cell_type": "code",
   "execution_count": 16,
   "metadata": {
    "execution": {
     "iopub.execute_input": "2021-02-24T21:46:39.973842Z",
     "iopub.status.busy": "2021-02-24T21:46:39.972584Z",
     "iopub.status.idle": "2021-02-24T21:46:41.166632Z",
     "shell.execute_reply": "2021-02-24T21:46:41.166031Z"
    },
    "papermill": {
     "duration": 1.243465,
     "end_time": "2021-02-24T21:46:41.166770",
     "exception": false,
     "start_time": "2021-02-24T21:46:39.923305",
     "status": "completed"
    },
    "tags": []
   },
   "outputs": [
    {
     "data": {
      "text/plain": [
       "<AxesSubplot:>"
      ]
     },
     "execution_count": 16,
     "metadata": {},
     "output_type": "execute_result"
    },
    {
     "data": {
      "image/png": "[encoded data removed]",
      "text/plain": [
       "<Figure size 432x288 with 1 Axes>"
      ]
     },
     "metadata": {
      "needs_background": "light"
     },
     "output_type": "display_data"
    }
   ],
   "source": [
    "sns.heatmap(weather_train.isnull(), yticklabels = False, cbar = False, cmap = 'viridis')\n",
    "#sns.heatmap(weather_test.isnull(), yticklabels = False, cbar = False, cmap = 'viridis')"
   ]
  },
  {
   "cell_type": "code",
   "execution_count": 17,
   "metadata": {
    "execution": {
     "iopub.execute_input": "2021-02-24T21:46:41.268135Z",
     "iopub.status.busy": "2021-02-24T21:46:41.266993Z",
     "iopub.status.idle": "2021-02-24T21:46:41.397042Z",
     "shell.execute_reply": "2021-02-24T21:46:41.396515Z"
    },
    "papermill": {
     "duration": 0.184084,
     "end_time": "2021-02-24T21:46:41.397201",
     "exception": false,
     "start_time": "2021-02-24T21:46:41.213117",
     "status": "completed"
    },
    "tags": []
   },
   "outputs": [
    {
     "data": {
      "text/plain": [
       "site_id               0\n",
       "timestamp             0\n",
       "air_temperature       0\n",
       "cloud_coverage        0\n",
       "dew_temperature       0\n",
       "precip_depth_1_hr     0\n",
       "sea_level_pressure    0\n",
       "wind_direction        0\n",
       "wind_speed            0\n",
       "dtype: int64"
      ]
     },
     "execution_count": 17,
     "metadata": {},
     "output_type": "execute_result"
    }
   ],
   "source": [
    "#Train data\n",
    "missing_cols = [col for col in weather_train.columns if weather_train[col].isna().any()] \n",
    "fill_lib = weather_train.groupby('site_id')[missing_cols].transform('mean')\n",
    "#stores the mean of each feature for each site id\n",
    "weather_train.fillna(fill_lib, inplace=True) #for each feature with missing \n",
    "#values, fill the missing entry with the mean for that site\n",
    "\n",
    "#Test data\n",
    "missing_cols = [col for col in weather_test.columns if weather_test[col].isna().any()] \n",
    "fill_lib = weather_test.groupby('site_id')[missing_cols].transform('mean')\n",
    "#stores the mean of each feature for each site id\n",
    "weather_test.fillna(fill_lib, inplace=True)\n",
    "del missing_cols, fill_lib\n",
    "\n",
    "weather_train.isna().sum()\n",
    "#weather_test.isna().sum()"
   ]
  },
  {
   "cell_type": "markdown",
   "metadata": {
    "papermill": {
     "duration": 0.046804,
     "end_time": "2021-02-24T21:46:41.490344",
     "exception": false,
     "start_time": "2021-02-24T21:46:41.443540",
     "status": "completed"
    },
    "tags": []
   },
   "source": [
    "## b. Align the timestamp"
   ]
  },
  {
   "cell_type": "markdown",
   "metadata": {
    "papermill": {
     "duration": 0.045767,
     "end_time": "2021-02-24T21:46:41.581950",
     "exception": false,
     "start_time": "2021-02-24T21:46:41.536183",
     "status": "completed"
    },
    "tags": []
   },
   "source": [
    "The timestamps of the weather data and the train/test data are different: those in the weather data is not in the site's local time. So there's need an alignment before merging these dataset by timestamps."
   ]
  },
  {
   "cell_type": "markdown",
   "metadata": {
    "papermill": {
     "duration": 0.045884,
     "end_time": "2021-02-24T21:46:41.673953",
     "exception": false,
     "start_time": "2021-02-24T21:46:41.628069",
     "status": "completed"
    },
    "tags": []
   },
   "source": [
    "To see this problem, we plot the air temperature (from weather data) and energy consumption (from train data) by site and hour.\n",
    "We assume that highest air temperature should appear at around 14:00."
   ]
  },
  {
   "cell_type": "code",
   "execution_count": 18,
   "metadata": {
    "execution": {
     "iopub.execute_input": "2021-02-24T21:46:41.774513Z",
     "iopub.status.busy": "2021-02-24T21:46:41.773121Z",
     "iopub.status.idle": "2021-02-24T21:46:41.775149Z",
     "shell.execute_reply": "2021-02-24T21:46:41.775597Z"
    },
    "papermill": {
     "duration": 0.055811,
     "end_time": "2021-02-24T21:46:41.775753",
     "exception": false,
     "start_time": "2021-02-24T21:46:41.719942",
     "status": "completed"
    },
    "tags": []
   },
   "outputs": [],
   "source": [
    "def plot_by_site_by_hour(data, column) :\n",
    "    '''Plot a variable by site and hour'''\n",
    "    \n",
    "    plot_key = ['site_id', 'timestamp']\n",
    "    col_to_plot = data[plot_key + [column]].copy()\n",
    "    col_to_plot['hour'] = col_to_plot['timestamp'].dt.hour\n",
    "    \n",
    "    c = 1\n",
    "    plt.figure(figsize=(25, 15))\n",
    "    for site_id, data_by_site in col_to_plot.groupby('site_id'):\n",
    "        by_site_by_hour = data_by_site.groupby('hour').mean()\n",
    "        ax = plt.subplot(4, 4, c)\n",
    "        plt.plot(by_site_by_hour.index,by_site_by_hour[column],'xb-')\n",
    "        ax.set_title('site: '+str(site_id))\n",
    "        c += 1\n",
    "    return plt.show()"
   ]
  },
  {
   "cell_type": "code",
   "execution_count": 19,
   "metadata": {
    "execution": {
     "iopub.execute_input": "2021-02-24T21:46:41.873588Z",
     "iopub.status.busy": "2021-02-24T21:46:41.873014Z",
     "iopub.status.idle": "2021-02-24T21:46:41.884062Z",
     "shell.execute_reply": "2021-02-24T21:46:41.883545Z"
    },
    "papermill": {
     "duration": 0.06196,
     "end_time": "2021-02-24T21:46:41.884205",
     "exception": false,
     "start_time": "2021-02-24T21:46:41.822245",
     "status": "completed"
    },
    "tags": []
   },
   "outputs": [],
   "source": [
    "weather = pd.concat([weather_train,weather_test],ignore_index=True)"
   ]
  },
  {
   "cell_type": "code",
   "execution_count": 20,
   "metadata": {
    "execution": {
     "iopub.execute_input": "2021-02-24T21:46:41.987920Z",
     "iopub.status.busy": "2021-02-24T21:46:41.987309Z",
     "iopub.status.idle": "2021-02-24T21:46:43.901665Z",
     "shell.execute_reply": "2021-02-24T21:46:43.902181Z"
    },
    "papermill": {
     "duration": 1.971446,
     "end_time": "2021-02-24T21:46:43.902359",
     "exception": false,
     "start_time": "2021-02-24T21:46:41.930913",
     "status": "completed"
    },
    "tags": []
   },
   "outputs": [
    {
     "data": {
      "image/png": "[encoded data removed]",
      "text/plain": [
       "<Figure size 1800x1080 with 16 Axes>"
      ]
     },
     "metadata": {
      "needs_background": "light"
     },
     "output_type": "display_data"
    }
   ],
   "source": [
    "plot_by_site_by_hour(weather,'air_temperature')"
   ]
  },
  {
   "cell_type": "markdown",
   "metadata": {
    "papermill": {
     "duration": 0.050537,
     "end_time": "2021-02-24T21:46:44.003689",
     "exception": false,
     "start_time": "2021-02-24T21:46:43.953152",
     "status": "completed"
    },
    "tags": []
   },
   "source": [
    "We see that the peak temperature for most of these site are not around 14:00, some even at night, which doesn't make sense."
   ]
  },
  {
   "cell_type": "code",
   "execution_count": 21,
   "metadata": {
    "execution": {
     "iopub.execute_input": "2021-02-24T21:46:44.109842Z",
     "iopub.status.busy": "2021-02-24T21:46:44.109243Z",
     "iopub.status.idle": "2021-02-24T21:46:45.725804Z",
     "shell.execute_reply": "2021-02-24T21:46:45.726330Z"
    },
    "papermill": {
     "duration": 1.671681,
     "end_time": "2021-02-24T21:46:45.726504",
     "exception": false,
     "start_time": "2021-02-24T21:46:44.054823",
     "status": "completed"
    },
    "tags": []
   },
   "outputs": [],
   "source": [
    "#Create dataframe having site_id and meter from train and metadata datasets\n",
    "building_site_dict = dict(zip(building_metadata['building_id'], building_metadata['site_id']))\n",
    "site_meter = train[['building_id', 'meter', 'timestamp', 'meter_reading']].copy()\n",
    "site_meter['site_id'] = site_meter.building_id.map(building_site_dict)\n",
    "del site_meter['building_id']\n",
    "\n",
    "#Dataframe with site_id and electrical consumption\n",
    "site_elec = site_meter[site_meter.meter == 0]"
   ]
  },
  {
   "cell_type": "code",
   "execution_count": 22,
   "metadata": {
    "execution": {
     "iopub.execute_input": "2021-02-24T21:46:45.832495Z",
     "iopub.status.busy": "2021-02-24T21:46:45.831892Z",
     "iopub.status.idle": "2021-02-24T21:46:50.933693Z",
     "shell.execute_reply": "2021-02-24T21:46:50.934266Z"
    },
    "papermill": {
     "duration": 5.156458,
     "end_time": "2021-02-24T21:46:50.934444",
     "exception": false,
     "start_time": "2021-02-24T21:46:45.777986",
     "status": "completed"
    },
    "tags": []
   },
   "outputs": [
    {
     "data": {
      "image/png": "[encoded data removed]",
      "text/plain": [
       "<Figure size 1800x1080 with 16 Axes>"
      ]
     },
     "metadata": {
      "needs_background": "light"
     },
     "output_type": "display_data"
    },
    {
     "data": {
      "text/plain": [
       "38317"
      ]
     },
     "execution_count": 22,
     "metadata": {},
     "output_type": "execute_result"
    }
   ],
   "source": [
    "plot_by_site_by_hour(site_elec, 'meter_reading')\n",
    "del building_site_dict, site_meter, site_elec\n",
    "gc.collect()"
   ]
  },
  {
   "cell_type": "markdown",
   "metadata": {
    "papermill": {
     "duration": 0.057455,
     "end_time": "2021-02-24T21:46:51.048073",
     "exception": false,
     "start_time": "2021-02-24T21:46:50.990618",
     "status": "completed"
    },
    "tags": []
   },
   "source": [
    "The energy consumption of these sites make sense, which mean that the timestamps are more aligned."
   ]
  },
  {
   "cell_type": "code",
   "execution_count": 23,
   "metadata": {
    "execution": {
     "iopub.execute_input": "2021-02-24T21:46:51.174529Z",
     "iopub.status.busy": "2021-02-24T21:46:51.173881Z",
     "iopub.status.idle": "2021-02-24T21:46:51.619130Z",
     "shell.execute_reply": "2021-02-24T21:46:51.618565Z"
    },
    "papermill": {
     "duration": 0.514525,
     "end_time": "2021-02-24T21:46:51.619289",
     "exception": false,
     "start_time": "2021-02-24T21:46:51.104764",
     "status": "completed"
    },
    "tags": []
   },
   "outputs": [],
   "source": [
    "# calculate ranks of hourly temperatures within date and site_id\n",
    "key = ['site_id', 'timestamp', 'air_temperature']\n",
    "temp = weather.loc[:,key]\n",
    "temp['temp_rank'] = temp.groupby(['site_id', temp.timestamp.dt.date])['air_temperature'].rank('average')\n",
    "\n",
    "# site_id x mean hour rank of temperature within day\n",
    "mean_rank = temp.groupby(['site_id', temp.timestamp.dt.hour])['temp_rank'].mean().unstack(level=1)"
   ]
  },
  {
   "cell_type": "code",
   "execution_count": 24,
   "metadata": {
    "execution": {
     "iopub.execute_input": "2021-02-24T21:46:51.738666Z",
     "iopub.status.busy": "2021-02-24T21:46:51.738062Z",
     "iopub.status.idle": "2021-02-24T21:46:51.740273Z",
     "shell.execute_reply": "2021-02-24T21:46:51.740814Z"
    },
    "papermill": {
     "duration": 0.065388,
     "end_time": "2021-02-24T21:46:51.740975",
     "exception": false,
     "start_time": "2021-02-24T21:46:51.675587",
     "status": "completed"
    },
    "tags": []
   },
   "outputs": [],
   "source": [
    "#the timestamp alignment gap for each site\n",
    "gap = pd.Series(mean_rank.values.argmax(axis=1) - 14)\n",
    "gap.index.name = 'site_id'\n",
    "\n",
    "def timestamp_align(data):\n",
    "    '''Function to align the timestamp'''\n",
    "    data['offset'] = data.site_id.map(gap)\n",
    "    data['timestamp_aligned'] = (data.timestamp - pd.to_timedelta(data.offset, unit='H'))\n",
    "    data['timestamp'] = data['timestamp_aligned']\n",
    "    del data['timestamp_aligned']\n",
    "    return data"
   ]
  },
  {
   "cell_type": "code",
   "execution_count": 25,
   "metadata": {
    "execution": {
     "iopub.execute_input": "2021-02-24T21:46:51.855941Z",
     "iopub.status.busy": "2021-02-24T21:46:51.855356Z",
     "iopub.status.idle": "2021-02-24T21:46:51.965928Z",
     "shell.execute_reply": "2021-02-24T21:46:51.966416Z"
    },
    "papermill": {
     "duration": 0.169467,
     "end_time": "2021-02-24T21:46:51.966586",
     "exception": false,
     "start_time": "2021-02-24T21:46:51.797119",
     "status": "completed"
    },
    "tags": []
   },
   "outputs": [
    {
     "data": {
      "text/plain": [
       "57"
      ]
     },
     "execution_count": 25,
     "metadata": {},
     "output_type": "execute_result"
    }
   ],
   "source": [
    "weather_train = timestamp_align(weather_train)\n",
    "weather_test = timestamp_align(weather_test)\n",
    "del weather, temp, gap\n",
    "gc.collect()"
   ]
  },
  {
   "cell_type": "markdown",
   "metadata": {
    "papermill": {
     "duration": 0.056702,
     "end_time": "2021-02-24T21:46:52.079932",
     "exception": false,
     "start_time": "2021-02-24T21:46:52.023230",
     "status": "completed"
    },
    "tags": []
   },
   "source": [
    "## c. Merge data"
   ]
  },
  {
   "cell_type": "code",
   "execution_count": 26,
   "metadata": {
    "execution": {
     "iopub.execute_input": "2021-02-24T21:46:52.195987Z",
     "iopub.status.busy": "2021-02-24T21:46:52.195379Z",
     "iopub.status.idle": "2021-02-24T21:47:23.705447Z",
     "shell.execute_reply": "2021-02-24T21:47:23.704737Z"
    },
    "papermill": {
     "duration": 31.569071,
     "end_time": "2021-02-24T21:47:23.705606",
     "exception": false,
     "start_time": "2021-02-24T21:46:52.136535",
     "status": "completed"
    },
    "tags": []
   },
   "outputs": [],
   "source": [
    "train_merge = train.merge(building_metadata, on='building_id', how='left', validate='many_to_one')\n",
    "train_merge = train_merge.merge(weather_train, on=['site_id', 'timestamp'], how='left', validate='many_to_one')\n",
    "del train, weather_train\n",
    "\n",
    "test_merge = test.merge(building_metadata, on='building_id', how='left', validate='many_to_one')\n",
    "test_merge = test_merge.merge(weather_test, on=['site_id', 'timestamp'], how='left', validate='many_to_one')\n",
    "del test, weather_test, building_metadata"
   ]
  },
  {
   "cell_type": "markdown",
   "metadata": {
    "papermill": {
     "duration": 0.056341,
     "end_time": "2021-02-24T21:47:23.820159",
     "exception": false,
     "start_time": "2021-02-24T21:47:23.763818",
     "status": "completed"
    },
    "tags": []
   },
   "source": [
    "This additionnal missing values appear here because some merging identity (timesamp) of train and test dataset aren't in  weather data. "
   ]
  },
  {
   "cell_type": "code",
   "execution_count": 27,
   "metadata": {
    "execution": {
     "iopub.execute_input": "2021-02-24T21:47:23.938094Z",
     "iopub.status.busy": "2021-02-24T21:47:23.937425Z",
     "iopub.status.idle": "2021-02-24T21:48:14.854931Z",
     "shell.execute_reply": "2021-02-24T21:48:14.855420Z"
    },
    "papermill": {
     "duration": 50.977936,
     "end_time": "2021-02-24T21:48:14.855617",
     "exception": false,
     "start_time": "2021-02-24T21:47:23.877681",
     "status": "completed"
    },
    "tags": []
   },
   "outputs": [],
   "source": [
    "#train_data\n",
    "train_merge = train_merge.sort_values(by=['building_id', 'timestamp'])\n",
    "train_merge.fillna(method = 'ffill', inplace=True)\n",
    "\n",
    "#test data\n",
    "test_merge = test_merge.sort_values(by=['building_id', 'timestamp'])\n",
    "test_merge.fillna(method = 'ffill', inplace=True)"
   ]
  },
  {
   "cell_type": "code",
   "execution_count": 28,
   "metadata": {
    "execution": {
     "iopub.execute_input": "2021-02-24T21:48:14.980045Z",
     "iopub.status.busy": "2021-02-24T21:48:14.979075Z",
     "iopub.status.idle": "2021-02-24T21:48:33.218550Z",
     "shell.execute_reply": "2021-02-24T21:48:33.217987Z"
    },
    "papermill": {
     "duration": 18.304393,
     "end_time": "2021-02-24T21:48:33.218694",
     "exception": false,
     "start_time": "2021-02-24T21:48:14.914301",
     "status": "completed"
    },
    "tags": []
   },
   "outputs": [
    {
     "name": "stdout",
     "output_type": "stream",
     "text": [
      "Memory usage after optimization is: 944.70 MB\n",
      "Decreased by 64.2%\n",
      "Memory usage after optimization is: 1948.53 MB\n",
      "Decreased by 64.2%\n"
     ]
    }
   ],
   "source": [
    "train_merge = reduce_mem_usage(train_merge)\n",
    "test_merge = reduce_mem_usage(test_merge)"
   ]
  },
  {
   "cell_type": "markdown",
   "metadata": {
    "papermill": {
     "duration": 0.057718,
     "end_time": "2021-02-24T21:48:33.334658",
     "exception": false,
     "start_time": "2021-02-24T21:48:33.276940",
     "status": "completed"
    },
    "tags": []
   },
   "source": [
    "## d. Create new variables"
   ]
  },
  {
   "cell_type": "markdown",
   "metadata": {
    "papermill": {
     "duration": 0.057068,
     "end_time": "2021-02-24T21:48:33.449163",
     "exception": false,
     "start_time": "2021-02-24T21:48:33.392095",
     "status": "completed"
    },
    "tags": []
   },
   "source": [
    "With the problem of the form of time series, we can create some useful variables. For example: year, month, date, hour, lagged variables. We will start with the simple ones: year, month, date, hour."
   ]
  },
  {
   "cell_type": "code",
   "execution_count": 29,
   "metadata": {
    "execution": {
     "iopub.execute_input": "2021-02-24T21:48:33.573054Z",
     "iopub.status.busy": "2021-02-24T21:48:33.572384Z",
     "iopub.status.idle": "2021-02-24T21:48:58.671375Z",
     "shell.execute_reply": "2021-02-24T21:48:58.670793Z"
    },
    "papermill": {
     "duration": 25.163904,
     "end_time": "2021-02-24T21:48:58.671526",
     "exception": false,
     "start_time": "2021-02-24T21:48:33.507622",
     "status": "completed"
    },
    "tags": []
   },
   "outputs": [
    {
     "name": "stderr",
     "output_type": "stream",
     "text": [
      "/opt/conda/lib/python3.7/site-packages/ipykernel_launcher.py:4: FutureWarning: Series.dt.weekofyear and Series.dt.week have been deprecated.  Please use Series.dt.isocalendar().week instead.\n",
      "  after removing the cwd from sys.path.\n",
      "/opt/conda/lib/python3.7/site-packages/ipykernel_launcher.py:10: FutureWarning: Series.dt.weekofyear and Series.dt.week have been deprecated.  Please use Series.dt.isocalendar().week instead.\n",
      "  # Remove the CWD from sys.path while we load stuff.\n"
     ]
    }
   ],
   "source": [
    "train_merge['month'] = train_merge['timestamp'].dt.month.astype(np.int8)\n",
    "#train_merge['year'] = train_merge['timestamp'].dt.year.astype(np.int16)\n",
    "train_merge['day'] = train_merge['timestamp'].dt.dayofweek.astype(np.int8)\n",
    "train_merge['week'] = train_merge['timestamp'].dt.weekofyear.astype(np.int8)\n",
    "train_merge['hour'] = train_merge['timestamp'].dt.hour.astype(np.int8)\n",
    "\n",
    "test_merge['month'] = test_merge['timestamp'].dt.month.astype(np.int8)\n",
    "#test_merge['year'] = test_merge['timestamp'].dt.year.astype(np.int16)\n",
    "test_merge['day'] = test_merge['timestamp'].dt.dayofweek.astype(np.int8)\n",
    "test_merge['week'] = test_merge['timestamp'].dt.weekofyear.astype(np.int8)\n",
    "test_merge['hour'] = test_merge['timestamp'].dt.hour.astype(np.int8)"
   ]
  },
  {
   "cell_type": "code",
   "execution_count": 30,
   "metadata": {
    "execution": {
     "iopub.execute_input": "2021-02-24T21:48:58.876907Z",
     "iopub.status.busy": "2021-02-24T21:48:58.875912Z",
     "iopub.status.idle": "2021-02-24T21:48:58.880271Z",
     "shell.execute_reply": "2021-02-24T21:48:58.879670Z"
    },
    "papermill": {
     "duration": 0.151386,
     "end_time": "2021-02-24T21:48:58.880420",
     "exception": false,
     "start_time": "2021-02-24T21:48:58.729034",
     "status": "completed"
    },
    "tags": []
   },
   "outputs": [
    {
     "data": {
      "text/plain": [
       "40"
      ]
     },
     "execution_count": 30,
     "metadata": {},
     "output_type": "execute_result"
    }
   ],
   "source": [
    "gc.collect()"
   ]
  },
  {
   "cell_type": "markdown",
   "metadata": {
    "papermill": {
     "duration": 0.058394,
     "end_time": "2021-02-24T21:48:58.996743",
     "exception": false,
     "start_time": "2021-02-24T21:48:58.938349",
     "status": "completed"
    },
    "tags": []
   },
   "source": [
    "## e. Target variable and transformation"
   ]
  },
  {
   "cell_type": "markdown",
   "metadata": {
    "papermill": {
     "duration": 0.057951,
     "end_time": "2021-02-24T21:48:59.112888",
     "exception": false,
     "start_time": "2021-02-24T21:48:59.054937",
     "status": "completed"
    },
    "tags": []
   },
   "source": [
    " Our original target variable is meter_reading.\n",
    " - Type 0 (electricity) of meter are mesure in kBTU. We need to convert them to kWh, and convert the prediction of this type again to kBTU before submission.\n",
    " - Transform the original target variable to obtain a new target variable *log1p(meter_reading)*"
   ]
  },
  {
   "cell_type": "code",
   "execution_count": 31,
   "metadata": {
    "execution": {
     "iopub.execute_input": "2021-02-24T21:48:59.239379Z",
     "iopub.status.busy": "2021-02-24T21:48:59.238642Z",
     "iopub.status.idle": "2021-02-24T21:48:59.716410Z",
     "shell.execute_reply": "2021-02-24T21:48:59.716929Z"
    },
    "papermill": {
     "duration": 0.544826,
     "end_time": "2021-02-24T21:48:59.717128",
     "exception": false,
     "start_time": "2021-02-24T21:48:59.172302",
     "status": "completed"
    },
    "tags": []
   },
   "outputs": [],
   "source": [
    "train_merge.loc[train_merge.meter == 0 , 'meter_reading'] = train_merge.loc[train_merge.meter == 0 , 'meter_reading'] * 0.2931"
   ]
  },
  {
   "cell_type": "code",
   "execution_count": 32,
   "metadata": {
    "execution": {
     "iopub.execute_input": "2021-02-24T21:48:59.840503Z",
     "iopub.status.busy": "2021-02-24T21:48:59.839804Z",
     "iopub.status.idle": "2021-02-24T21:49:00.359985Z",
     "shell.execute_reply": "2021-02-24T21:49:00.359163Z"
    },
    "papermill": {
     "duration": 0.58371,
     "end_time": "2021-02-24T21:49:00.360213",
     "exception": false,
     "start_time": "2021-02-24T21:48:59.776503",
     "status": "completed"
    },
    "tags": []
   },
   "outputs": [
    {
     "data": {
      "text/plain": [
       "count    2.021610e+07\n",
       "mean     1.987992e+03\n",
       "std      1.532184e+05\n",
       "min      0.000000e+00\n",
       "25%      6.353177e+00\n",
       "50%      3.080891e+01\n",
       "75%      1.383432e+02\n",
       "max      2.190470e+07\n",
       "Name: meter_reading, dtype: float64"
      ]
     },
     "execution_count": 32,
     "metadata": {},
     "output_type": "execute_result"
    }
   ],
   "source": [
    "train_merge.meter_reading.describe()"
   ]
  },
  {
   "cell_type": "code",
   "execution_count": 33,
   "metadata": {
    "execution": {
     "iopub.execute_input": "2021-02-24T21:49:00.506217Z",
     "iopub.status.busy": "2021-02-24T21:49:00.505236Z",
     "iopub.status.idle": "2021-02-24T21:49:03.798964Z",
     "shell.execute_reply": "2021-02-24T21:49:03.798338Z"
    },
    "papermill": {
     "duration": 3.365885,
     "end_time": "2021-02-24T21:49:03.799160",
     "exception": false,
     "start_time": "2021-02-24T21:49:00.433275",
     "status": "completed"
    },
    "tags": []
   },
   "outputs": [
    {
     "data": {
      "image/png": "[encoded data removed]",
      "text/plain": [
       "<Figure size 432x288 with 1 Axes>"
      ]
     },
     "metadata": {
      "needs_background": "light"
     },
     "output_type": "display_data"
    }
   ],
   "source": [
    "plt.boxplot(train_merge.meter_reading)\n",
    "plt.show()"
   ]
  },
  {
   "cell_type": "code",
   "execution_count": 34,
   "metadata": {
    "execution": {
     "iopub.execute_input": "2021-02-24T21:49:03.945703Z",
     "iopub.status.busy": "2021-02-24T21:49:03.945035Z",
     "iopub.status.idle": "2021-02-24T21:49:04.496698Z",
     "shell.execute_reply": "2021-02-24T21:49:04.497240Z"
    },
    "papermill": {
     "duration": 0.637178,
     "end_time": "2021-02-24T21:49:04.497426",
     "exception": false,
     "start_time": "2021-02-24T21:49:03.860248",
     "status": "completed"
    },
    "tags": []
   },
   "outputs": [
    {
     "data": {
      "image/png": "[encoded data removed]",
      "text/plain": [
       "<Figure size 432x288 with 1 Axes>"
      ]
     },
     "metadata": {
      "needs_background": "light"
     },
     "output_type": "display_data"
    }
   ],
   "source": [
    "plt.hist(train_merge.meter_reading, bins = 100)\n",
    "plt.show()"
   ]
  },
  {
   "cell_type": "code",
   "execution_count": 35,
   "metadata": {
    "execution": {
     "iopub.execute_input": "2021-02-24T21:49:04.624490Z",
     "iopub.status.busy": "2021-02-24T21:49:04.623809Z",
     "iopub.status.idle": "2021-02-24T21:49:05.502617Z",
     "shell.execute_reply": "2021-02-24T21:49:05.503173Z"
    },
    "papermill": {
     "duration": 0.943448,
     "end_time": "2021-02-24T21:49:05.503376",
     "exception": false,
     "start_time": "2021-02-24T21:49:04.559928",
     "status": "completed"
    },
    "tags": []
   },
   "outputs": [
    {
     "data": {
      "image/png": "[encoded data removed]",
      "text/plain": [
       "<Figure size 432x288 with 1 Axes>"
      ]
     },
     "metadata": {
      "needs_background": "light"
     },
     "output_type": "display_data"
    }
   ],
   "source": [
    "plt.hist(np.log1p(train_merge.meter_reading), bins = 100)\n",
    "plt.show()"
   ]
  },
  {
   "cell_type": "markdown",
   "metadata": {
    "papermill": {
     "duration": 0.0609,
     "end_time": "2021-02-24T21:49:05.627000",
     "exception": false,
     "start_time": "2021-02-24T21:49:05.566100",
     "status": "completed"
    },
    "tags": []
   },
   "source": [
    "### Identify Outliers"
   ]
  },
  {
   "cell_type": "code",
   "execution_count": null,
   "metadata": {
    "papermill": {
     "duration": 0.061417,
     "end_time": "2021-02-24T21:49:05.750239",
     "exception": false,
     "start_time": "2021-02-24T21:49:05.688822",
     "status": "completed"
    },
    "tags": []
   },
   "outputs": [],
   "source": []
  },
  {
   "cell_type": "code",
   "execution_count": 36,
   "metadata": {
    "execution": {
     "iopub.execute_input": "2021-02-24T21:49:05.877295Z",
     "iopub.status.busy": "2021-02-24T21:49:05.876661Z",
     "iopub.status.idle": "2021-02-24T21:49:05.879768Z",
     "shell.execute_reply": "2021-02-24T21:49:05.880377Z"
    },
    "papermill": {
     "duration": 0.06778,
     "end_time": "2021-02-24T21:49:05.880541",
     "exception": false,
     "start_time": "2021-02-24T21:49:05.812761",
     "status": "completed"
    },
    "tags": []
   },
   "outputs": [],
   "source": [
    "#train_merge['m/s'] = train_merge['meter_reading']/train_merge['square_feet']"
   ]
  },
  {
   "cell_type": "code",
   "execution_count": 37,
   "metadata": {
    "execution": {
     "iopub.execute_input": "2021-02-24T21:49:06.008465Z",
     "iopub.status.busy": "2021-02-24T21:49:06.007823Z",
     "iopub.status.idle": "2021-02-24T21:49:06.010990Z",
     "shell.execute_reply": "2021-02-24T21:49:06.011573Z"
    },
    "papermill": {
     "duration": 0.069047,
     "end_time": "2021-02-24T21:49:06.011743",
     "exception": false,
     "start_time": "2021-02-24T21:49:05.942696",
     "status": "completed"
    },
    "tags": []
   },
   "outputs": [],
   "source": [
    "#elec_ms = train_merge[(train_merge.meter==0) & (train_merge.meter_reading > 0)].loc[:,'m/s']"
   ]
  },
  {
   "cell_type": "code",
   "execution_count": 38,
   "metadata": {
    "execution": {
     "iopub.execute_input": "2021-02-24T21:49:06.140180Z",
     "iopub.status.busy": "2021-02-24T21:49:06.139479Z",
     "iopub.status.idle": "2021-02-24T21:49:06.143294Z",
     "shell.execute_reply": "2021-02-24T21:49:06.142646Z"
    },
    "papermill": {
     "duration": 0.069703,
     "end_time": "2021-02-24T21:49:06.143432",
     "exception": false,
     "start_time": "2021-02-24T21:49:06.073729",
     "status": "completed"
    },
    "tags": []
   },
   "outputs": [],
   "source": [
    "#elec_ms.describe()"
   ]
  },
  {
   "cell_type": "markdown",
   "metadata": {
    "papermill": {
     "duration": 0.061867,
     "end_time": "2021-02-24T21:49:06.267732",
     "exception": false,
     "start_time": "2021-02-24T21:49:06.205865",
     "status": "completed"
    },
    "tags": []
   },
   "source": [
    "### Create new target variable"
   ]
  },
  {
   "cell_type": "code",
   "execution_count": 39,
   "metadata": {
    "execution": {
     "iopub.execute_input": "2021-02-24T21:49:06.395071Z",
     "iopub.status.busy": "2021-02-24T21:49:06.394408Z",
     "iopub.status.idle": "2021-02-24T21:49:06.752230Z",
     "shell.execute_reply": "2021-02-24T21:49:06.752749Z"
    },
    "papermill": {
     "duration": 0.422949,
     "end_time": "2021-02-24T21:49:06.752939",
     "exception": false,
     "start_time": "2021-02-24T21:49:06.329990",
     "status": "completed"
    },
    "tags": []
   },
   "outputs": [],
   "source": [
    "train_merge['target'] = np.log1p(train_merge['meter_reading'])"
   ]
  },
  {
   "cell_type": "code",
   "execution_count": 40,
   "metadata": {
    "execution": {
     "iopub.execute_input": "2021-02-24T21:49:06.879907Z",
     "iopub.status.busy": "2021-02-24T21:49:06.879306Z",
     "iopub.status.idle": "2021-02-24T21:49:10.887167Z",
     "shell.execute_reply": "2021-02-24T21:49:10.887720Z"
    },
    "papermill": {
     "duration": 4.072842,
     "end_time": "2021-02-24T21:49:10.887914",
     "exception": false,
     "start_time": "2021-02-24T21:49:06.815072",
     "status": "completed"
    },
    "tags": []
   },
   "outputs": [],
   "source": [
    "train_0 = train_merge[train_merge.target > 0]\n",
    "Q1 = train_0.target.quantile(0.25)\n",
    "Q3 = train_0.target.quantile(0.75)\n",
    "IQR = Q3 - Q1\n",
    "del train_0\n",
    "gc.collect()\n",
    "train_merge = train_merge[train_merge.target <= Q3 + 1.5 * IQR]"
   ]
  },
  {
   "cell_type": "markdown",
   "metadata": {
    "papermill": {
     "duration": 0.061578,
     "end_time": "2021-02-24T21:49:11.011591",
     "exception": false,
     "start_time": "2021-02-24T21:49:10.950013",
     "status": "completed"
    },
    "tags": []
   },
   "source": [
    "# <a id='3'>3. Feature Engineering</a>"
   ]
  },
  {
   "cell_type": "markdown",
   "metadata": {
    "papermill": {
     "duration": 0.062656,
     "end_time": "2021-02-24T21:49:11.136835",
     "exception": false,
     "start_time": "2021-02-24T21:49:11.074179",
     "status": "completed"
    },
    "tags": []
   },
   "source": [
    "Correlation between target variable and other variable"
   ]
  },
  {
   "cell_type": "code",
   "execution_count": 41,
   "metadata": {
    "execution": {
     "iopub.execute_input": "2021-02-24T21:49:11.270966Z",
     "iopub.status.busy": "2021-02-24T21:49:11.270243Z",
     "iopub.status.idle": "2021-02-24T21:49:11.274699Z",
     "shell.execute_reply": "2021-02-24T21:49:11.275492Z"
    },
    "papermill": {
     "duration": 0.076085,
     "end_time": "2021-02-24T21:49:11.275745",
     "exception": false,
     "start_time": "2021-02-24T21:49:11.199660",
     "status": "completed"
    },
    "tags": []
   },
   "outputs": [],
   "source": [
    "#corr = train_merge.corr()"
   ]
  },
  {
   "cell_type": "code",
   "execution_count": 42,
   "metadata": {
    "execution": {
     "iopub.execute_input": "2021-02-24T21:49:11.428909Z",
     "iopub.status.busy": "2021-02-24T21:49:11.428306Z",
     "iopub.status.idle": "2021-02-24T21:49:11.432396Z",
     "shell.execute_reply": "2021-02-24T21:49:11.431837Z"
    },
    "papermill": {
     "duration": 0.081193,
     "end_time": "2021-02-24T21:49:11.432527",
     "exception": false,
     "start_time": "2021-02-24T21:49:11.351334",
     "status": "completed"
    },
    "tags": []
   },
   "outputs": [],
   "source": [
    "#plt.subplots(figsize=(20, 20))\n",
    "#sns.heatmap(corr, annot = True, mask = np.triu(corr))"
   ]
  },
  {
   "cell_type": "markdown",
   "metadata": {
    "papermill": {
     "duration": 0.063457,
     "end_time": "2021-02-24T21:49:11.559702",
     "exception": false,
     "start_time": "2021-02-24T21:49:11.496245",
     "status": "completed"
    },
    "tags": []
   },
   "source": [
    "# <a id='4'>4. Simple model</a>"
   ]
  },
  {
   "cell_type": "code",
   "execution_count": 43,
   "metadata": {
    "execution": {
     "iopub.execute_input": "2021-02-24T21:49:11.692793Z",
     "iopub.status.busy": "2021-02-24T21:49:11.692012Z",
     "iopub.status.idle": "2021-02-24T21:49:29.365407Z",
     "shell.execute_reply": "2021-02-24T21:49:29.364805Z"
    },
    "papermill": {
     "duration": 17.743893,
     "end_time": "2021-02-24T21:49:29.365593",
     "exception": false,
     "start_time": "2021-02-24T21:49:11.621700",
     "status": "completed"
    },
    "tags": []
   },
   "outputs": [],
   "source": [
    "from sklearn.tree import DecisionTreeRegressor\n",
    "\n",
    "y_train = train_merge['target']\n",
    "x_train = train_merge.dropna(axis = 1)\n",
    "del train_merge\n",
    "gc.collect()\n",
    "\n",
    "x = pd.get_dummies(x_train[['primary_use']],drop_first=True)\n",
    "x_train = pd.concat([x_train, x], axis = 1)\n",
    "x_train = x_train.drop(['primary_use','meter_reading','target', 'timestamp'], axis = 1)\n",
    "\n",
    "x = pd.get_dummies(test_merge[['primary_use']],drop_first=True)\n",
    "x_test = pd.concat([test_merge, x], axis = 1)\n",
    "x_test = x_test.drop(['primary_use', 'timestamp'], axis = 1)\n",
    "x_test = x_test.dropna(axis = 1)\n",
    "x_test = x_test.drop('row_id', axis = 1)"
   ]
  },
  {
   "cell_type": "code",
   "execution_count": 44,
   "metadata": {
    "execution": {
     "iopub.execute_input": "2021-02-24T21:49:29.498440Z",
     "iopub.status.busy": "2021-02-24T21:49:29.497759Z",
     "iopub.status.idle": "2021-02-24T21:54:01.593004Z",
     "shell.execute_reply": "2021-02-24T21:54:01.592199Z"
    },
    "papermill": {
     "duration": 272.164436,
     "end_time": "2021-02-24T21:54:01.593343",
     "exception": false,
     "start_time": "2021-02-24T21:49:29.428907",
     "status": "completed"
    },
    "tags": []
   },
   "outputs": [],
   "source": [
    "tree_model = DecisionTreeRegressor(min_samples_split = 200, min_samples_leaf = 100)\n",
    "tree_model = tree_model.fit(x_train, y_train)"
   ]
  },
  {
   "cell_type": "code",
   "execution_count": 45,
   "metadata": {
    "execution": {
     "iopub.execute_input": "2021-02-24T21:54:01.832566Z",
     "iopub.status.busy": "2021-02-24T21:54:01.831725Z",
     "iopub.status.idle": "2021-02-24T21:54:01.836510Z",
     "shell.execute_reply": "2021-02-24T21:54:01.836000Z"
    },
    "papermill": {
     "duration": 0.177125,
     "end_time": "2021-02-24T21:54:01.836650",
     "exception": false,
     "start_time": "2021-02-24T21:54:01.659525",
     "status": "completed"
    },
    "tags": []
   },
   "outputs": [
    {
     "data": {
      "text/plain": [
       "54"
      ]
     },
     "execution_count": 45,
     "metadata": {},
     "output_type": "execute_result"
    }
   ],
   "source": [
    "del x_train\n",
    "gc.collect()"
   ]
  },
  {
   "cell_type": "code",
   "execution_count": 46,
   "metadata": {
    "execution": {
     "iopub.execute_input": "2021-02-24T21:54:01.967202Z",
     "iopub.status.busy": "2021-02-24T21:54:01.966524Z",
     "iopub.status.idle": "2021-02-24T21:54:01.970149Z",
     "shell.execute_reply": "2021-02-24T21:54:01.969359Z"
    },
    "papermill": {
     "duration": 0.070656,
     "end_time": "2021-02-24T21:54:01.970306",
     "exception": false,
     "start_time": "2021-02-24T21:54:01.899650",
     "status": "completed"
    },
    "tags": []
   },
   "outputs": [],
   "source": [
    "#y_pred = tree_model.predict(x_test[0:10000000])\n",
    "#del x_test"
   ]
  },
  {
   "cell_type": "code",
   "execution_count": 47,
   "metadata": {
    "execution": {
     "iopub.execute_input": "2021-02-24T21:54:02.107194Z",
     "iopub.status.busy": "2021-02-24T21:54:02.106230Z",
     "iopub.status.idle": "2021-02-24T21:54:14.766377Z",
     "shell.execute_reply": "2021-02-24T21:54:14.765692Z"
    },
    "papermill": {
     "duration": 12.731126,
     "end_time": "2021-02-24T21:54:14.766522",
     "exception": false,
     "start_time": "2021-02-24T21:54:02.035396",
     "status": "completed"
    },
    "tags": []
   },
   "outputs": [],
   "source": [
    "y_pred = []\n",
    "for i in range(10):\n",
    "    y_pred = np.append(y_pred, tree_model.predict(x_test[(i*4000000):((i+1)*4000000)]))\n",
    "y_pred = np.append(y_pred, tree_model.predict(x_test[40000000:]))"
   ]
  },
  {
   "cell_type": "code",
   "execution_count": 48,
   "metadata": {
    "execution": {
     "iopub.execute_input": "2021-02-24T21:54:14.899420Z",
     "iopub.status.busy": "2021-02-24T21:54:14.898694Z",
     "iopub.status.idle": "2021-02-24T21:54:16.195143Z",
     "shell.execute_reply": "2021-02-24T21:54:16.194449Z"
    },
    "papermill": {
     "duration": 1.364079,
     "end_time": "2021-02-24T21:54:16.195279",
     "exception": false,
     "start_time": "2021-02-24T21:54:14.831200",
     "status": "completed"
    },
    "tags": []
   },
   "outputs": [],
   "source": [
    "y_pred = np.expm1(y_pred)\n",
    "y_pred[x_test.meter==0] = y_pred[x_test.meter==0] / 0.2931"
   ]
  },
  {
   "cell_type": "code",
   "execution_count": 49,
   "metadata": {
    "execution": {
     "iopub.execute_input": "2021-02-24T21:54:16.327397Z",
     "iopub.status.busy": "2021-02-24T21:54:16.326736Z",
     "iopub.status.idle": "2021-02-24T21:57:57.126338Z",
     "shell.execute_reply": "2021-02-24T21:57:57.125511Z"
    },
    "papermill": {
     "duration": 220.867382,
     "end_time": "2021-02-24T21:57:57.126529",
     "exception": false,
     "start_time": "2021-02-24T21:54:16.259147",
     "status": "completed"
    },
    "tags": []
   },
   "outputs": [],
   "source": [
    "my_submission = pd.DataFrame({'row_id': test_merge.row_id, 'meter_reading': y_pred})\n",
    "my_submission.to_csv('first_submission.csv', index=False, compression='gzip')"
   ]
  },
  {
   "cell_type": "code",
   "execution_count": 50,
   "metadata": {
    "execution": {
     "iopub.execute_input": "2021-02-24T21:57:57.264965Z",
     "iopub.status.busy": "2021-02-24T21:57:57.264319Z",
     "iopub.status.idle": "2021-02-24T21:57:57.268307Z",
     "shell.execute_reply": "2021-02-24T21:57:57.267816Z"
    },
    "papermill": {
     "duration": 0.078155,
     "end_time": "2021-02-24T21:57:57.268434",
     "exception": false,
     "start_time": "2021-02-24T21:57:57.190279",
     "status": "completed"
    },
    "tags": []
   },
   "outputs": [
    {
     "data": {
      "text/html": [
       "<div>\n",
       "<style scoped>\n",
       "    .dataframe tbody tr th:only-of-type {\n",
       "        vertical-align: middle;\n",
       "    }\n",
       "\n",
       "    .dataframe tbody tr th {\n",
       "        vertical-align: top;\n",
       "    }\n",
       "\n",
       "    .dataframe thead th {\n",
       "        text-align: right;\n",
       "    }\n",
       "</style>\n",
       "<table border=\"1\" class=\"dataframe\">\n",
       "  <thead>\n",
       "    <tr style=\"text-align: right;\">\n",
       "      <th></th>\n",
       "      <th>row_id</th>\n",
       "      <th>meter_reading</th>\n",
       "    </tr>\n",
       "  </thead>\n",
       "  <tbody>\n",
       "    <tr>\n",
       "      <th>0</th>\n",
       "      <td>0</td>\n",
       "      <td>0.367177</td>\n",
       "    </tr>\n",
       "    <tr>\n",
       "      <th>129</th>\n",
       "      <td>129</td>\n",
       "      <td>0.367177</td>\n",
       "    </tr>\n",
       "    <tr>\n",
       "      <th>258</th>\n",
       "      <td>258</td>\n",
       "      <td>0.367177</td>\n",
       "    </tr>\n",
       "    <tr>\n",
       "      <th>387</th>\n",
       "      <td>387</td>\n",
       "      <td>0.367177</td>\n",
       "    </tr>\n",
       "    <tr>\n",
       "      <th>516</th>\n",
       "      <td>516</td>\n",
       "      <td>0.367177</td>\n",
       "    </tr>\n",
       "    <tr>\n",
       "      <th>...</th>\n",
       "      <td>...</td>\n",
       "      <td>...</td>\n",
       "    </tr>\n",
       "    <tr>\n",
       "      <th>41497570</th>\n",
       "      <td>41497570</td>\n",
       "      <td>3.132530</td>\n",
       "    </tr>\n",
       "    <tr>\n",
       "      <th>41497820</th>\n",
       "      <td>41497820</td>\n",
       "      <td>3.132530</td>\n",
       "    </tr>\n",
       "    <tr>\n",
       "      <th>41498070</th>\n",
       "      <td>41498070</td>\n",
       "      <td>3.132530</td>\n",
       "    </tr>\n",
       "    <tr>\n",
       "      <th>41498320</th>\n",
       "      <td>41498320</td>\n",
       "      <td>3.132530</td>\n",
       "    </tr>\n",
       "    <tr>\n",
       "      <th>41498570</th>\n",
       "      <td>41498570</td>\n",
       "      <td>3.132530</td>\n",
       "    </tr>\n",
       "  </tbody>\n",
       "</table>\n",
       "<p>41697600 rows × 2 columns</p>\n",
       "</div>"
      ],
      "text/plain": [
       "            row_id  meter_reading\n",
       "0                0       0.367177\n",
       "129            129       0.367177\n",
       "258            258       0.367177\n",
       "387            387       0.367177\n",
       "516            516       0.367177\n",
       "...            ...            ...\n",
       "41497570  41497570       3.132530\n",
       "41497820  41497820       3.132530\n",
       "41498070  41498070       3.132530\n",
       "41498320  41498320       3.132530\n",
       "41498570  41498570       3.132530\n",
       "\n",
       "[41697600 rows x 2 columns]"
      ]
     },
     "execution_count": 50,
     "metadata": {},
     "output_type": "execute_result"
    }
   ],
   "source": [
    "my_submission"
   ]
  },
  {
   "cell_type": "code",
   "execution_count": null,
   "metadata": {
    "papermill": {
     "duration": 0.063022,
     "end_time": "2021-02-24T21:57:57.394265",
     "exception": false,
     "start_time": "2021-02-24T21:57:57.331243",
     "status": "completed"
    },
    "tags": []
   },
   "outputs": [],
   "source": []
  }
 ],
 "metadata": {
  "kernelspec": {
   "display_name": "Python 3",
   "language": "python",
   "name": "python3"
  },
  "language_info": {
   "codemirror_mode": {
    "name": "ipython",
    "version": 3
   },
   "file_extension": ".py",
   "mimetype": "text/x-python",
   "name": "python",
   "nbconvert_exporter": "python",
   "pygments_lexer": "ipython3",
   "version": "3.7.9"
  },
  "papermill": {
   "default_parameters": {},
   "duration": 755.695627,
   "end_time": "2021-02-24T21:57:58.171619",
   "environment_variables": {},
   "exception": null,
   "input_path": "__notebook__.ipynb",
   "output_path": "__notebook__.ipynb",
   "parameters": {},
   "start_time": "2021-02-24T21:45:22.475992",
   "version": "2.2.2"
  }
 },
 "nbformat": 4,
 "nbformat_minor": 4
}
