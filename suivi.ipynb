{
  "nbformat": 4,
  "nbformat_minor": 0,
  "metadata": {
    "colab": {
      "name": "suivi",
      "provenance": []
    },
    "kernelspec": {
      "name": "python3",
      "display_name": "Python 3"
    }
  },
  "cells": [
    {
      "cell_type": "markdown",
      "metadata": {
        "id": "F5oZa3kKWTws"
      },
      "source": [
        "# Objective for the week from 01 February to 07 February 2021\r\n",
        "\r\n",
        " - Data mining\r\n",
        " - Data processing and cleaning\r\n",
        " - Descriptive statistics\r\n",
        " - Proposal of a first model"
      ]
    },
    {
      "cell_type": "code",
      "metadata": {
        "id": "-1BGS9yAW3B1"
      },
      "source": [
        ""
      ],
      "execution_count": null,
      "outputs": []
    }
  ]
}